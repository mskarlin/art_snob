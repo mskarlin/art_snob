{
 "cells": [
  {
   "cell_type": "code",
   "execution_count": 1,
   "metadata": {},
   "outputs": [],
   "source": [
    "import sys\n",
    "import os\n",
    "sys.path.insert(0,f'{os.getcwd()}/../art_snob_primrose/')"
   ]
  },
  {
   "cell_type": "code",
   "execution_count": 2,
   "metadata": {},
   "outputs": [],
   "source": [
    "from src.datastore_reader import DataStoreReader\n",
    "from src.list_flattener import ListFlattener"
   ]
  },
  {
   "cell_type": "code",
   "execution_count": 3,
   "metadata": {
    "scrolled": true
   },
   "outputs": [
    {
     "name": "stderr",
     "output_type": "stream",
     "text": [
      "/Users/mike/Projects/art_snob/.env_art_snob_primrose/lib/python3.7/site-packages/google/auth/_default.py:69: UserWarning: Your application has authenticated using end user credentials from Google Cloud SDK. We recommend that most server applications use service accounts instead. If your application continues to use end user credentials from Cloud SDK, you might receive a \"quota exceeded\" or \"API not enabled\" error. For more information about service accounts, see https://cloud.google.com/docs/authentication/\n",
      "  warnings.warn(_CLOUD_SDK_CREDENTIALS_WARNING)\n",
      "2020-07-06 11:23:17,073 INFO datastore_reader.py execute: Starting datastore read from kind: 07032020-images-full-embed\n",
      "2020-07-06 11:23:34,643 INFO datastore_reader.py execute: Stopping query at 1020 records\n",
      "2020-07-06 11:23:34,644 INFO datastore_reader.py execute: Read down 1020 records from kind: 07032020-images-full-embed\n"
     ]
    }
   ],
   "source": [
    "# get all the features from datastore\n",
    "project='artsnob-1'\n",
    "kind='07032020-images-full-embed'\n",
    "\n",
    "dsr = DataStoreReader()\n",
    "features = dsr.execute(project, kind, max_records=1000)"
   ]
  },
  {
   "cell_type": "code",
   "execution_count": 4,
   "metadata": {},
   "outputs": [],
   "source": [
    "lf = ListFlattener()\n",
    "flat_data = lf.execute(features['reader_data'], 'embeddings')"
   ]
  },
  {
   "cell_type": "code",
   "execution_count": 5,
   "metadata": {},
   "outputs": [
    {
     "name": "stderr",
     "output_type": "stream",
     "text": [
      "/Users/mike/Projects/art_snob/.env_art_snob_primrose/lib/python3.7/site-packages/umap/spectral.py:4: NumbaDeprecationWarning: No direct replacement for 'numba.targets' available. Visit https://gitter.im/numba/numba-dev to request help. Thanks!\n",
      "  import numba.targets\n"
     ]
    }
   ],
   "source": [
    "from src.umap_pipeline import UmapPipeline"
   ]
  },
  {
   "cell_type": "code",
   "execution_count": 6,
   "metadata": {},
   "outputs": [],
   "source": [
    "ump = UmapPipeline()\n",
    "ump.init_pipeline()\n",
    "model = ump.fit(flat_data['flat_list'])"
   ]
  },
  {
   "cell_type": "code",
   "execution_count": 7,
   "metadata": {},
   "outputs": [],
   "source": [
    "transformed_data = ump.transform(flat_data['flat_list'])"
   ]
  },
  {
   "cell_type": "code",
   "execution_count": 8,
   "metadata": {},
   "outputs": [],
   "source": [
    "from src.annoy_index_pipeline import AnnoyPipeline"
   ]
  },
  {
   "cell_type": "code",
   "execution_count": 10,
   "metadata": {},
   "outputs": [
    {
     "name": "stderr",
     "output_type": "stream",
     "text": [
      "2020-07-06 11:23:46,620 INFO annoy_transformer.py fit: 1020 index vectors are found, loading into index...\n",
      "2020-07-06 11:23:46,629 INFO annoy_transformer.py fit: Starting index build with 1000 trees...\n",
      "2020-07-06 11:23:47,208 INFO annoy_transformer.py fit: Index is successfully built.\n"
     ]
    }
   ],
   "source": [
    "ap = AnnoyPipeline()\n",
    "ap.init_pipeline(transformed_data['umap_data'], num_trees=1000)\n",
    "index = ap.fit(transformed_data['umap_data'], flat_data['key_list'])\n",
    "indexed_data = ap.transform(flat_data['key_list'])"
   ]
  },
  {
   "cell_type": "code",
   "execution_count": null,
   "metadata": {},
   "outputs": [],
   "source": []
  }
 ],
 "metadata": {
  "kernelspec": {
   "display_name": "artsnobprimrose2020work",
   "language": "python",
   "name": "artsnobprimrose2020work"
  },
  "language_info": {
   "codemirror_mode": {
    "name": "ipython",
    "version": 3
   },
   "file_extension": ".py",
   "mimetype": "text/x-python",
   "name": "python",
   "nbconvert_exporter": "python",
   "pygments_lexer": "ipython3",
   "version": "3.7.7"
  }
 },
 "nbformat": 4,
 "nbformat_minor": 4
}
