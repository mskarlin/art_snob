{
 "cells": [
  {
   "cell_type": "code",
   "execution_count": 1,
   "metadata": {},
   "outputs": [],
   "source": [
    "import requests\n",
    "from IPython.display import Image"
   ]
  },
  {
   "cell_type": "code",
   "execution_count": 4,
   "metadata": {},
   "outputs": [],
   "source": [
    "def view_art(art):\n",
    "    tags = {}\n",
    "    clusters = {}\n",
    "#     for a in art:\n",
    "#         for t in a['standard_tags']:\n",
    "#             if t in tags:\n",
    "#                 tags[t]+=1\n",
    "#             else:\n",
    "#                 tags[t]=1\n",
    "#         try:\n",
    "#             if a['metadata']['cluster_id'] in clusters:\n",
    "#                 clusters[a['metadata']['cluster_id']]+=1\n",
    "#             else:\n",
    "#                 clusters[a['metadata']['cluster_id']]=1\n",
    "#         except:\n",
    "#             pass\n",
    "\n",
    "    print(f'TAGS: {sorted(tags, key=lambda x:-tags[x])}')\n",
    "    print(f'CLUSTERS: {sorted(clusters, key=lambda x:-clusters[x])}')\n",
    "\n",
    "    \n",
    "    for a in art:\n",
    "        art = a['images']\n",
    "        print(a['id'])\n",
    "        display(Image(\"https://storage.googleapis.com/artsnob-image-scrape/\"+art, width=400, height=400))\n"
   ]
  },
  {
   "cell_type": "code",
   "execution_count": null,
   "metadata": {},
   "outputs": [],
   "source": [
    "TAGS=['boho']\n",
    "d=requests.get(f'http://localhost:8000/tags/Boho?n_return=25&return_clusters=true')\n",
    "view_art(d.json()['art'])"
   ]
  },
  {
   "cell_type": "code",
   "execution_count": null,
   "metadata": {
    "scrolled": false
   },
   "outputs": [],
   "source": [
    "CLUSTER=43\n",
    "\n",
    "d=requests.get(f'http://localhost:8000/clusters/{CLUSTER}?n_return=35')\n",
    "view_art(d.json()['art'])"
   ]
  },
  {
   "cell_type": "code",
   "execution_count": 121,
   "metadata": {},
   "outputs": [],
   "source": [
    "import pandas as pd"
   ]
  },
  {
   "cell_type": "code",
   "execution_count": 122,
   "metadata": {},
   "outputs": [],
   "source": [
    "vibes = pd.read_csv('tag counts for deco art - Vibes (2).csv')"
   ]
  },
  {
   "cell_type": "code",
   "execution_count": 127,
   "metadata": {},
   "outputs": [],
   "source": [
    "vibes.Tags = vibes.Tags.fillna(' ')"
   ]
  },
  {
   "cell_type": "code",
   "execution_count": 128,
   "metadata": {},
   "outputs": [],
   "source": [
    "vibes.Tags = vibes.Tags.map(lambda x: [i.strip(' ') for i in x.split(',')])\n",
    "vibes.Clusters = vibes.Clusters.map(lambda x: [int(i.strip(' ')) for i in x.split(',')])\n",
    "\n",
    "vibes = vibes.to_dict(orient='records')"
   ]
  },
  {
   "cell_type": "code",
   "execution_count": 130,
   "metadata": {},
   "outputs": [
    {
     "name": "stderr",
     "output_type": "stream",
     "text": [
      "/Users/mike/Projects/envs/.env_deco_primrose/lib/python3.7/site-packages/google/auth/_default.py:69: UserWarning: Your application has authenticated using end user credentials from Google Cloud SDK. We recommend that most server applications use service accounts instead. If your application continues to use end user credentials from Cloud SDK, you might receive a \"quota exceeded\" or \"API not enabled\" error. For more information about service accounts, see https://cloud.google.com/docs/authentication/\n",
      "  warnings.warn(_CLOUD_SDK_CREDENTIALS_WARNING)\n"
     ]
    }
   ],
   "source": [
    "import sys\n",
    "import os\n",
    "sys.path.insert(0,f'{os.getcwd()}/../art_snob_primrose/')\n",
    "sys.path.insert(0,f'{os.getcwd()}/../')\n",
    "\n",
    "from utilities.datastore_helpers import DataStoreInterface\n",
    "\n",
    "dsi = DataStoreInterface(project='artsnob-1')"
   ]
  },
  {
   "cell_type": "code",
   "execution_count": 131,
   "metadata": {},
   "outputs": [],
   "source": [
    "dsi.update(data_list=vibes, kind='12132020-vibes')"
   ]
  }
 ],
 "metadata": {
  "kernelspec": {
   "display_name": "deco_primrose",
   "language": "python",
   "name": "deco_primrose"
  },
  "language_info": {
   "codemirror_mode": {
    "name": "ipython",
    "version": 3
   },
   "file_extension": ".py",
   "mimetype": "text/x-python",
   "name": "python",
   "nbconvert_exporter": "python",
   "pygments_lexer": "ipython3",
   "version": "3.7.7"
  }
 },
 "nbformat": 4,
 "nbformat_minor": 4
}
