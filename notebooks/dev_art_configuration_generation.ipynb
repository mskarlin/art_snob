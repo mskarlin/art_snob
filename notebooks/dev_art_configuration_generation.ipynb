{
 "cells": [
  {
   "cell_type": "code",
   "execution_count": 694,
   "metadata": {},
   "outputs": [],
   "source": [
    "import matplotlib.pyplot as plt\n",
    "import random\n",
    "import math\n",
    "import copy\n",
    "import uuid\n",
    "import pandas as pd\n",
    "%matplotlib inline"
   ]
  },
  {
   "cell_type": "code",
   "execution_count": null,
   "metadata": {},
   "outputs": [],
   "source": [
    "[10,12] # no size means this or the next (can be either orientation)\n",
    "[12,12] # also for no size \n",
    "[15,21] # can be either orientation\n",
    "[20,26] # can be either orientation\n",
    "[22,22] # can be either\n",
    "[26,38] # can be either\n",
    "# add 1 in for each width-- so we've got x-small\n",
    "# so in a 14 inch grid -- we can do: \n",
    "# xsmall within 1\n",
    "# small within 2\n",
    "[12, 14] # 1x1 # if we allow the 175 px to be 45 inches, then we're looking at 3.89 pixels per inch\n",
    "[14, 14] # 1x1\n",
    "[17, 23] # 2x2\n",
    "[22, 28] # 2x2\n",
    "[24, 24] # 2x2\n",
    "[28, 40] # 2x3"
   ]
  },
  {
   "cell_type": "code",
   "execution_count": 565,
   "metadata": {},
   "outputs": [],
   "source": [
    "PPI = 3\n",
    "\n",
    "WTYPES = {'p_xsmall': [12*PPI, 14*PPI], 'l_xsmall': [14*PPI, 12*PPI],\n",
    "              'xsmall': [14*PPI, 14*PPI], 'p_small': [17*PPI, 23*PPI], 'l_small': [23*PPI, 17*PPI],\n",
    "              'p_medium': [22*PPI, 28*PPI], 'l_medium': [28*PPI, 22*PPI], 'medium': [24*PPI, 24*PPI],\n",
    "              'p_large': [28*PPI, 40*PPI], 'l_large': [40*PPI, 28*PPI]}\n",
    "\n",
    "ALIGN_CHOICES = ['bottom', 'top', 'left', 'right', 'centerx', 'centery']\n",
    "\n",
    "DESTINATIONS = {'bottom': ['posx_top', 'posx_bottom', 'negx_top', 'negx_bottom'],\n",
    "                     'top': ['posx_top', 'posx_bottom', 'negx_top', 'negx_bottom'],\n",
    "                     'left': ['posy_left', 'posy_right', 'negy_left', 'negy_right'],\n",
    "                     'right': ['posy_left', 'posy_right', 'negy_left', 'negy_right'],\n",
    "                     'centerx': ['posy_centerx', 'negy_centerx', 'posy_left', 'negy_left', 'posy_right', 'negy_right'],\n",
    "                      'centery': ['posx_centery', 'negx_centery', 'posx_top', 'negx_top', 'posx_bottom', 'posx_top']  \n",
    "                        }"
   ]
  },
  {
   "cell_type": "code",
   "execution_count": 1043,
   "metadata": {},
   "outputs": [
    {
     "data": {
      "text/plain": [
       "280"
      ]
     },
     "execution_count": 1043,
     "metadata": {},
     "output_type": "execute_result"
    }
   ],
   "source": [
    "\"\"\"Number of alignment choices per node\"\"\"\n",
    "len(WTYPES) * sum([len(DESTINATIONS[ac]) for ac in ALIGN_CHOICES])"
   ]
  },
  {
   "cell_type": "code",
   "execution_count": 1035,
   "metadata": {},
   "outputs": [],
   "source": [
    "# back to square 0 acting like its an optimization function -- we can set the space then fill it, \n",
    "# but there needs to be some sort of placement algorithm... probably a heuristic\n",
    "\n",
    "# WTYPES = {'p_small': [17*PPI, 23*PPI], 'l_small': [23*PPI, 17*PPI]}\n",
    "\n",
    "class Work():\n",
    "    \n",
    "    wtypes = WTYPES\n",
    "    \n",
    "    align_choices = ALIGN_CHOICES\n",
    "    \n",
    "    # goes desttranslate_destalign\n",
    "    destinations = DESTINATIONS\n",
    "    \n",
    "    def __init__(self, wtype, ll_position=(0,0), creation_metadata=None):\n",
    "        self.wtype = wtype\n",
    "        self.id = str(uuid.uuid4())\n",
    "        self.size = self.wtypes[wtype]\n",
    "        self.ll_position = ll_position        \n",
    "        self.creation_metadata = creation_metadata\n",
    "        \n",
    "    @property\n",
    "    def bottom(self):\n",
    "        return self.ll_position[1]\n",
    "    \n",
    "    @property\n",
    "    def top(self):\n",
    "        return self.ll_position[1]+self.size[1]\n",
    "    \n",
    "    @property\n",
    "    def left(self):\n",
    "        return self.ll_position[0]\n",
    "    \n",
    "    @property\n",
    "    def right(self):\n",
    "        return self.ll_position[0]+self.size[0]\n",
    "\n",
    "    @property\n",
    "    def centerx(self):\n",
    "        return self.ll_position[0]+self.size[0]/2\n",
    "    \n",
    "    @property\n",
    "    def centery(self):\n",
    "        return self.ll_position[1]+self.size[1]/2\n",
    "\n",
    "    @property\n",
    "    def area(self):\n",
    "        return self.size[0]*self.size[1]\n",
    "    \n",
    "    def rotate(self):\n",
    "        if 'p_' in self.wtype:\n",
    "            self.wtype.replace('p_', 'l_')\n",
    "        elif 'l_' in self.wtype:\n",
    "            self.wtype.replace('l_', 'p_')\n",
    "        self.size = self.wtypes[self.wtype]\n",
    "    \n",
    "    def spawn_work(self, wtype='random', how_source='random', how_target='random', spacing=10*PPI):\n",
    "        \n",
    "        if wtype == 'random':\n",
    "            wtype = random.choice(list(self.wtypes.keys()))\n",
    "        \n",
    "        if how_source == 'random':\n",
    "            how_source = random.choice(self.align_choices)\n",
    "        \n",
    "        if how_target == 'random':\n",
    "            how_target = random.choice(self.destinations[how_source])\n",
    "        \n",
    "        source_shared_loc = getattr(self, how_source)\n",
    "        \n",
    "        shift_dir, target_align = how_target.split('_')\n",
    "        \n",
    "        if shift_dir == 'posx':\n",
    "            target_loc = self.ll_position[0]+self.size[0]+spacing\n",
    "        elif shift_dir == 'posy':\n",
    "            target_loc = self.ll_position[1]+self.size[1]+spacing\n",
    "        elif shift_dir == 'negx':\n",
    "            target_loc = self.ll_position[0]-spacing-self.wtypes[wtype][0]\n",
    "        elif shift_dir == 'negy':\n",
    "            target_loc = self.ll_position[1]-spacing-self.wtypes[wtype][1]\n",
    "        \n",
    "#         print(f\"{how_source}->{how_target}\")\n",
    "#         print(source_shared_loc)\n",
    "        \n",
    "        if target_align == 'top':\n",
    "            source_shared_loc -= self.wtypes[wtype][1]\n",
    "        elif target_align == 'right':\n",
    "            source_shared_loc -= self.wtypes[wtype][0]\n",
    "        elif target_align == 'centerx':\n",
    "            source_shared_loc -= self.wtypes[wtype][0]/2\n",
    "        elif target_align == 'centery':\n",
    "            source_shared_loc -= self.wtypes[wtype][1]/2\n",
    "        \n",
    "        if 'x' in shift_dir:\n",
    "            new_pos = (target_loc, source_shared_loc)\n",
    "        else:\n",
    "            new_pos = (source_shared_loc, target_loc)\n",
    "            \n",
    "        return Work(wtype, new_pos, creation_metadata=f\"{self.id}:{how_source}->{how_target}\")\n",
    "\n",
    "    \n",
    "class WallSpace():\n",
    "    \n",
    "    def __init__(self, wallheight=80*PPI, wallwidth=80*PPI, nworks=4, seed_work='p_small', seed_position=None,\n",
    "                symmetric_center=None):\n",
    "        self.nworks = nworks\n",
    "        self.height = wallheight\n",
    "        self.width = wallwidth\n",
    "        if seed_position is None:\n",
    "            seed_position = (self.width/2-Work.wtypes[seed_work][0]/2, self.height/2-Work.wtypes[seed_work][1]/2)    \n",
    "        self.works = [Work(seed_work, ll_position=seed_position)]\n",
    "        self.symmetric_center = symmetric_center\n",
    "        if symmetric_center is None:\n",
    "            self.symmetric_center = (self.works[0].centerx, self.works[0].centery)\n",
    "    \n",
    "    def show_wall(self):\n",
    "        plt.axes()\n",
    "        for work in self.works:\n",
    "            rectangle = plt.Rectangle(work.ll_position, work.size[0], work.size[1], fc='r', lw=1, ec='k')\n",
    "            plt.gca().add_patch(rectangle)\n",
    "\n",
    "        plt.axis('scaled')\n",
    "        plt.xlim(0, self.width)\n",
    "        plt.ylim(0, self.height)\n",
    "        plt.show()\n",
    "    \n",
    "    \n",
    "    def symmetry(self, works):\n",
    "        # calculate the symmetry here \n",
    "        symmetryx = 0\n",
    "        symmetryy = 0\n",
    "        totarea = 0\n",
    "        for work in works:\n",
    "            totarea += work.area\n",
    "            symmetryx += work.area * (work.centerx - self.symmetric_center[0])\n",
    "            symmetryy += work.area * (work.centery - self.symmetric_center[1])\n",
    "            \n",
    "        return math.sqrt((symmetryx/totarea)**2 + (symmetryy/totarea)**2)\n",
    "    \n",
    "    @property\n",
    "    def average_separation(self):\n",
    "        # get the average centroid distance n^2 calc for the works\n",
    "        total_average_dist = 0\n",
    "        for work in self.works:\n",
    "            dist = 0\n",
    "            for dwork in self.works:\n",
    "                \n",
    "                if work.id != dwork.id:\n",
    "                    xdist = abs(work.centerx - dwork.centerx) - (work.size[0]/2 + dwork.size[0]/2)\n",
    "                    ydist = abs(work.centery - dwork.centery) - (work.size[1]/2 + dwork.size[1]/2)\n",
    "                    dist += math.sqrt(xdist**2 + ydist**2)\n",
    "                    \n",
    "            total_average_dist += dist / (len(self.works)-1)\n",
    "        return total_average_dist\n",
    "    \n",
    "    @property\n",
    "    def magic_metric(self):\n",
    "        return (2*self.symmetry + 0*self.average_separation) / (2.)\n",
    "        \n",
    "    def check_valid(self, testwork, spacing=10*PPI):\n",
    "        \n",
    "        if testwork.bottom < 0:\n",
    "            return False\n",
    "        elif testwork.left < 0:\n",
    "            return False\n",
    "        elif testwork.right > self.width:\n",
    "            return False\n",
    "        elif testwork.top > self.height:\n",
    "            return False\n",
    "        \n",
    "        # look at all the art to see it's overlapping\n",
    "        for work in self.works:\n",
    "            if abs(testwork.centerx - work.centerx) < (testwork.size[0]/2. + work.size[0]/2. + spacing) and \\\n",
    "                 abs(testwork.centery - work.centery) < (testwork.size[1]/2. + work.size[1]/2. + spacing):\n",
    "                return False\n",
    "        \n",
    "        return True\n",
    "    \n",
    "    def realign_center(self):\n",
    "        \n",
    "        weighted_centroidx = sum([work.centerx*work.area for work in self.works]) / sum([work.area for work in self.works])\n",
    "        weighted_centroidy = sum([work.centery*work.area for work in self.works]) / sum([work.area for work in self.works])\n",
    "#         print(weighted_centroidx, weighted_centroidy)\n",
    "#         print(self.width / 2 , self.height / 2)\n",
    "        for work in self.works:\n",
    "            work.ll_position = (work.ll_position[0] + (self.width / 2 - weighted_centroidx),\n",
    "                                work.ll_position[1] + (self.height / 2 - weighted_centroidy))\n",
    "    \n",
    "#     def _chain_of_works(self, seed_works, n, spacing):\n",
    "        \n",
    "#         chain_works = []\n",
    "        \n",
    "#         while \n",
    "        \n",
    "#         tmp_work = seed_work.spawn_work(spacing=spacing)\n",
    "        \n",
    "#         if self.check_valid(tmp_work, spacing=spacing):\n",
    "    \n",
    "    def _single_wall(self, spacing, trialloops, maxloops, pruning=False):\n",
    "        # recursively search going down at least N layers deep for the best symmetry\n",
    "        \n",
    "        while len(self.works) < self.nworks:\n",
    "            \n",
    "            # loop across all works\n",
    "            tmp_works = []\n",
    "\n",
    "            for seed_work in copy.copy(self.works):\n",
    "                \n",
    "                loopn = 0\n",
    "                \n",
    "                while (loopn < trialloops) or (loopn < maxloops and len(tmp_works) == 0):\n",
    "                    \n",
    "                    # here we can pull out seed works\n",
    "                    tmp_work = seed_work.spawn_work(spacing=spacing)\n",
    "                    \n",
    "                    if self.check_valid(tmp_work, spacing=spacing):\n",
    "                        self.works.append(tmp_work)\n",
    "                        tmp_works.append((tmp_work, copy.copy(self.magic_metric)))\n",
    "                        self.works = self.works[:-1]\n",
    "                    loopn+=1\n",
    "\n",
    "            if len(tmp_works) == 0:\n",
    "                break\n",
    "                \n",
    "            else:\n",
    "                seedcount = 0\n",
    "                self.works.append(sorted(tmp_works, key=lambda x: x[1])[0][0])\n",
    "                \n",
    "        if pruning:\n",
    "            keeps = random.randint(1,min(3, len(self.works)-1))\n",
    "            self.works = random.sample(self.works, len(self.works)-keeps)\n",
    "            self._single_wall(spacing, trialloops, maxloops, False)\n",
    "    \n",
    "    def generate_wall(self, spacing=10*PPI, trialloops=50, maxloops=1000, epics=1000, pruning=True):\n",
    "        \n",
    "        initial_works = copy.copy(self.works)\n",
    "        epic_candidates = []\n",
    "        \n",
    "        for epic in range(epics):\n",
    "            if epic%100 == 0 and epic > 0:\n",
    "                print(f'EPIC: {epic}')\n",
    "            self.works = copy.copy(initial_works)\n",
    "            self._single_wall(spacing, trialloops, maxloops, pruning)\n",
    "            epic_candidates.append((copy.copy(self.works), copy.copy(self.magic_metric)))\n",
    "        \n",
    "        self.works = sorted(epic_candidates, key=lambda x: x[1])[0][0]\n",
    "        \n",
    "#         self.realign_center()\n",
    "\n",
    "        return pd.DataFrame({'symmetries': [s[1] for s in epic_candidates]})\n",
    "                "
   ]
  },
  {
   "cell_type": "code",
   "execution_count": 1045,
   "metadata": {},
   "outputs": [
    {
     "name": "stdout",
     "output_type": "stream",
     "text": [
      "EPIC: 100\n",
      "EPIC: 200\n",
      "EPIC: 300\n",
      "EPIC: 400\n",
      "EPIC: 500\n",
      "EPIC: 600\n",
      "EPIC: 700\n",
      "EPIC: 800\n",
      "EPIC: 900\n"
     ]
    },
    {
     "data": {
      "image/png": "[encoded data removed]",
      "text/plain": [
       "<Figure size 432x288 with 1 Axes>"
      ]
     },
     "metadata": {
      "needs_background": "light"
     },
     "output_type": "display_data"
    }
   ],
   "source": [
    "ws = WallSpace(nworks=3, seed_work='medium', seed_position=(40*PPI+5*PPI/2, 40*PPI+5*PPI/2), symmetric_center=(40*PPI, 40*PPI))\n",
    "sym = ws.generate_wall(spacing=5*PPI, pruning=False)\n",
    "ws.show_wall()"
   ]
  },
  {
   "cell_type": "code",
   "execution_count": 810,
   "metadata": {},
   "outputs": [
    {
     "name": "stdout",
     "output_type": "stream",
     "text": [
      "[('2f1f1372-e76c-4d1b-9586-a8aa7947262d', (10, 94.5)), ('b8d40310-e309-4cfd-b416-d59edf4656eb', (94, 87.0)), ('57ffcc5d-29b9-4359-828a-ca17bd224bd2', (193, 99.0)), ('b49e8daa-598b-4294-b894-f3530d16520a', (115.0, 36.0)), ('c5ea092c-a35d-415e-b071-ea38c8b5e8de', (94, 168.0))]\n",
      "[None, '2f1f1372-e76c-4d1b-9586-a8aa7947262d:centery->posx_centery', 'b8d40310-e309-4cfd-b416-d59edf4656eb:centery->posx_centery', 'b8d40310-e309-4cfd-b416-d59edf4656eb:centerx->negy_centerx', 'b8d40310-e309-4cfd-b416-d59edf4656eb:left->posy_left']\n"
     ]
    }
   ],
   "source": [
    "print([(w.id, w.ll_position) for w in ws.works])\n",
    "print([w.creation_metadata for w in ws.works])"
   ]
  },
  {
   "cell_type": "code",
   "execution_count": null,
   "metadata": {},
   "outputs": [],
   "source": []
  },
  {
   "cell_type": "code",
   "execution_count": null,
   "metadata": {},
   "outputs": [],
   "source": [
    "# maybe the symmetry shouldn't be based on raw distance, but rather the gap distance times the area..."
   ]
  },
  {
   "cell_type": "code",
   "execution_count": null,
   "metadata": {},
   "outputs": [],
   "source": []
  },
  {
   "cell_type": "code",
   "execution_count": 113,
   "metadata": {},
   "outputs": [],
   "source": [
    "a=[(1,10), (2,-1)]"
   ]
  },
  {
   "cell_type": "code",
   "execution_count": 117,
   "metadata": {},
   "outputs": [
    {
     "ename": "AttributeError",
     "evalue": "'list' object has no attribute 'head'",
     "output_type": "error",
     "traceback": [
      "\u001b[0;31m---------------------------------------------------------------------------\u001b[0m",
      "\u001b[0;31mAttributeError\u001b[0m                            Traceback (most recent call last)",
      "\u001b[0;32m<ipython-input-117-43d1147d61e8>\u001b[0m in \u001b[0;36m<module>\u001b[0;34m\u001b[0m\n\u001b[0;32m----> 1\u001b[0;31m \u001b[0msorted\u001b[0m\u001b[0;34m(\u001b[0m\u001b[0ma\u001b[0m\u001b[0;34m,\u001b[0m \u001b[0mkey\u001b[0m\u001b[0;34m=\u001b[0m\u001b[0;32mlambda\u001b[0m \u001b[0mx\u001b[0m\u001b[0;34m:\u001b[0m \u001b[0mx\u001b[0m\u001b[0;34m[\u001b[0m\u001b[0;36m1\u001b[0m\u001b[0;34m]\u001b[0m\u001b[0;34m)\u001b[0m\u001b[0;34m.\u001b[0m\u001b[0mhead\u001b[0m\u001b[0;34m(\u001b[0m\u001b[0;34m)\u001b[0m\u001b[0;34m\u001b[0m\u001b[0;34m\u001b[0m\u001b[0m\n\u001b[0m",
      "\u001b[0;31mAttributeError\u001b[0m: 'list' object has no attribute 'head'"
     ]
    }
   ],
   "source": []
  },
  {
   "cell_type": "code",
   "execution_count": 111,
   "metadata": {},
   "outputs": [
    {
     "name": "stdout",
     "output_type": "stream",
     "text": [
      "centerx\n",
      "118.0\n"
     ]
    },
    {
     "data": {
      "image/png": "[encoded data removed]",
      "text/plain": [
       "<Figure size 432x288 with 1 Axes>"
      ]
     },
     "metadata": {
      "needs_background": "light"
     },
     "output_type": "display_data"
    }
   ],
   "source": [
    "work = Work('p_xsmall', ll_position=(100,100))\n",
    "nwork = work.spawn_work()\n",
    "plot_boxes([work, nwork])"
   ]
  }
 ],
 "metadata": {
  "kernelspec": {
   "display_name": "artsnobprimrose2020work",
   "language": "python",
   "name": "artsnobprimrose2020work"
  },
  "language_info": {
   "codemirror_mode": {
    "name": "ipython",
    "version": 3
   },
   "file_extension": ".py",
   "mimetype": "text/x-python",
   "name": "python",
   "nbconvert_exporter": "python",
   "pygments_lexer": "ipython3",
   "version": "3.7.7"
  }
 },
 "nbformat": 4,
 "nbformat_minor": 4
}
