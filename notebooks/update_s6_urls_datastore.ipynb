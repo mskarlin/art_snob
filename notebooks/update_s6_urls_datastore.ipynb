{
 "cells": [
  {
   "cell_type": "code",
   "execution_count": null,
   "metadata": {},
   "outputs": [],
   "source": [
    "\"\"\"Ultimately this wasn't needed as the original datastore data was totally fine, we updated the code to check \n",
    "against the right URL rather than the sitemap version.\"\"\""
   ]
  },
  {
   "cell_type": "code",
   "execution_count": null,
   "metadata": {},
   "outputs": [],
   "source": [
    "import requests\n",
    "from xml.etree import ElementTree"
   ]
  },
  {
   "cell_type": "code",
   "execution_count": null,
   "metadata": {},
   "outputs": [],
   "source": [
    "sitemap_urls = (\"https://society6.com/sitemap/product/prints/prints_1.xml\",\n",
    "                    \"https://society6.com/sitemap/product/prints/prints_2.xml\")"
   ]
  },
  {
   "cell_type": "code",
   "execution_count": null,
   "metadata": {},
   "outputs": [],
   "source": [
    "all_sites = []\n",
    "\n",
    "for sitemap in sitemap_urls:\n",
    "    sm = requests.get(sitemap_urls[0])\n",
    "    root = ElementTree.fromstring(sm.content)\n",
    "    children = [c for c in root.getchildren()]\n",
    "    for child in children:\n",
    "        loc, img = child.getchildren()\n",
    "        all_sites.append(loc.text)"
   ]
  },
  {
   "cell_type": "code",
   "execution_count": null,
   "metadata": {},
   "outputs": [],
   "source": [
    "import sys\n",
    "import os\n",
    "sys.path.insert(0,f'{os.getcwd()}/../art_snob_primrose/')\n",
    "from src.datastore_reader import DataStoreReader\n",
    "from src.list_flattener import ListFlattener"
   ]
  },
  {
   "cell_type": "code",
   "execution_count": null,
   "metadata": {
    "scrolled": true
   },
   "outputs": [],
   "source": [
    "# get all the features from datastore\n",
    "project='artsnob-1'\n",
    "kind='scraped-image-data'\n",
    "\n",
    "dsr = DataStoreReader()\n",
    "entities = dsr.execute(project, kind, max_records=10)"
   ]
  },
  {
   "cell_type": "code",
   "execution_count": null,
   "metadata": {},
   "outputs": [],
   "source": [
    "all_sites[0].split('#')[0]"
   ]
  },
  {
   "cell_type": "code",
   "execution_count": null,
   "metadata": {},
   "outputs": [],
   "source": [
    "ds = datastore.Client(project='artsnob-1')\n",
    "\n",
    "for key, entity in entities['reader_data'].items():\n",
    "    entity['page_url']"
   ]
  }
 ],
 "metadata": {
  "kernelspec": {
   "display_name": "artsnobprimrose2020work",
   "language": "python",
   "name": "artsnobprimrose2020work"
  },
  "language_info": {
   "codemirror_mode": {
    "name": "ipython",
    "version": 3
   },
   "file_extension": ".py",
   "mimetype": "text/x-python",
   "name": "python",
   "nbconvert_exporter": "python",
   "pygments_lexer": "ipython3",
   "version": "3.7.7"
  }
 },
 "nbformat": 4,
 "nbformat_minor": 4
}
