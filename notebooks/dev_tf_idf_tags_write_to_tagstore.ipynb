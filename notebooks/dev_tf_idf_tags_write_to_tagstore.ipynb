{
 "cells": [
  {
   "cell_type": "code",
   "execution_count": 1,
   "metadata": {},
   "outputs": [],
   "source": [
    "import sys\n",
    "import os\n",
    "sys.path.insert(0,f'{os.getcwd()}/../art_snob_primrose/')\n",
    "from src.datastore_reader import DataStoreReader\n",
    "from src.list_flattener import ListFlattener\n",
    "import pandas as pd\n",
    "from sklearn.feature_extraction.text import TfidfTransformer\n",
    "import numpy as np"
   ]
  },
  {
   "cell_type": "code",
   "execution_count": 5,
   "metadata": {},
   "outputs": [],
   "source": [
    "from sklearn.feature_extraction.text import TfidfVectorizer"
   ]
  },
  {
   "cell_type": "code",
   "execution_count": 2,
   "metadata": {},
   "outputs": [
    {
     "name": "stderr",
     "output_type": "stream",
     "text": [
      "/Users/mike/Projects/envs/.env_deco_primrose/lib/python3.7/site-packages/google/auth/_default.py:69: UserWarning: Your application has authenticated using end user credentials from Google Cloud SDK. We recommend that most server applications use service accounts instead. If your application continues to use end user credentials from Cloud SDK, you might receive a \"quota exceeded\" or \"API not enabled\" error. For more information about service accounts, see https://cloud.google.com/docs/authentication/\n",
      "  warnings.warn(_CLOUD_SDK_CREDENTIALS_WARNING)\n",
      "2020-11-12 20:13:38,859 INFO datastore_reader.py execute: Starting datastore read from kind: frames-scraped-image-data\n",
      "2020-11-12 20:15:36,526 INFO datastore_reader.py execute: Read down 105000 records from kind: frames-scraped-image-data\n"
     ]
    }
   ],
   "source": [
    "# get all the features from datastore\n",
    "project='artsnob-1'\n",
    "kind='frames-scraped-image-data'\n",
    "\n",
    "dsr = DataStoreReader()\n",
    "entities = dsr.execute(project, kind, max_records=None)"
   ]
  },
  {
   "cell_type": "code",
   "execution_count": 17,
   "metadata": {},
   "outputs": [
    {
     "name": "stdout",
     "output_type": "stream",
     "text": [
      "<Entity('scraped-image-data', 4506192825024512) {'page_url': 'https://society6.com/product/big-trouble-in-little-china-lo-pan-zqv_print', 'checksum': '8a7407f9356ae1ad15736dc7a9898f81', 'sizes': 'X-Small 10\" X 6\"| | |$30.99|Small 19\" X 10\"| | |$38.99|Medium 23\" X 13\"| | |$49.99|Large 28\" X 15\"| | |$60.99|X-Large 40\" X 20\"| | |$92.99', 'artist': '', 'price': '$30.99', 'standard_tags': ['Movies-tv', 'Illustration', 'Humor', 'Pop-art'], 'image_urls': ['https://ctl.s6img.com/society6/img/cGiCI2kr1kBvU6j-ntacLDQoYsY/w_700/prints/~artwork/s6-0013/a/4321896_2028538/~~/big-trouble-in-little-china-lo-pan-zqv-prints.jpg?wait=0&attempt=0'], 'images': 'full/281ae75a2ff5c3176c3111286e861fc0a8812734.jpg', 'description': 'Set the tone of your room from the walls out—\"from the ground up\" is so dated. Mix and match your favorite art prints on a gallery wall showcasing everything that makes your style unique. Art prints available in five sizes, from x-small to x-large. *Exact sizing may vary slightly due to printing process, we advise waiting to buy frames until the prints arrive.\\n \\n - Natural white, matte, ultra smooth background \\n - 100% cotton, acid and lignin-free archival paper \\n - Custom trimmed with border for framing; 1\" for x-small and small, 2\" for all larger sizes \\n - Every order is custom made just for you \\n - For more info [click here](https://help.society6.com/hc/en-us/articles/226825667-About-Our-Products)\\n\\n **PRO TIP**: Keep a collection of extra prints on hand to refresh your space for any season or occasion.', 'name': 'Big Trouble in Little China - Lo Pan Art Print'}>\n",
      "<Entity('scraped-image-data', 4553514439147520) {'image_urls': ['https://ctl.s6img.com/society6/img/jBehLXEmhDX5nOFQk8qyd0vOnew/w_700/prints/~artwork/s6-original-art-uploads/society6/uploads/misc/05349c1c0266484897771097f6d9e0f0/~~/goldfish-mug-by-meow-bug-prints.jpg?wait=0&attempt=0'], 'images': 'full/b9cc67a880a94543dbfc1d0cb4633897860accb6.jpg', 'description': 'Set the tone of your room from the walls out—\"from the ground up\" is so dated. Mix and match your favorite art prints on a gallery wall showcasing everything that makes your style unique. Art prints available in five sizes, from x-small to x-large. *Exact sizing may vary slightly due to printing process, we advise waiting to buy frames until the prints arrive.\\n \\n - Natural white, matte, ultra smooth background \\n - 100% cotton, acid and lignin-free archival paper \\n - Custom trimmed with border for framing; 1\" for x-small and small, 2\" for all larger sizes \\n - Every order is custom made just for you \\n - For more info [click here](https://help.society6.com/hc/en-us/articles/226825667-About-Our-Products)\\n\\n **PRO TIP**: Keep a collection of extra prints on hand to refresh your space for any season or occasion.', 'name': 'Goldfish mug by meow_bug Art Print', 'page_url': 'https://society6.com/product/goldfish-mug-by-meow-bug_print', 'checksum': '3f7461119df9274812b078a8141a7e9b', 'sizes': 'X-Small 10\" X 5\"| | |$18.99|Small 19\" X 9\"| | |$23.99|Medium 23\" X 12\"| | |$29.99|Large 28\" X 14\"| | |$35.99|X-Large 40\" X 20\"| | |$53.99', 'price': '$18.99', 'standard_tags': ['Graphic-design', 'Digital'], 'artist': ''}>\n",
      "<Entity('scraped-image-data', 4605148871524352) {'sizes': 'X-Small 10\" X 6\"| | |$18.99|Small 19\" X 10\"| | |$23.99|Medium 23\" X 12\"| | |$29.99|Large 28\" X 15\"| | |$35.99|X-Large 40\" X 20\"| | |$53.99', 'standard_tags': ['Photography', 'Digital', 'Color', 'Digital-manipulation', 'French-riviera', 'Seaside', 'Blue-sky', 'Golden-sky', 'Méditerranée', 'Sky-lovers', 'Peaceful-seasight', 'Balade-à-théoule', 'Bord-de-mer', 'Ciel-bleu-et-or', 'Nature', 'Sunny-day', 'Journée-ensoleillée', 'Resting-time', 'Cannes-antibes-nice', \"Massif-de-l'esterel\", 'Walk-by-the-sea'], 'price': '$18.99', 'artist': '', 'image_urls': ['https://ctl.s6img.com/society6/img/0703o5oiP7PgQKTOIEROFrq7ZHw/w_700/prints/~artwork/s6-original-art-uploads/society6/uploads/misc/a82e99da368e4cf68852632dbbf40e64/~~/orencyel-walking-intheoule-prints.jpg?wait=0&attempt=0'], 'images': 'full/1e4c91206c2121333d31a86b59a705073c55bdfc.jpg', 'description': 'Set the tone of your room from the walls out—\"from the ground up\" is so dated. Mix and match your favorite art prints on a gallery wall showcasing everything that makes your style unique. Art prints available in five sizes, from x-small to x-large. *Exact sizing may vary slightly due to printing process, we advise waiting to buy frames until the prints arrive.\\n \\n - Natural white, matte, ultra smooth background \\n - 100% cotton, acid and lignin-free archival paper \\n - Custom trimmed with border for framing; 1\" for x-small and small, 2\" for all larger sizes \\n - Every order is custom made just for you \\n - For more info [click here](https://help.society6.com/hc/en-us/articles/226825667-About-Our-Products)\\n\\n **PRO TIP**: Keep a collection of extra prints on hand to refresh your space for any season or occasion.', 'name': 'Orencyel walking inThéoule Art Print', 'page_url': 'https://society6.com/product/orencyel-walking-intheoule_print', 'checksum': 'e1f2b7d352d335d92f30added17b31a3'}>\n",
      "<Entity('scraped-image-data', 4633861768085504) {'images': 'full/8db2379b67a44ac30672564497402bcfeb95a08e.jpg', 'description': 'Set the tone of your room from the walls out—\"from the ground up\" is so dated. Mix and match your favorite art prints on a gallery wall showcasing everything that makes your style unique. Art prints available in five sizes, from x-small to x-large. *Exact sizing may vary slightly due to printing process, we advise waiting to buy frames until the prints arrive.\\n \\n - Natural white, matte, ultra smooth background \\n - 100% cotton, acid and lignin-free archival paper \\n - Custom trimmed with border for framing; 1\" for x-small and small, 2\" for all larger sizes \\n - Every order is custom made just for you \\n - For more info [click here](https://help.society6.com/hc/en-us/articles/226825667-About-Our-Products)\\n\\n **PRO TIP**: Keep a collection of extra prints on hand to refresh your space for any season or occasion.', 'name': 'Bird no. 283: PANIC Art Print', 'page_url': 'https://society6.com/product/bird-no-283-panic1406963_print', 'checksum': '5b35c8fe09cf59ad0827b6a3969c53d0', 'sizes': 'X-Small 10\" X 5\"| | |$23.99|Small 19\" X 9\"| | |$27.99|Medium 23\" X 12\"| | |$33.99|Large 28\" X 14\"| | |$39.99|X-Large 40\" X 20\"| | |$55.99', 'standard_tags': ['Painting', 'Watercolor', 'Ink', 'Emu', 'Panic', 'Procrastinating', 'Run'], 'price': '$23.99', 'artist': '', 'image_urls': ['https://ctl.s6img.com/society6/img/MFhnx-XWcKJyqFF_oKz2gWAQyEw/w_700/prints/~artwork/s6-original-art-uploads/society6/uploads/misc/8b3490ce54d74483b13e5e7824ace336/~~/bird-no-283-panic1406963-prints.jpg?wait=0&attempt=0']}>\n",
      "<Entity('scraped-image-data', 4636254601740288) {'images': 'full/53e9ea2387a266aacca0aa38a9671196a658e111.jpg', 'description': 'Set the tone of your room from the walls out—\"from the ground up\" is so dated. Mix and match your favorite art prints on a gallery wall showcasing everything that makes your style unique. Art prints available in five sizes, from x-small to x-large. *Exact sizing may vary slightly due to printing process, we advise waiting to buy frames until the prints arrive.\\n \\n - Natural white, matte, ultra smooth background \\n - 100% cotton, acid and lignin-free archival paper \\n - Custom trimmed with border for framing; 1\" for x-small and small, 2\" for all larger sizes \\n - Every order is custom made just for you \\n - For more info [click here](https://help.society6.com/hc/en-us/articles/226825667-About-Our-Products)\\n\\n **PRO TIP**: Keep a collection of extra prints on hand to refresh your space for any season or occasion.', 'name': 'Honolulu Art Print', 'page_url': 'https://society6.com/product/honolulu185578_print', 'checksum': '624422f5242a94684e7ae6b362524d95', 'sizes': 'X-Small 10\" X 6\"| | |$18.99|Small 19\" X 10\"| | |$23.99|Medium 23\" X 12\"| | |$29.99|Large 28\" X 15\"| | |$35.99|X-Large 40\" X 20\"| | |$53.99', 'standard_tags': ['Graphic-design', 'Digital', 'Black-&-white', 'Vector', 'Honolulu', 'Map', 'Hawaii', 'Oahu'], 'price': '$18.99', 'artist': '', 'image_urls': ['https://ctl.s6img.com/society6/img/FYR_WxCcPkI0jX2tEQeXi5NrtgI/w_700/prints/~artwork/s6-original-art-uploads/society6/uploads/misc/18fb72458ff64fd3914fe6dec2e9676a/~~/honolulu185578-prints.jpg?wait=0&attempt=0']}>\n",
      "<Entity('scraped-image-data', 4644500402077696) {'checksum': '9172d7355ccdce9daa3849cd9862806b', 'sizes': 'X-Small 10\" X 5\"| | |$21.99|Small 19\" X 9\"| | |$26.99|Medium 23\" X 12\"| | |$33.99|Large 28\" X 14\"| | |$40.99|X-Large 40\" X 20\"| | |$59.99', 'artist': '', 'price': '$21.99', 'standard_tags': ['Drawing', 'Ink-pen', 'New-york-city', 'New-york', 'Nyc', 'Skyline', 'City', 'Cityscape', 'Minimal', 'Abstract', 'Line', 'Contemporary', 'Black-and-white', 'Simple', 'Illustration', 'Big-apple', 'Pen', 'Sketch', 'Home', 'Ny', 'Continuous'], 'image_urls': ['https://ctl.s6img.com/society6/img/pp9fMy5x-NoqclHTlPxp1ftneLU/w_700/prints/~artwork/s6-original-art-uploads/society6/uploads/misc/02fd62b394114df9bbadbf966473ba4a/~~/new-york-city-skyline1575662-prints.jpg?wait=0&attempt=0'], 'images': 'full/bb29866efb27e7becf0ecd6b1ff99763f7f00860.jpg', 'description': 'Set the tone of your room from the walls out—\"from the ground up\" is so dated. Mix and match your favorite art prints on a gallery wall showcasing everything that makes your style unique. Art prints available in five sizes, from x-small to x-large. *Exact sizing may vary slightly due to printing process, we advise waiting to buy frames until the prints arrive.\\n \\n - Natural white, matte, ultra smooth background \\n - 100% cotton, acid and lignin-free archival paper \\n - Custom trimmed with border for framing; 1\" for x-small and small, 2\" for all larger sizes \\n - Every order is custom made just for you \\n - For more info [click here](https://help.society6.com/hc/en-us/articles/226825667-About-Our-Products)\\n\\n **PRO TIP**: Keep a collection of extra prints on hand to refresh your space for any season or occasion.', 'name': 'New York City Skyline Art Print', 'page_url': 'https://society6.com/product/new-york-city-skyline1575662_print'}>\n"
     ]
    },
    {
     "name": "stdout",
     "output_type": "stream",
     "text": [
      "<Entity('scraped-image-data', 4719801345769472) {'images': 'full/749a7f49d07b4d20a33f372b8b0ef85348c16cac.jpg', 'description': 'Set the tone of your room from the walls out—\"from the ground up\" is so dated. Mix and match your favorite art prints on a gallery wall showcasing everything that makes your style unique. Art prints available in five sizes, from x-small to x-large. *Exact sizing may vary slightly due to printing process, we advise waiting to buy frames until the prints arrive.\\n \\n - Natural white, matte, ultra smooth background \\n - 100% cotton, acid and lignin-free archival paper \\n - Custom trimmed with border for framing; 1\" for x-small and small, 2\" for all larger sizes \\n - Every order is custom made just for you \\n - For more info [click here](https://help.society6.com/hc/en-us/articles/226825667-About-Our-Products)\\n\\n **PRO TIP**: Keep a collection of extra prints on hand to refresh your space for any season or occasion.', 'name': '1920 - big role Art Print', 'page_url': 'https://society6.com/product/1920-big-role_print', 'checksum': '6230989bbcbb92ed1c5f25d396244949', 'sizes': 'X-Small 10\" X 5\"| | |$23.99|Small 19\" X 9\"| | |$28.99|Medium 23\" X 12\"| | |$36.99|Large 28\" X 14\"| | |$44.99|X-Large 40\" X 20\"| | |$64.99', 'artist': '', 'price': '$23.99', 'standard_tags': ['Painting', 'Illustration', 'Digitalpainting', 'Game-art', 'Scythe', 'Jakub-rozalski', 'Atmosphere', 'Airship', '1920+'], 'image_urls': ['https://ctl.s6img.com/society6/img/inJvUHWjeJMRMqYyq9kMAd0NZZo/w_700/prints/~artwork/s6-original-art-uploads/society6/uploads/misc/c8fc41fff60147058ce4ee7b0d9bf6bf/~~/1920-big-role-prints.jpg?wait=0&attempt=0']}>\n",
      "<Entity('scraped-image-data', 4732080120397824) {'page_url': 'https://society6.com/product/tears-in-rain438821_print', 'checksum': '51d0732b24b90eb91c51669b51c698e3', 'sizes': 'X-Small 10\" X 6\"| | |$23.99|Small 19\" X 9\"| | |$28.99|Medium 23\" X 12\"| | |$35.99|Large 28\" X 14\"| | |$42.99|X-Large 40\" X 20\"| | |$57.99', 'standard_tags': ['Painting', 'Blade-runner', 'Bladerunner', 'Sci-fi', 'Graffiti', 'Futuristic', 'Stylized', 'Cool', 'Replicant', 'Deckard', 'Roy-batty', 'Blade', 'Runner'], 'artist': '', 'price': '$23.99', 'image_urls': ['https://ctl.s6img.com/society6/img/MG7EcEFiXeynRfjGNQ19KxuNXV4/w_700/prints/~artwork/s6-original-art-uploads/society6/uploads/misc/3838e2f6b58542589e273135de75243f/~~/tears-in-rain438821-prints.jpg?wait=0&attempt=0'], 'images': 'full/22e83706decaa8d7d9193d5a6da9489e7733a547.jpg', 'description': 'Set the tone of your room from the walls out—\"from the ground up\" is so dated. Mix and match your favorite art prints on a gallery wall showcasing everything that makes your style unique. Art prints available in five sizes, from x-small to x-large. *Exact sizing may vary slightly due to printing process, we advise waiting to buy frames until the prints arrive.\\n \\n - Natural white, matte, ultra smooth background \\n - 100% cotton, acid and lignin-free archival paper \\n - Custom trimmed with border for framing; 1\" for x-small and small, 2\" for all larger sizes \\n - Every order is custom made just for you \\n - For more info [click here](https://help.society6.com/hc/en-us/articles/226825667-About-Our-Products)\\n\\n **PRO TIP**: Keep a collection of extra prints on hand to refresh your space for any season or occasion.', 'name': 'Tears in Rain Art Print'}>\n",
      "<Entity('scraped-image-data', 4741521431592960) {'page_url': 'https://society6.com/product/long-island-new-york-1842-mather-map-e8s_print', 'checksum': '05a27acb4c5e7e93d35f6251d61d4b37', 'sizes': 'X-Small 10\" X 6\"| | |$19.99|Small 19\" X 10\"| | |$24.99|Medium 23\" X 13\"| | |$30.99|Large 28\" X 15\"| | |$37.99|X-Large 40\" X 20\"| | |$54.99', 'artist': '', 'price': '$19.99', 'standard_tags': ['Drawing', 'Ink/pen', 'Typography', 'Black-&-white', 'Vintage', 'Typography', 'Long-island', 'New-york', 'Manhattan', 'Long-island-new-york', 'Retro', 'Map', 'Old-map', 'Old-maps', '1842-mather-map'], 'image_urls': ['https://ctl.s6img.com/society6/img/gqGpeKapSIStiArUoA9Kwd97buE/w_700/prints/~artwork/s6-0094/a/36281728_4099600/~~/long-island-new-york-1842-mather-map-e8s-prints.jpg?wait=0&attempt=0'], 'images': 'full/961fce6b3cdc6522212244038bb4991e756acee3.jpg', 'description': 'Set the tone of your room from the walls out—\"from the ground up\" is so dated. Mix and match your favorite art prints on a gallery wall showcasing everything that makes your style unique. Art prints available in five sizes, from x-small to x-large. *Exact sizing may vary slightly due to printing process, we advise waiting to buy frames until the prints arrive.\\n \\n - Natural white, matte, ultra smooth background \\n - 100% cotton, acid and lignin-free archival paper \\n - Custom trimmed with border for framing; 1\" for x-small and small, 2\" for all larger sizes \\n - Every order is custom made just for you \\n - For more info [click here](https://help.society6.com/hc/en-us/articles/226825667-About-Our-Products)\\n\\n **PRO TIP**: Keep a collection of extra prints on hand to refresh your space for any season or occasion.', 'name': 'Long Island New York 1842 Mather Map Art Print'}>\n",
      "<Entity('scraped-image-data', 4765271157899264) {'checksum': '0838c264b94868fe67d76fac57c0b8b5', 'sizes': 'X-Small 10\" X 6\"| | |$18.99|Small 19\" X 10\"| | |$23.99|Medium 23\" X 13\"| | |$29.99|Large 28\" X 15\"| | |$36.99|X-Large 40\" X 20\"| | |$53.99', 'standard_tags': ['Landscape', 'Painting', 'Sci-fi', 'Digital'], 'artist': '', 'price': '$18.99', 'image_urls': ['https://ctl.s6img.com/society6/img/OAhXW5G5Zh2_f--ZWcY1NiZdEF4/w_700/prints/~artwork/s6-0011/a/3167457_14922129/~~/neos-city-prints.jpg?wait=0&attempt=0'], 'images': 'full/dc5ecb608443aee47c8f4b40066a4284d3583faf.jpg', 'description': 'Set the tone of your room from the walls out—\"from the ground up\" is so dated. Mix and match your favorite art prints on a gallery wall showcasing everything that makes your style unique. Art prints available in five sizes, from x-small to x-large. *Exact sizing may vary slightly due to printing process, we advise waiting to buy frames until the prints arrive.\\n \\n - Natural white, matte, ultra smooth background \\n - 100% cotton, acid and lignin-free archival paper \\n - Custom trimmed with border for framing; 1\" for x-small and small, 2\" for all larger sizes \\n - Every order is custom made just for you \\n - For more info [click here](https://help.society6.com/hc/en-us/articles/226825667-About-Our-Products)\\n\\n **PRO TIP**: Keep a collection of extra prints on hand to refresh your space for any season or occasion.', 'name': 'Neos City Art Print', 'page_url': 'https://society6.com/product/neos-city_print'}>\n",
      "<Entity('scraped-image-data', 4805545535995904) {'checksum': '7f276c318d786f7baa4ab96c88fec617', 'sizes': 'X-Small 10\" X 6\"| | |$22.99|Small 19\" X 10\"| | |$26.99|Medium 23\" X 12\"| | |$32.99|Large 28\" X 15\"| | |$41.99|X-Large 40\" X 20\"| | |$57.99', 'price': '$22.99', 'artist': '', 'standard_tags': ['Drawing', 'Ink', 'Paper', 'Japanese', 'Screen', 'Hasegawa', 'Tohaku', 'Tōhaku', '長谷川', '等伯', '松林図-屏風', 'Azuchi', 'Momoyama', 'Byōbu', 'Folding'], 'image_urls': ['https://ctl.s6img.com/society6/img/Da-BiVeuc7FKdMeM-yGyzDRA_74/w_700/prints/~artwork/s6-original-art-uploads/society6/uploads/misc/7f2376e349574ac197c54065e812fd9c/~~/hasegawa-tohaku-pine-trees-six-fold-japanese-screen-prints.jpg?wait=0&attempt=0'], 'images': 'full/bc55b1598a547d2464113ccdc8a90733a9538337.jpg', 'description': 'Set the tone of your room from the walls out—\"from the ground up\" is so dated. Mix and match your favorite art prints on a gallery wall showcasing everything that makes your style unique. Art prints available in five sizes, from x-small to x-large. *Exact sizing may vary slightly due to printing process, we advise waiting to buy frames until the prints arrive.\\n \\n - Natural white, matte, ultra smooth background \\n - 100% cotton, acid and lignin-free archival paper \\n - Custom trimmed with border for framing; 1\" for x-small and small, 2\" for all larger sizes \\n - Every order is custom made just for you \\n - For more info [click here](https://help.society6.com/hc/en-us/articles/226825667-About-Our-Products)\\n\\n **PRO TIP**: Keep a collection of extra prints on hand to refresh your space for any season or occasion.', 'name': 'Pine Trees Six-Fold Azuchi-Momoyama Period Japanese Screen - Hasegawa Tohaku Art Print', 'page_url': 'https://society6.com/product/hasegawa-tohaku-pine-trees-six-fold-japanese-screen_print'}>\n",
      "<Entity('scraped-image-data', 4825354462035968) {'sizes': 'X-Small 10\" X 6\"| | |$23.99|Small 19\" X 10\"| | |$28.99|Medium 23\" X 12\"| | |$36.99|Large 28\" X 15\"| | |$44.99|X-Large 40\" X 20\"| | |$64.99', 'standard_tags': ['Painting', 'Digital', 'Oil', 'Acrylic', 'Illustration', 'Jakub-rozalski', 'Mr.werewolf', 'Art', 'World-of-1920', 'Scythe', 'Iron-harvest', 'Game-art', 'Mech', 'Concept-art', 'Storytelling'], 'price': '$23.99', 'artist': '', 'image_urls': ['https://ctl.s6img.com/society6/img/PX-7VItgqaOA4Gkq6ugcevudekE/w_700/prints/~artwork/s6-original-art-uploads/society6/uploads/misc/9f243ce6a08044d8838737ef986457ee/~~/1920-its-time-to-back-home-prints.jpg?wait=0&attempt=0'], 'images': 'full/0ce1362b34f89e04c23c03a0773fe0b9c8824c11.jpg', 'description': 'Set the tone of your room from the walls out—\"from the ground up\" is so dated. Mix and match your favorite art prints on a gallery wall showcasing everything that makes your style unique. Art prints available in five sizes, from x-small to x-large. *Exact sizing may vary slightly due to printing process, we advise waiting to buy frames until the prints arrive.\\n \\n - Natural white, matte, ultra smooth background \\n - 100% cotton, acid and lignin-free archival paper \\n - Custom trimmed with border for framing; 1\" for x-small and small, 2\" for all larger sizes \\n - Every order is custom made just for you \\n - For more info [click here](https://help.society6.com/hc/en-us/articles/226825667-About-Our-Products)\\n\\n **PRO TIP**: Keep a collection of extra prints on hand to refresh your space for any season or occasion.', 'name': \"1920 - it's time to back home Art Print\", 'page_url': 'https://society6.com/product/1920-its-time-to-back-home_print', 'checksum': 'ac8cb9778ece52086581176bc7f6e1d0'}>\n",
      "<Entity('scraped-image-data', 4887515959918592) {'sizes': 'X-Small 10\" X 6\"| | |$23.99|Small 19\" X 9\"| | |$28.99|Medium 23\" X 12\"| | |$35.99|Large 28\" X 14\"| | |$42.99|X-Large 40\" X 20\"| | |$57.99', 'artist': '', 'standard_tags': ['Painting', 'Pris', 'Blade-runner', 'Blade', 'Runner', 'Sci-fi', 'Replicant', 'Deckard'], 'price': '$23.99', 'image_urls': ['https://ctl.s6img.com/society6/img/UeENb4T_MHHU1YaB9jrCIyK_YEs/w_700/prints/~artwork/s6-original-art-uploads/society6/uploads/misc/eb9e8d142eee4c47a639665b760b889d/~~/pris-blade-runner-replicant-prints.jpg?wait=0&attempt=0'], 'images': 'full/3b02f5414fc514cdd8367342898ca89894d44b1a.jpg', 'description': 'Set the tone of your room from the walls out—\"from the ground up\" is so dated. Mix and match your favorite art prints on a gallery wall showcasing everything that makes your style unique. Art prints available in five sizes, from x-small to x-large. *Exact sizing may vary slightly due to printing process, we advise waiting to buy frames until the prints arrive.\\n \\n - Natural white, matte, ultra smooth background \\n - 100% cotton, acid and lignin-free archival paper \\n - Custom trimmed with border for framing; 1\" for x-small and small, 2\" for all larger sizes \\n - Every order is custom made just for you \\n - For more info [click here](https://help.society6.com/hc/en-us/articles/226825667-About-Our-Products)\\n\\n **PRO TIP**: Keep a collection of extra prints on hand to refresh your space for any season or occasion.', 'name': 'Pris Blade Runner Replicant Art Print', 'page_url': 'https://society6.com/product/pris-blade-runner-replicant_print', 'checksum': '929829c691d51fddc86f98daa478b549'}>\n"
     ]
    },
    {
     "name": "stdout",
     "output_type": "stream",
     "text": [
      "<Entity('scraped-image-data', 4915311545417728) {'description': 'Set the tone of your room from the walls out—\"from the ground up\" is so dated. Mix and match your favorite art prints on a gallery wall showcasing everything that makes your style unique. Art prints available in five sizes, from x-small to x-large. *Exact sizing may vary slightly due to printing process, we advise waiting to buy frames until the prints arrive.\\n \\n - Natural white, matte, ultra smooth background \\n - 100% cotton, acid and lignin-free archival paper \\n - Custom trimmed with border for framing; 1\" for x-small and small, 2\" for all larger sizes \\n - Every order is custom made just for you \\n - For more info [click here](https://help.society6.com/hc/en-us/articles/226825667-About-Our-Products)\\n\\n **PRO TIP**: Keep a collection of extra prints on hand to refresh your space for any season or occasion.', 'name': 'Honest Deads Art Print', 'page_url': 'https://society6.com/product/honest-deads_print', 'checksum': '4efc9bc86f794ced623cb73145ac0b13', 'sizes': 'X-Small 10\" X 6\"| | |$18.99|Small 19\" X 10\"| | |$23.99|Medium 23\" X 13\"| | |$29.99|Large 28\" X 15\"| | |$35.99|X-Large 40\" X 20\"| | |$53.99', 'artist': '', 'price': '$18.99', 'standard_tags': ['Graphic-design', 'Digital', 'Toronto', 'Honest-eds', 'The-6ix', '6ix', 'Halloween', 'Spoopy', 'Spooky', 'Ghost', 'Skull', 'Bat', 'Bathurst', 'Bloor', 'Annex', 'The-annex'], 'image_urls': ['https://ctl.s6img.com/society6/img/V6JYR2uiVmJC9s340Wuu0tF9TxI/w_700/prints/~artwork/s6-original-art-uploads/society6/uploads/misc/a599368f2f824253ae911b0c13480d97/~~/honest-deads-prints.jpg?wait=0&attempt=0'], 'images': 'full/d8f8ea4dc79545d63fec1c63ef3448a8a8772d71.jpg'}>\n",
      "<Entity('scraped-image-data', 4920920571379712) {'sizes': 'X-Small 10\" X 6\"| | |$21.99|Small 19\" X 10\"| | |$26.99|Medium 23\" X 12\"| | |$33.99|Large 28\" X 15\"| | |$40.99|X-Large 40\" X 20\"| | |$59.99', 'price': '$21.99', 'standard_tags': ['Painting', 'Watercolor', 'Fridakahlo', 'Mexicanart', 'Colorful', 'Girlpower', 'Phrases', 'Frogs', 'Flowers', 'Portrait', 'Children', 'Nature'], 'artist': '', 'image_urls': ['https://ctl.s6img.com/society6/img/7skx6aN3JoHqfAmV6tw7gTGRG-4/w_700/prints/~artwork/s6-original-art-uploads/society6/uploads/misc/2ce9ae0051b54ca8a1fb970f62570fb1/~~/frida-kahlo-watercolor1911427-prints.jpg?wait=0&attempt=0'], 'images': 'full/b8736307bb637d146a58ab7c1eeb8e1155e0149f.jpg', 'description': 'Set the tone of your room from the walls out—\"from the ground up\" is so dated. Mix and match your favorite art prints on a gallery wall showcasing everything that makes your style unique. Art prints available in five sizes, from x-small to x-large. *Exact sizing may vary slightly due to printing process, we advise waiting to buy frames until the prints arrive.\\n \\n - Natural white, matte, ultra smooth background \\n - 100% cotton, acid and lignin-free archival paper \\n - Custom trimmed with border for framing; 1\" for x-small and small, 2\" for all larger sizes \\n - Every order is custom made just for you \\n - For more info [click here](https://help.society6.com/hc/en-us/articles/226825667-About-Our-Products)\\n\\n **PRO TIP**: Keep a collection of extra prints on hand to refresh your space for any season or occasion.', 'name': 'Frida Kahlo Watercolor Art Print', 'page_url': 'https://society6.com/product/frida-kahlo-watercolor1911427_print', 'checksum': '7f1500caa651b653cf8bd28bf455a3d2'}>\n",
      "<Entity('scraped-image-data', 5006754855256064) {'page_url': 'https://society6.com/product/las-vegas-skyline-black_print', 'checksum': '5b0dd0ee334b03a051b56d43550c03d2', 'sizes': 'X-Small 10\" X 6\"| | |$21.99|Small 19\" X 9\"| | |$26.99|Medium 23\" X 12\"| | |$33.99|Large 28\" X 15\"| | |$40.99|X-Large 40\" X 20\"| | |$59.99', 'price': '$21.99', 'standard_tags': ['Graphic-design', 'Architecture', 'Landscape', 'Typography', 'Las-vegas', 'Skyline', 'Watercolor', 'Las-vegas-skyline', 'Usa', 'America', 'Casino', 'Vegas', 'United-states', 'Nevada', 'State-of-nevada', 'Silhouette', 'Wall-decor', 'Poker', 'Caesars-palace', 'Mgm-casino'], 'artist': '', 'image_urls': ['https://ctl.s6img.com/society6/img/vTxhbjcTuZe6sImzmN9LFSSV3KY/w_700/prints/~artwork/s6-0069/a/28410383_15710731/~~/las-vegas-skyline-black-prints.jpg?wait=0&attempt=0'], 'images': 'full/121b1cab23df6cb0104fc8c273715bbcce337d4f.jpg', 'description': 'Set the tone of your room from the walls out—\"from the ground up\" is so dated. Mix and match your favorite art prints on a gallery wall showcasing everything that makes your style unique. Art prints available in five sizes, from x-small to x-large. *Exact sizing may vary slightly due to printing process, we advise waiting to buy frames until the prints arrive.\\n \\n - Natural white, matte, ultra smooth background \\n - 100% cotton, acid and lignin-free archival paper \\n - Custom trimmed with border for framing; 1\" for x-small and small, 2\" for all larger sizes \\n - Every order is custom made just for you \\n - For more info [click here](https://help.society6.com/hc/en-us/articles/226825667-About-Our-Products)\\n\\n **PRO TIP**: Keep a collection of extra prints on hand to refresh your space for any season or occasion.', 'name': 'Las Vegas skyline black Art Print'}>\n",
      "<Entity('scraped-image-data', 5046127088893952) {'images': 'full/a0684469be97a2c01dfdb5a38fc4019ebcc5c0f2.jpg', 'description': 'Set the tone of your room from the walls out—\"from the ground up\" is so dated. Mix and match your favorite art prints on a gallery wall showcasing everything that makes your style unique. Art prints available in five sizes, from x-small to x-large. *Exact sizing may vary slightly due to printing process, we advise waiting to buy frames until the prints arrive.\\n \\n - Natural white, matte, ultra smooth background \\n - 100% cotton, acid and lignin-free archival paper \\n - Custom trimmed with border for framing; 1\" for x-small and small, 2\" for all larger sizes \\n - Every order is custom made just for you \\n - For more info [click here](https://help.society6.com/hc/en-us/articles/226825667-About-Our-Products)\\n\\n **PRO TIP**: Keep a collection of extra prints on hand to refresh your space for any season or occasion.', 'name': 'Forbidden City Southern Gate Art Print', 'page_url': 'https://society6.com/product/forbidden-city-southern-gate_print', 'checksum': 'ef828249a0d9c8ec7953034316abb0aa', 'sizes': 'X-Small 10\" X 6\"| | |$21.99|Small 19\" X 9\"| | |$26.99|Medium 23\" X 12\"| | |$33.99|Large 28\" X 14\"| | |$40.99|X-Large 40\" X 20\"| | |$58.99', 'artist': '', 'standard_tags': ['Photography', 'Digital', 'Color', 'Forbidden-city', 'Gate', 'Beijing', 'China', 'Chinese', 'Landmark', 'Imperial', 'Gugong', 'Entrance', 'Red'], 'price': '$21.99', 'image_urls': ['https://ctl.s6img.com/society6/img/12H-fUTp83X5flmdlQYnThVbqzU/w_700/prints/~artwork/s6-original-art-uploads/society6/uploads/misc/e4740922ae5445048ab5c4406436161d/~~/forbidden-city-southern-gate-prints.jpg?wait=0&attempt=0']}>\n",
      "<Entity('scraped-image-data', 5069751925604352) {'images': 'full/d44e7dc1eea2618a5e2d22d11c5ae236ce826baf.jpg', 'description': 'Set the tone of your room from the walls out—\"from the ground up\" is so dated. Mix and match your favorite art prints on a gallery wall showcasing everything that makes your style unique. Art prints available in five sizes, from x-small to x-large. *Exact sizing may vary slightly due to printing process, we advise waiting to buy frames until the prints arrive.\\n \\n - Natural white, matte, ultra smooth background \\n - 100% cotton, acid and lignin-free archival paper \\n - Custom trimmed with border for framing; 1\" for x-small and small, 2\" for all larger sizes \\n - Every order is custom made just for you \\n - For more info [click here](https://help.society6.com/hc/en-us/articles/226825667-About-Our-Products)\\n\\n **PRO TIP**: Keep a collection of extra prints on hand to refresh your space for any season or occasion.', 'name': 'Sisterhood Definition Art Print', 'page_url': 'https://society6.com/product/sisterhood-definition_print', 'checksum': '1eb40212c795a052bb2322d420b57d3f', 'sizes': 'X-Small 10\" X 5\"| | |$18.99|Small 19\" X 9\"| | |$23.99|Medium 23\" X 12\"| | |$29.99|Large 28\" X 14\"| | |$35.99|X-Large 40\" X 20\"| | |$53.99', 'price': '$18.99', 'artist': '', 'standard_tags': ['Graphic-design', 'Digital', 'Black-and-white', 'Typography', 'Feminism', 'Sisterhood', 'Women', 'Empowering', 'Mug', 'Coffee-mug', 'Woman', 'Sister', 'Best-friend', 'Design', 'Girl-power', 'Coffee'], 'image_urls': ['https://ctl.s6img.com/society6/img/qCw207rVyaouyohfYLNZFXEEKb4/w_700/prints/~artwork/s6-original-art-uploads/society6/uploads/misc/5781402ef17f498f94b4561a0d622f75/~~/sisterhood-definition-prints.jpg?wait=0&attempt=0']}>\n",
      "<Entity('scraped-image-data', 5085771650301952) {'checksum': 'ce21ebb42ea5c8be08c6769eacfe4891', 'sizes': 'X-Small 10\" X 5\"| | |$25.99|Small 19\" X 9\"| | |$30.99|Medium 23\" X 12\"| | |$39.99|Large 28\" X 14\"| | |$47.99|X-Large 40\" X 20\"| | |$69.99', 'standard_tags': ['Landscape', 'Nature', 'Typography'], 'artist': '', 'price': '$25.99', 'image_urls': ['https://ctl.s6img.com/society6/img/tQWlOl2Ch_2cWbRPAsfMltSxpY4/w_700/prints/~artwork/s6-0057/a/24244974_6805791/~~/girl-of-the-earth-p2b-prints.jpg?wait=0&attempt=0'], 'images': 'full/ce67492849288e80c1b3880f91009d1657287a7d.jpg', 'description': 'Set the tone of your room from the walls out—\"from the ground up\" is so dated. Mix and match your favorite art prints on a gallery wall showcasing everything that makes your style unique. Art prints available in five sizes, from x-small to x-large. *Exact sizing may vary slightly due to printing process, we advise waiting to buy frames until the prints arrive.\\n \\n - Natural white, matte, ultra smooth background \\n - 100% cotton, acid and lignin-free archival paper \\n - Custom trimmed with border for framing; 1\" for x-small and small, 2\" for all larger sizes \\n - Every order is custom made just for you \\n - For more info [click here](https://help.society6.com/hc/en-us/articles/226825667-About-Our-Products)\\n\\n **PRO TIP**: Keep a collection of extra prints on hand to refresh your space for any season or occasion.', 'name': 'girl of the earth Art Print', 'page_url': 'https://society6.com/product/girl-of-the-earth-p2b_print'}>\n",
      "<Entity('scraped-image-data', 5182739630260224) {'sizes': 'X-Small 10\" X 6\"| | |$22.99|Small 19\" X 10\"| | |$28.99|Medium 23\" X 13\"| | |$37.99|Large 28\" X 15\"| | |$48.99|X-Large 40\" X 20\"| | |$69.99', 'artist': '', 'standard_tags': ['Drawing', 'Digital', 'Pop-art', 'Street-art', 'Comic', 'Doodle', 'Characters'], 'price': '$22.99', 'image_urls': ['https://ctl.s6img.com/society6/img/rY6n3wux3YrxKbCv-znuZCcfm1A/w_700/prints/~artwork/s6-original-art-uploads/society6/uploads/misc/caf790a55dae499aaa29a73fd41fa4e9/~~/leisurely-gathering-prints.jpg?wait=0&attempt=0'], 'images': 'full/2b9fb9b8dfe6e24be6606060ec632614bb6b0bf2.jpg', 'description': 'Set the tone of your room from the walls out—\"from the ground up\" is so dated. Mix and match your favorite art prints on a gallery wall showcasing everything that makes your style unique. Art prints available in five sizes, from x-small to x-large. *Exact sizing may vary slightly due to printing process, we advise waiting to buy frames until the prints arrive.\\n \\n - Natural white, matte, ultra smooth background \\n - 100% cotton, acid and lignin-free archival paper \\n - Custom trimmed with border for framing; 1\" for x-small and small, 2\" for all larger sizes \\n - Every order is custom made just for you \\n - For more info [click here](https://help.society6.com/hc/en-us/articles/226825667-About-Our-Products)\\n\\n **PRO TIP**: Keep a collection of extra prints on hand to refresh your space for any season or occasion.', 'name': 'Leisurely Gathering Art Print', 'page_url': 'https://society6.com/product/leisurely-gathering_print', 'checksum': 'd1ff9465e109727048e1f6c744665dfe'}>\n",
      "<Entity('scraped-image-data', 5249258104029184) {'image_urls': ['https://ctl.s6img.com/society6/img/u_recMmzuBNajbC4izucLuTQKG4/w_700/prints/~artwork/s6-original-art-uploads/society6/uploads/misc/42ab0a8a6a7243719d4accbeb22cad41/~~/bird-no-504-chunkytown-prints.jpg?wait=0&attempt=0'], 'images': 'full/0ffb48d538373a30ae4863e287df2ab87c1b3afc.jpg', 'description': 'Set the tone of your room from the walls out—\"from the ground up\" is so dated. Mix and match your favorite art prints on a gallery wall showcasing everything that makes your style unique. Art prints available in five sizes, from x-small to x-large. *Exact sizing may vary slightly due to printing process, we advise waiting to buy frames until the prints arrive.\\n \\n - Natural white, matte, ultra smooth background \\n - 100% cotton, acid and lignin-free archival paper \\n - Custom trimmed with border for framing; 1\" for x-small and small, 2\" for all larger sizes \\n - Every order is custom made just for you \\n - For more info [click here](https://help.society6.com/hc/en-us/articles/226825667-About-Our-Products)\\n\\n **PRO TIP**: Keep a collection of extra prints on hand to refresh your space for any season or occasion.', 'name': 'Bird no. 504: Chunkytown Art Print', 'page_url': 'https://society6.com/product/bird-no-504-chunkytown_print', 'checksum': '5987000bbd4d18942111a39985db569f', 'sizes': 'X-Small 10\" X 6\"| | |$23.99|Small 19\" X 10\"| | |$27.99|Medium 23\" X 13\"| | |$33.99|Large 28\" X 15\"| | |$39.99|X-Large 40\" X 20\"| | |$55.99', 'standard_tags': ['Painting', 'Watercolor', 'Birds'], 'price': '$23.99', 'artist': ''}>\n"
     ]
    },
    {
     "name": "stdout",
     "output_type": "stream",
     "text": [
      "<Entity('scraped-image-data', 5295509130444800) {'checksum': 'fec470ba4416dfa23a2f593fbba31652', 'sizes': 'X-Small 10\" X 6\"| | |$22.99|Small 19\" X 10\"| | |$27.99|Medium 23\" X 13\"| | |$34.99|Large 28\" X 15\"| | |$42.99|X-Large 40\" X 20\"| | |$62.99', 'standard_tags': ['Painting', 'Animals', 'Landscape', 'Cats', 'Beach', 'Seascape', 'Ocean', 'Cat-lady', \"Children's-art\", 'Cats-on-a-fence', 'Cats-at-night', 'Beach-cats', 'Seaside-cats', 'Stray-cats', 'Tabby-cat', 'Night-sky', 'Painted-cats', \"Kid's-room\", 'Cat-gifts', 'Cat-lover', 'Summer-night'], 'price': '$22.99', 'artist': '', 'image_urls': ['https://ctl.s6img.com/society6/img/pcGFUq_ToXBJ5OAtk4fd9wze1mE/w_700/prints/~artwork/s6-0008/a/1599539_8418449/~~/cats-on-a-fence-prints.jpg?wait=0&attempt=0'], 'images': 'full/22cbc7d8ac7789b0ed0e6c835b1ff22a1a217de0.jpg', 'description': 'Set the tone of your room from the walls out—\"from the ground up\" is so dated. Mix and match your favorite art prints on a gallery wall showcasing everything that makes your style unique. Art prints available in five sizes, from x-small to x-large. *Exact sizing may vary slightly due to printing process, we advise waiting to buy frames until the prints arrive.\\n \\n - Natural white, matte, ultra smooth background \\n - 100% cotton, acid and lignin-free archival paper \\n - Custom trimmed with border for framing; 1\" for x-small and small, 2\" for all larger sizes \\n - Every order is custom made just for you \\n - For more info [click here](https://help.society6.com/hc/en-us/articles/226825667-About-Our-Products)\\n\\n **PRO TIP**: Keep a collection of extra prints on hand to refresh your space for any season or occasion.', 'name': 'Cats on a Fence Art Print', 'page_url': 'https://society6.com/product/cats-on-a-fence_print'}>\n",
      "<Entity('scraped-image-data', 5329318274138112) {'sizes': 'X-Small 10\" X 6\"| | |$20.99|Small 19\" X 9\"| | |$25.99|Medium 23\" X 12\"| | |$32.99|Large 28\" X 14\"| | |$39.99|X-Large 40\" X 20\"| | |$57.99', 'price': '$20.99', 'artist': '', 'standard_tags': ['Painting', 'Watercolor', 'Ink', 'Florida', 'Beach', 'Siesta-key', 'Sarasota', 'Urban-sketch'], 'image_urls': ['https://ctl.s6img.com/society6/img/Gm5GZ3VzoSRyudrbshkVasTOjf8/w_700/prints/~artwork/s6-original-art-uploads/society6/uploads/misc/41e44e3e5faa45f99f9fcd8efe5f25ae/~~/siesta-key-beach2156089-prints.jpg?wait=0&attempt=0'], 'images': 'full/874deee06e69fe803ecbf990cd7ceaa67adeb3bd.jpg', 'description': 'Set the tone of your room from the walls out—\"from the ground up\" is so dated. Mix and match your favorite art prints on a gallery wall showcasing everything that makes your style unique. Art prints available in five sizes, from x-small to x-large. *Exact sizing may vary slightly due to printing process, we advise waiting to buy frames until the prints arrive.\\n \\n - Natural white, matte, ultra smooth background \\n - 100% cotton, acid and lignin-free archival paper \\n - Custom trimmed with border for framing; 1\" for x-small and small, 2\" for all larger sizes \\n - Every order is custom made just for you \\n - For more info [click here](https://help.society6.com/hc/en-us/articles/226825667-About-Our-Products)\\n\\n **PRO TIP**: Keep a collection of extra prints on hand to refresh your space for any season or occasion.', 'name': 'Siesta Key Beach Art Print', 'page_url': 'https://society6.com/product/siesta-key-beach2156089_print', 'checksum': '8f36a728cc8b660a0b2666129b4be97f'}>\n",
      "<Entity('scraped-image-data', 5346482741837824) {'image_urls': ['https://ctl.s6img.com/society6/img/yo5F8i8ggEtLLSNo-5CTYvVwGXc/w_700/prints/~artwork/s6-0004/asset_14/406937_ra91CK9LJh/~~/fraak-prints.jpg?wait=0&attempt=0'], 'images': 'full/b84885f68e60f81d24f1f456047e6701ab952555.jpg', 'description': 'Set the tone of your room from the walls out—\"from the ground up\" is so dated. Mix and match your favorite art prints on a gallery wall showcasing everything that makes your style unique. Art prints available in five sizes, from x-small to x-large. *Exact sizing may vary slightly due to printing process, we advise waiting to buy frames until the prints arrive.\\n \\n - Natural white, matte, ultra smooth background \\n - 100% cotton, acid and lignin-free archival paper \\n - Custom trimmed with border for framing; 1\" for x-small and small, 2\" for all larger sizes \\n - Every order is custom made just for you \\n - For more info [click here](https://help.society6.com/hc/en-us/articles/226825667-About-Our-Products)\\n\\n **PRO TIP**: Keep a collection of extra prints on hand to refresh your space for any season or occasion.', 'name': 'FRAAK! Art Print', 'page_url': 'https://society6.com/product/fraak_print', 'checksum': '0527d9d9adf46af6242ea0879b22d638', 'sizes': 'X-Small 10\" X 6\"| | |$18.99|Small 19\" X 10\"| | |$23.99|Medium 23\" X 12\"| | |$29.99|Large 28\" X 15\"| | |$36.99|X-Large 40\" X 20\"| | |$53.99', 'artist': '', 'standard_tags': ['Comics', 'Movies-tv', 'Sci-fi', 'Digital'], 'price': '$18.99'}>\n",
      "<Entity('scraped-image-data', 5378837267349504) {'images': 'full/6eec1931bcc21834db88276f6c8242ee736daf77.jpg', 'description': 'Set the tone of your room from the walls out—\"from the ground up\" is so dated. Mix and match your favorite art prints on a gallery wall showcasing everything that makes your style unique. Art prints available in five sizes, from x-small to x-large. *Exact sizing may vary slightly due to printing process, we advise waiting to buy frames until the prints arrive.\\n \\n - Natural white, matte, ultra smooth background \\n - 100% cotton, acid and lignin-free archival paper \\n - Custom trimmed with border for framing; 1\" for x-small and small, 2\" for all larger sizes \\n - Every order is custom made just for you \\n - For more info [click here](https://help.society6.com/hc/en-us/articles/226825667-About-Our-Products)\\n\\n **PRO TIP**: Keep a collection of extra prints on hand to refresh your space for any season or occasion.', 'name': \"asc 708 - L'ivresse de la vitesse (Need for speed) Art Print\", 'page_url': 'https://society6.com/product/asc-708-livresse-de-la-vitesse-need-for-speed_print', 'checksum': 'e07062049b9680fbeb79dd91e5f9ca61', 'sizes': 'X-Small 10\" X 6\"| | |$25.99|Small 19\" X 9\"| | |$31.99|Medium 23\" X 12\"| | |$37.99|Large 28\" X 15\"| | |$43.99|X-Large 40\" X 20\"| | |$63.99', 'price': '$25.99', 'standard_tags': ['Drawing', 'Digital', 'Ink/pen', 'Black-&-white', 'Comic', 'Illustration', 'Car', 'Speed', 'Freedom'], 'artist': '', 'image_urls': ['https://ctl.s6img.com/society6/img/TWITKcGgQ4Eh7rgFFAouKuU5ljQ/w_700/prints/~artwork/s6-original-art-uploads/society6/uploads/misc/85fe520a745f4cf3a163184c19f8a854/~~/asc-708-livresse-de-la-vitesse-need-for-speed-prints.jpg?wait=0&attempt=0']}>\n",
      "<Entity('scraped-image-data', 5384299962433536) {'checksum': 'fd2d63e25cd44e4da54a3c5a374e991b', 'sizes': 'X-Small 10\" X 6\"| | |$18.99|Small 19\" X 10\"| | |$23.99|Medium 23\" X 12\"| | |$29.99|Large 28\" X 15\"| | |$35.99|X-Large 40\" X 20\"| | |$53.99', 'standard_tags': ['Drawing', 'Digital', 'Hiveswap', 'Homestuck', 'Pigeons', 'Jude-harley', 'Bird', 'Pigeon', 'Frohike', 'Langly', 'Byers'], 'artist': '', 'price': '$18.99', 'image_urls': ['https://ctl.s6img.com/society6/img/Ua-_nlTvb3v1OUZ3xtFuMguJK7A/w_700/prints/~artwork/s6-original-art-uploads/society6/uploads/misc/bb6d51aedcbc4e17941c884b3adfed76/~~/the-troops-prints.jpg?wait=0&attempt=0'], 'images': 'full/6108444a5cdc9b06dec4bfe99ae029e856232d19.jpg', 'description': 'Set the tone of your room from the walls out—\"from the ground up\" is so dated. Mix and match your favorite art prints on a gallery wall showcasing everything that makes your style unique. Art prints available in five sizes, from x-small to x-large. *Exact sizing may vary slightly due to printing process, we advise waiting to buy frames until the prints arrive.\\n \\n - Natural white, matte, ultra smooth background \\n - 100% cotton, acid and lignin-free archival paper \\n - Custom trimmed with border for framing; 1\" for x-small and small, 2\" for all larger sizes \\n - Every order is custom made just for you \\n - For more info [click here](https://help.society6.com/hc/en-us/articles/226825667-About-Our-Products)\\n\\n **PRO TIP**: Keep a collection of extra prints on hand to refresh your space for any season or occasion.', 'name': 'The Troops Art Print', 'page_url': 'https://society6.com/product/the-troops_print'}>\n",
      "<Entity('scraped-image-data', 5384766570364928) {'checksum': '744b755ac7e59366ba91c9fb6f957e57', 'sizes': 'X-Small 10\" X 6\"| | |$25.99|Small 19\" X 10\"| | |$30.99|Medium 23\" X 13\"| | |$39.99|Large 28\" X 15\"| | |$47.99|X-Large 40\" X 20\"| | |$69.99', 'artist': '', 'price': '$25.99', 'standard_tags': ['Landscape', 'Photography'], 'image_urls': ['https://ctl.s6img.com/society6/img/eRMmnV9XjD5TkSjzWhHLbKwnvAE/w_700/prints/~artwork/s6-0025/a/9833954_1895852/~~/the-road-to-valentine-texas-prints.jpg?wait=0&attempt=0'], 'images': 'full/62bbe4cce57a3cd43cb26b8b280549fddfab643e.jpg', 'description': 'Set the tone of your room from the walls out—\"from the ground up\" is so dated. Mix and match your favorite art prints on a gallery wall showcasing everything that makes your style unique. Art prints available in five sizes, from x-small to x-large. *Exact sizing may vary slightly due to printing process, we advise waiting to buy frames until the prints arrive.\\n \\n - Natural white, matte, ultra smooth background \\n - 100% cotton, acid and lignin-free archival paper \\n - Custom trimmed with border for framing; 1\" for x-small and small, 2\" for all larger sizes \\n - Every order is custom made just for you \\n - For more info [click here](https://help.society6.com/hc/en-us/articles/226825667-About-Our-Products)\\n\\n **PRO TIP**: Keep a collection of extra prints on hand to refresh your space for any season or occasion.', 'name': 'The Road to Valentine, Texas  Art Print', 'page_url': 'https://society6.com/product/the-road-to-valentine-texas_print'}>\n",
      "<Entity('scraped-image-data', 5385357027704832) {'image_urls': ['https://ctl.s6img.com/society6/img/-E5CDDaOldVvVnx8ge99t4SKBc4/w_700/prints/~artwork/s6-0027/a/12972520_3418152/~~/planetscape-1-twin-suns-prints.jpg?wait=0&attempt=0'], 'images': 'full/8026d8c752c52ed07768d4ae3b4755eed5dab635.jpg', 'description': 'Set the tone of your room from the walls out—\"from the ground up\" is so dated. Mix and match your favorite art prints on a gallery wall showcasing everything that makes your style unique. Art prints available in five sizes, from x-small to x-large. *Exact sizing may vary slightly due to printing process, we advise waiting to buy frames until the prints arrive.\\n \\n - Natural white, matte, ultra smooth background \\n - 100% cotton, acid and lignin-free archival paper \\n - Custom trimmed with border for framing; 1\" for x-small and small, 2\" for all larger sizes \\n - Every order is custom made just for you \\n - For more info [click here](https://help.society6.com/hc/en-us/articles/226825667-About-Our-Products)\\n\\n **PRO TIP**: Keep a collection of extra prints on hand to refresh your space for any season or occasion.', 'name': 'Planetscape #1: Twin Suns Art Print', 'page_url': 'https://society6.com/product/planetscape-1-twin-suns_print', 'checksum': 'ca590651f33cb04e9a2c9c23261aaaa0', 'sizes': 'X-Small 10\" X 5\"| | |$24.99|Small 19\" X 9\"| | |$35.99|Medium 23\" X 12\"| | |$46.99|Large 28\" X 14\"| | |$58.99|X-Large 40\" X 20\"| | |$74.99', 'artist': '', 'standard_tags': ['Movies-tv', 'Illustration', 'Landscape', 'Sci-fi'], 'price': '$24.99'}>\n",
      "<Entity('scraped-image-data', 5403116751028224) {'description': 'Set the tone of your room from the walls out—\"from the ground up\" is so dated. Mix and match your favorite art prints on a gallery wall showcasing everything that makes your style unique. Art prints available in five sizes, from x-small to x-large. *Exact sizing may vary slightly due to printing process, we advise waiting to buy frames until the prints arrive.\\n \\n - Natural white, matte, ultra smooth background \\n - 100% cotton, acid and lignin-free archival paper \\n - Custom trimmed with border for framing; 1\" for x-small and small, 2\" for all larger sizes \\n - Every order is custom made just for you \\n - For more info [click here](https://help.society6.com/hc/en-us/articles/226825667-About-Our-Products)\\n\\n **PRO TIP**: Keep a collection of extra prints on hand to refresh your space for any season or occasion.', 'name': 'Bird no. 146: [ANXIETY INTENSIFIES] Art Print', 'page_url': 'https://society6.com/product/bird-no-146-anxiety-intensifies_print', 'checksum': 'dec48e3b12010ff4605e96b381796abe', 'sizes': 'X-Small 10\" X 5\"| | |$22.99|Small 19\" X 9\"| | |$26.99|Medium 23\" X 12\"| | |$32.99|Large 28\" X 14\"| | |$38.99|X-Large 40\" X 20\"| | |$54.99', 'standard_tags': ['Painting', 'Watercolor', 'Ink', 'Potoo', 'Anxiety', 'Humor', 'Cute'], 'price': '$22.99', 'artist': '', 'image_urls': ['https://ctl.s6img.com/society6/img/yaWSb7AHffmBHQEBFKM-hmOBn5I/w_700/prints/~artwork/s6-original-art-uploads/society6/uploads/misc/1e0d79bda50b434cad5708d40f672dd9/~~/bird-no-146-anxiety-intensifies-prints.jpg?wait=0&attempt=0'], 'images': 'full/0886231760ad9744667f00164307abfb05f295e7.jpg'}>\n"
     ]
    },
    {
     "name": "stdout",
     "output_type": "stream",
     "text": [
      "<Entity('scraped-image-data', 5490319686631424) {'description': 'Set the tone of your room from the walls out—\"from the ground up\" is so dated. Mix and match your favorite art prints on a gallery wall showcasing everything that makes your style unique. Art prints available in five sizes, from x-small to x-large. *Exact sizing may vary slightly due to printing process, we advise waiting to buy frames until the prints arrive.\\n \\n - Natural white, matte, ultra smooth background \\n - 100% cotton, acid and lignin-free archival paper \\n - Custom trimmed with border for framing; 1\" for x-small and small, 2\" for all larger sizes \\n - Every order is custom made just for you \\n - For more info [click here](https://help.society6.com/hc/en-us/articles/226825667-About-Our-Products)\\n\\n **PRO TIP**: Keep a collection of extra prints on hand to refresh your space for any season or occasion.', 'name': 'stars Art Print', 'page_url': 'https://society6.com/product/stars1521372_print', 'checksum': 'ab9963986a62bd13273ac03ff13f2ee5', 'sizes': 'X-Small 10\" X 6\"| | |$18.99|Small 19\" X 10\"| | |$23.99|Medium 23\" X 12\"| | |$29.99|Large 28\" X 15\"| | |$36.99|X-Large 40\" X 20\"| | |$53.99', 'standard_tags': ['Painting', 'Digital', 'Jjba'], 'price': '$18.99', 'artist': '', 'image_urls': ['https://ctl.s6img.com/society6/img/OhoNW3LEYupQBcGQ0-ursPsm7PA/w_700/prints/~artwork/s6-original-art-uploads/society6/uploads/misc/698773f906ab4241a4aa76ac6621f98f/~~/stars1521372-prints.jpg?wait=0&attempt=0'], 'images': 'full/b3cf91e369c256126fbd1c64c6511e8734fe3d98.jpg'}>\n",
      "<Entity('scraped-image-data', 5498593874018304) {'page_url': 'https://society6.com/product/lily-pad-lessons_print', 'checksum': 'c6ac51c6f73257532d892323c658e1b4', 'sizes': 'X-Small 10\" X 6\"| | |$25.99|Small 19\" X 10\"| | |$29.99|Medium 23\" X 12\"| | |$36.99|Large 28\" X 15\"| | |$44.99|X-Large 40\" X 20\"| | |$64.99', 'artist': '', 'standard_tags': ['Painting', 'Watercolor', 'Ink', 'Miss-maple', 'Pond', 'Frogs', 'Lily-pad', 'Dragon-fly', 'Swamp', 'Yellow', 'Seeds', 'Nature', 'Woman', 'Teacher'], 'price': '$25.99', 'image_urls': ['https://ctl.s6img.com/society6/img/kHl6pVXkIiNn4Du-LbsoXMJ7sMI/w_700/prints/~artwork/s6-original-art-uploads/society6/uploads/misc/ac7319e01fd94319aa9b5c5ebb7421c4/~~/lily-pad-lessons-prints.jpg?wait=0&attempt=0'], 'images': 'full/d2f12732198e84d972371b06376004749f3efb90.jpg', 'description': 'Set the tone of your room from the walls out—\"from the ground up\" is so dated. Mix and match your favorite art prints on a gallery wall showcasing everything that makes your style unique. Art prints available in five sizes, from x-small to x-large. *Exact sizing may vary slightly due to printing process, we advise waiting to buy frames until the prints arrive.\\n \\n - Natural white, matte, ultra smooth background \\n - 100% cotton, acid and lignin-free archival paper \\n - Custom trimmed with border for framing; 1\" for x-small and small, 2\" for all larger sizes \\n - Every order is custom made just for you \\n - For more info [click here](https://help.society6.com/hc/en-us/articles/226825667-About-Our-Products)\\n\\n **PRO TIP**: Keep a collection of extra prints on hand to refresh your space for any season or occasion.', 'name': 'Lily Pad Lessons Art Print'}>\n",
      "<Entity('scraped-image-data', 5517743522578432) {'checksum': 'cf417f29ed597e66dbacf3ab9030d5a4', 'sizes': 'X-Small 10\" X 5\"| | |$18.99|Small 19\" X 9\"| | |$23.99|Medium 23\" X 12\"| | |$29.99|Large 28\" X 14\"| | |$35.99|X-Large 40\" X 20\"| | |$53.99', 'artist': '', 'price': '$18.99', 'standard_tags': ['Drawing', 'Digital', 'Easy', 'Write', 'Banner', 'Simple', 'Relax', 'White', 'Black', 'Happy', 'Job', 'Morning', 'Worry', 'Text', 'Lettering', 'Slogan'], 'image_urls': ['https://ctl.s6img.com/society6/img/IfbQi4faZRW1GAQq6S-h9Q1G_Pw/w_700/prints/~artwork/s6-original-art-uploads/society6/uploads/misc/7afa6ce27d854dfabea4249af2e88b23/~~/take-it-easy1165261-prints.jpg?wait=0&attempt=0'], 'images': 'full/d2b28d61b55e85f12ba9d7ce7a979f58f600894b.jpg', 'description': 'Set the tone of your room from the walls out—\"from the ground up\" is so dated. Mix and match your favorite art prints on a gallery wall showcasing everything that makes your style unique. Art prints available in five sizes, from x-small to x-large. *Exact sizing may vary slightly due to printing process, we advise waiting to buy frames until the prints arrive.\\n \\n - Natural white, matte, ultra smooth background \\n - 100% cotton, acid and lignin-free archival paper \\n - Custom trimmed with border for framing; 1\" for x-small and small, 2\" for all larger sizes \\n - Every order is custom made just for you \\n - For more info [click here](https://help.society6.com/hc/en-us/articles/226825667-About-Our-Products)\\n\\n **PRO TIP**: Keep a collection of extra prints on hand to refresh your space for any season or occasion.', 'name': 'Take it Easy Art Print', 'page_url': 'https://society6.com/product/take-it-easy1165261_print'}>\n",
      "<Entity('scraped-image-data', 5560127836913664) {'page_url': 'https://society6.com/product/1920-take-your-dog-for-a-walk_print', 'checksum': '200ef86979f2e0b753bbe46f6246ee81', 'sizes': 'X-Small 10\" X 5\"| | |$23.99|Small 19\" X 9\"| | |$28.99|Medium 23\" X 12\"| | |$36.99|Large 28\" X 14\"| | |$44.99|X-Large 40\" X 20\"| | |$64.99', 'artist': '', 'price': '$23.99', 'standard_tags': ['Painting', 'Concept-art', 'Illustration', 'Digital-painting', 'Game-art', 'Games', 'Scythe', 'Jakub-rozalski', '1920'], 'image_urls': ['https://ctl.s6img.com/society6/img/jEse-XiGNykA4jaBN3bL3jeQP-4/w_700/prints/~artwork/s6-original-art-uploads/society6/uploads/misc/22e32e6c18a249acb979bd1b18c4de0d/~~/1920-take-your-dog-for-a-walk-prints.jpg?wait=0&attempt=0'], 'images': 'full/e970ee5d7b084038896123dfe643fa759ef1447c.jpg', 'description': 'Set the tone of your room from the walls out—\"from the ground up\" is so dated. Mix and match your favorite art prints on a gallery wall showcasing everything that makes your style unique. Art prints available in five sizes, from x-small to x-large. *Exact sizing may vary slightly due to printing process, we advise waiting to buy frames until the prints arrive.\\n \\n - Natural white, matte, ultra smooth background \\n - 100% cotton, acid and lignin-free archival paper \\n - Custom trimmed with border for framing; 1\" for x-small and small, 2\" for all larger sizes \\n - Every order is custom made just for you \\n - For more info [click here](https://help.society6.com/hc/en-us/articles/226825667-About-Our-Products)\\n\\n **PRO TIP**: Keep a collection of extra prints on hand to refresh your space for any season or occasion.', 'name': '1920 - take your dog for a walk Art Print'}>\n",
      "<Entity('scraped-image-data', 5569124719656960) {'page_url': 'https://society6.com/product/infinity-coral-snake_print', 'checksum': '9889c3d0c26025e9bcd879f1e89a53e9', 'sizes': 'X-Small 10\" X 6\"| | |$18.99|Small 19\" X 10\"| | |$23.99|Medium 23\" X 12\"| | |$29.99|Large 28\" X 15\"| | |$35.99|X-Large 40\" X 20\"| | |$53.99', 'price': '$18.99', 'artist': '', 'standard_tags': ['Graphic-design', 'Snake', 'Coral-snake', 'Serpent', 'Symbol', 'Stripes', 'Pattern', 'Red', 'Black', 'Duffle-bag', 'Bag'], 'image_urls': ['https://ctl.s6img.com/society6/img/5hml4KDDedm0EgT6bZ-f3J3ZoCo/w_700/prints/~artwork/s6-original-art-uploads/society6/uploads/misc/a184b65c7b9144a6b702913223039ced/~~/infinity-coral-snake-prints.jpg?wait=0&attempt=0'], 'images': 'full/b1c1f53a2817110013a2b6cf9e0035dfedc8bdef.jpg', 'description': 'Set the tone of your room from the walls out—\"from the ground up\" is so dated. Mix and match your favorite art prints on a gallery wall showcasing everything that makes your style unique. Art prints available in five sizes, from x-small to x-large. *Exact sizing may vary slightly due to printing process, we advise waiting to buy frames until the prints arrive.\\n \\n - Natural white, matte, ultra smooth background \\n - 100% cotton, acid and lignin-free archival paper \\n - Custom trimmed with border for framing; 1\" for x-small and small, 2\" for all larger sizes \\n - Every order is custom made just for you \\n - For more info [click here](https://help.society6.com/hc/en-us/articles/226825667-About-Our-Products)\\n\\n **PRO TIP**: Keep a collection of extra prints on hand to refresh your space for any season or occasion.', 'name': 'Infinity Coral Snake Art Print'}>\n",
      "<Entity('scraped-image-data', 5591961329205248) {'description': 'Set the tone of your room from the walls out—\"from the ground up\" is so dated. Mix and match your favorite art prints on a gallery wall showcasing everything that makes your style unique. Art prints available in five sizes, from x-small to x-large. *Exact sizing may vary slightly due to printing process, we advise waiting to buy frames until the prints arrive.\\n \\n - Natural white, matte, ultra smooth background \\n - 100% cotton, acid and lignin-free archival paper \\n - Custom trimmed with border for framing; 1\" for x-small and small, 2\" for all larger sizes \\n - Every order is custom made just for you \\n - For more info [click here](https://help.society6.com/hc/en-us/articles/226825667-About-Our-Products)\\n\\n **PRO TIP**: Keep a collection of extra prints on hand to refresh your space for any season or occasion.', 'name': 'Sunshine in NYC Art Print', 'page_url': 'https://society6.com/product/sunshine-in-nyc_print', 'checksum': 'fa74feb8b78c5eb03ee873e7f68fb44f', 'sizes': 'X-Small 10\" X 6\"| | |$21.99|Small 19\" X 10\"| | |$27.99|Medium 23\" X 12\"| | |$37.99|Large 28\" X 15\"| | |$50.99|X-Large 40\" X 20\"| | |$74.99', 'standard_tags': ['Painting', 'Watercolor', 'Ink', 'Digital', 'Illustration', 'Realism', 'Expressionism', 'Nyc', 'Panorama', 'Architectural-watercolor', 'Awesome', 'Colorful', 'City', 'Sunset', 'Cityscape', 'New-york'], 'artist': '', 'price': '$21.99', 'image_urls': ['https://ctl.s6img.com/society6/img/0FSN9RgxFjf7xF1BVQUi5j4jwB0/w_700/prints/~artwork/s6-original-art-uploads/society6/uploads/misc/561fe6aa5072468db501edf83b8d729b/~~/sunshine-in-nyc-prints.jpg?wait=0&attempt=0'], 'images': 'full/03425adae71c3d6b50e8e8f814ccb4111f597d31.jpg'}>\n",
      "<Entity('scraped-image-data', 5624582444679168) {'sizes': 'X-Small 10\" X 6\"| | |$20.99|Small 19\" X 10\"| | |$24.99|Medium 23\" X 12\"| | |$30.99|Large 28\" X 15\"| | |$36.99|X-Large 40\" X 20\"| | |$53.99', 'price': '$20.99', 'artist': '', 'standard_tags': ['Graphic-design', 'Hacker', 'Japanese', 'Japan', 'Katakana', 'Hack', 'Geek', 'Nerd', 'Hiragana', 'Otaku', 'Programmer', 'Programming', 'Python', 'Kali', 'Linux', 'Cracker', 'White-hat', 'Gray-hat', 'Black-hat'], 'image_urls': ['https://ctl.s6img.com/society6/img/TbF9pUy43BGvijigzbQ_NgISltk/w_700/prints/~artwork/s6-original-art-uploads/society6/uploads/misc/dd6431fd51a342a190f60842fd7a7d6b/~~/hacker459618-prints.jpg?wait=0&attempt=0'], 'images': 'full/61b05da953b1eb7b1dbad5b05faec63c67ba017b.jpg', 'description': 'Set the tone of your room from the walls out—\"from the ground up\" is so dated. Mix and match your favorite art prints on a gallery wall showcasing everything that makes your style unique. Art prints available in five sizes, from x-small to x-large. *Exact sizing may vary slightly due to printing process, we advise waiting to buy frames until the prints arrive.\\n \\n - Natural white, matte, ultra smooth background \\n - 100% cotton, acid and lignin-free archival paper \\n - Custom trimmed with border for framing; 1\" for x-small and small, 2\" for all larger sizes \\n - Every order is custom made just for you \\n - For more info [click here](https://help.society6.com/hc/en-us/articles/226825667-About-Our-Products)\\n\\n **PRO TIP**: Keep a collection of extra prints on hand to refresh your space for any season or occasion.', 'name': 'Hacker Art Print', 'page_url': 'https://society6.com/product/hacker459618_print', 'checksum': '24bcbe2cd8ae53e1fcb622ed417ff37f'}>\n"
     ]
    },
    {
     "name": "stdout",
     "output_type": "stream",
     "text": [
      "<Entity('scraped-image-data', 5698063429533696) {'images': 'full/0f14f86aee9209f5e66a62885c1de82b46a890a3.jpg', 'description': 'Set the tone of your room from the walls out—\"from the ground up\" is so dated. Mix and match your favorite art prints on a gallery wall showcasing everything that makes your style unique. Art prints available in five sizes, from x-small to x-large. *Exact sizing may vary slightly due to printing process, we advise waiting to buy frames until the prints arrive.\\n \\n - Natural white, matte, ultra smooth background \\n - 100% cotton, acid and lignin-free archival paper \\n - Custom trimmed with border for framing; 1\" for x-small and small, 2\" for all larger sizes \\n - Every order is custom made just for you \\n - For more info [click here](https://help.society6.com/hc/en-us/articles/226825667-About-Our-Products)\\n\\n **PRO TIP**: Keep a collection of extra prints on hand to refresh your space for any season or occasion.', 'name': 'Sunshine in NYC Art Print', 'page_url': 'https://society6.com/product/sunshine-in-nyc186845_print', 'checksum': 'fa74feb8b78c5eb03ee873e7f68fb44f', 'sizes': 'X-Small 10\" X 6\"| | |$20.99|Small 19\" X 10\"| | |$27.99|Medium 23\" X 12\"| | |$37.99|Large 28\" X 15\"| | |$48.99|X-Large 40\" X 20\"| | |$74.99', 'standard_tags': ['Painting', 'Watercolor', 'Illustration', 'Expressionism', 'Street-art', 'Painting', 'Watercolor', 'Architectural-watercolor', 'Nyc', 'City', 'Cityscape', 'New-york', 'Usa', 'Manhattan'], 'artist': '', 'price': '$20.99', 'image_urls': ['https://ctl.s6img.com/society6/img/-KlCY-lrSKh1OCox4ItE2-6RM0U/w_700/prints/~artwork/s6-original-art-uploads/society6/uploads/misc/dfe1aa475f804845aedc331a429a1a05/~~/sunshine-in-nyc186845-prints.jpg?wait=0&attempt=0']}>\n",
      "<Entity('scraped-image-data', 5701081113821184) {'checksum': 'c749ebd3d648e164ce9fa17ad95daae1', 'sizes': 'X-Small 10\" X 6\"| | |$24.99|Small 19\" X 10\"| | |$29.99|Medium 23\" X 13\"| | |$34.99|Large 28\" X 15\"| | |$44.99|X-Large 40\" X 20\"| | |$59.99', 'price': '$24.99', 'artist': '', 'standard_tags': ['Painting', 'Watercolor', 'Ink', 'Other', 'Illustration', 'Realism', 'Vintage', 'Animals', 'Nature', 'Steno-bredanensis', 'Steno', 'Dolphin', 'Marine-mammal', 'Cetacean', 'Sea-creature', 'Sea-life', 'Rough-toothed', 'Steno', 'Dolphins', 'Dolphin-art', 'Dolphin-artwork'], 'image_urls': ['https://ctl.s6img.com/society6/img/SbxlbTMn4gCxhiiV_ptA-y7jUE4/w_700/prints/~artwork/s6-0086/a/33760853_5662932/~~/rough-toothed-dolphin-steno-bredanensis-prints.jpg?wait=0&attempt=0'], 'images': 'full/3585b7087af4a25c0fc62ca5081e3382b556afbf.jpg', 'description': 'Set the tone of your room from the walls out—\"from the ground up\" is so dated. Mix and match your favorite art prints on a gallery wall showcasing everything that makes your style unique. Art prints available in five sizes, from x-small to x-large. *Exact sizing may vary slightly due to printing process, we advise waiting to buy frames until the prints arrive.\\n \\n - Natural white, matte, ultra smooth background \\n - 100% cotton, acid and lignin-free archival paper \\n - Custom trimmed with border for framing; 1\" for x-small and small, 2\" for all larger sizes \\n - Every order is custom made just for you \\n - For more info [click here](https://help.society6.com/hc/en-us/articles/226825667-About-Our-Products)\\n\\n **PRO TIP**: Keep a collection of extra prints on hand to refresh your space for any season or occasion.', 'name': 'Rough-toothed dolphin (Steno bredanensis) Art Print', 'page_url': 'https://society6.com/product/rough-toothed-dolphin-steno-bredanensis_print'}>\n",
      "<Entity('scraped-image-data', 5729757670932480) {'image_urls': ['https://ctl.s6img.com/society6/img/jpNFlaa9waNBzpI8Tb5zXh3bO6I/w_700/prints/~artwork/s6-original-art-uploads/society6/uploads/misc/433984a770774e798c463785056322b7/~~/waking-to-the-wild-and-beautiful-ocean-of-dhin-prints.jpg?wait=0&attempt=0'], 'images': 'full/cc6a66fcfdacde75363389222ac907770c49f05f.jpg', 'description': 'Set the tone of your room from the walls out—\"from the ground up\" is so dated. Mix and match your favorite art prints on a gallery wall showcasing everything that makes your style unique. Art prints available in five sizes, from x-small to x-large. *Exact sizing may vary slightly due to printing process, we advise waiting to buy frames until the prints arrive.\\n \\n - Natural white, matte, ultra smooth background \\n - 100% cotton, acid and lignin-free archival paper \\n - Custom trimmed with border for framing; 1\" for x-small and small, 2\" for all larger sizes \\n - Every order is custom made just for you \\n - For more info [click here](https://help.society6.com/hc/en-us/articles/226825667-About-Our-Products)\\n\\n **PRO TIP**: Keep a collection of extra prints on hand to refresh your space for any season or occasion.', 'name': 'Waking to the Wild and Beautiful Ocean of Dhin Art Print', 'page_url': 'https://society6.com/product/waking-to-the-wild-and-beautiful-ocean-of-dhin_print', 'checksum': '72f92e6d53a46d5ef6276a255309c04c', 'sizes': 'X-Small 10\" X 6\"| | |$26.99|Small 19\" X 10\"| | |$32.99|Medium 23\" X 13\"| | |$41.99|Large 28\" X 15\"| | |$50.99|X-Large 40\" X 20\"| | |$74.99', 'artist': '', 'standard_tags': ['Painting', 'Ocean', 'Shore', 'Tree', 'Red', 'Blue', 'Green', 'Coast', 'Japan', 'Ukiyo-e', 'Kijiermono', 'Ukiyoe', 'Sea', 'Japanese', 'Oriental', 'Asian', 'Vintage', 'Sun', 'Clouds', 'Nature', 'Landscape'], 'price': '$26.99'}>\n",
      "<Entity('scraped-image-data', 6131396470898688) {'page_url': 'https://society6.com/product/sababa-with-punctuation_print', 'checksum': '4f3eaaadc4214c6ed102e79bc0a13dae', 'sizes': 'X-Small 10\" X 5\"| | |$19.99|Small 19\" X 9\"| | |$24.99|Medium 23\" X 12\"| | |$30.99|Large 28\" X 14\"| | |$37.99|X-Large 40\" X 20\"| | |$54.99', 'artist': '', 'standard_tags': ['Graphic-design', 'Typography', 'Black-and-white', 'Sababa', 'Hebrew', 'Jewish', 'Punctuation', 'Cool', 'Humor', 'Rad'], 'price': '$19.99', 'image_urls': ['https://ctl.s6img.com/society6/img/Gu8zokkJ4NeitQ5xHm2CXxb7iuw/w_700/prints/~artwork/s6-original-art-uploads/society6/uploads/misc/e423830dac704c3f84f1b312a15760fc/~~/sababa-with-punctuation-prints.jpg?wait=0&attempt=0'], 'images': 'full/0f61352b88d747ab9becdea98d75f1783e2c1b3f.jpg', 'description': 'Set the tone of your room from the walls out—\"from the ground up\" is so dated. Mix and match your favorite art prints on a gallery wall showcasing everything that makes your style unique. Art prints available in five sizes, from x-small to x-large. *Exact sizing may vary slightly due to printing process, we advise waiting to buy frames until the prints arrive.\\n \\n - Natural white, matte, ultra smooth background \\n - 100% cotton, acid and lignin-free archival paper \\n - Custom trimmed with border for framing; 1\" for x-small and small, 2\" for all larger sizes \\n - Every order is custom made just for you \\n - For more info [click here](https://help.society6.com/hc/en-us/articles/226825667-About-Our-Products)\\n\\n **PRO TIP**: Keep a collection of extra prints on hand to refresh your space for any season or occasion.', 'name': 'Sababa with punctuation Art Print'}>\n",
      "<Entity('scraped-image-data', 6170447018196992) {'sizes': 'X-Small 10\" X 6\"| | |$20.99|Small 19\" X 10\"| | |$25.99|Medium 23\" X 13\"| | |$32.99|Large 28\" X 15\"| | |$39.99|X-Large 40\" X 20\"| | |$57.99', 'price': '$20.99', 'standard_tags': ['Painting', 'Pablo', 'Picasso', 'Henri', 'Matisse', 'Cubism', 'Joan', 'Miro', 'Cubist', 'Greatest', 'Best', 'Unique', 'Famous', 'Surrealism', 'War', 'Peace', 'Surrealist', 'Paintings', 'Painter', 'Painters'], 'artist': '', 'image_urls': ['https://ctl.s6img.com/society6/img/9leZVRKFByD7dh4SlmaJyEX8HyQ/w_700/prints/~artwork/s6-original-art-uploads/society6/uploads/misc/6ee170851f454116b3bad4f7ac312b45/~~/pablo-picasso-guernica-1937-artwork-shirt-art-reproduction-for-prints-posters-tshirts-men-women-prints.jpg?wait=0&attempt=0'], 'images': 'full/5bd0008d781f0d486b00a075e97f361b229de3ac.jpg', 'description': 'Set the tone of your room from the walls out—\"from the ground up\" is so dated. Mix and match your favorite art prints on a gallery wall showcasing everything that makes your style unique. Art prints available in five sizes, from x-small to x-large. *Exact sizing may vary slightly due to printing process, we advise waiting to buy frames until the prints arrive.\\n \\n - Natural white, matte, ultra smooth background \\n - 100% cotton, acid and lignin-free archival paper \\n - Custom trimmed with border for framing; 1\" for x-small and small, 2\" for all larger sizes \\n - Every order is custom made just for you \\n - For more info [click here](https://help.society6.com/hc/en-us/articles/226825667-About-Our-Products)\\n\\n **PRO TIP**: Keep a collection of extra prints on hand to refresh your space for any season or occasion.', 'name': 'Pablo Picasso Guernica 1937 Artwork Shirt, Art Reproduction for Prints Posters Tshirts Men Women Art Print', 'page_url': 'https://society6.com/product/pablo-picasso-guernica-1937-artwork-shirt-art-reproduction-for-prints-posters-tshirts-men-women_print', 'checksum': '8da4b3c0a0f7bc8b5aacb7641875d080'}>\n",
      "<Entity('scraped-image-data', 6279347591708672) {'sizes': 'X-Small 10\" X 6\"| | |$25.99|Small 19\" X 10\"| | |$29.99|Medium 23\" X 12\"| | |$36.99|Large 28\" X 15\"| | |$44.99|X-Large 40\" X 20\"| | |$64.99', 'price': '$25.99', 'artist': '', 'standard_tags': ['Painting', 'Watercolor', 'Ink', 'Miss-maple', 'Nature', 'Glow', 'Blue', 'Lanterns', 'Lake', 'Magic', 'Fireflies'], 'image_urls': ['https://ctl.s6img.com/society6/img/B2Wg23kibs8d5umha8p9N-ivTqo/w_700/prints/~artwork/s6-original-art-uploads/society6/uploads/misc/4863990593654ebd9f811b89ae3195c7/~~/lanterns-on-the-lake1298257-prints.jpg?wait=0&attempt=0'], 'images': 'full/2f4c61137023ad9601e0862ef72034acc9abaab1.jpg', 'description': 'Set the tone of your room from the walls out—\"from the ground up\" is so dated. Mix and match your favorite art prints on a gallery wall showcasing everything that makes your style unique. Art prints available in five sizes, from x-small to x-large. *Exact sizing may vary slightly due to printing process, we advise waiting to buy frames until the prints arrive.\\n \\n - Natural white, matte, ultra smooth background \\n - 100% cotton, acid and lignin-free archival paper \\n - Custom trimmed with border for framing; 1\" for x-small and small, 2\" for all larger sizes \\n - Every order is custom made just for you \\n - For more info [click here](https://help.society6.com/hc/en-us/articles/226825667-About-Our-Products)\\n\\n **PRO TIP**: Keep a collection of extra prints on hand to refresh your space for any season or occasion.', 'name': 'Lanterns On The Lake Art Print', 'page_url': 'https://society6.com/product/lanterns-on-the-lake1298257_print', 'checksum': '1a3e09059055f0a1d259dce81a8383f9'}>\n",
      "<Entity('scraped-image-data', 6312394580033536) {'image_urls': ['https://ctl.s6img.com/society6/img/iwDauGfdaQNvi3R1POOAAbnQ5mg/w_700/prints/~artwork/s6-original-art-uploads/society6/uploads/misc/023fa0866d7b45279f4d48b563d2c5d0/~~/aspensary-forests-prints.jpg?wait=0&attempt=0'], 'images': 'full/dd2ef92d9766cb67df5aff42ac7cf31ec11ceacc.jpg', 'description': 'Set the tone of your room from the walls out—\"from the ground up\" is so dated. Mix and match your favorite art prints on a gallery wall showcasing everything that makes your style unique. Art prints available in five sizes, from x-small to x-large. *Exact sizing may vary slightly due to printing process, we advise waiting to buy frames until the prints arrive.\\n \\n - Natural white, matte, ultra smooth background \\n - 100% cotton, acid and lignin-free archival paper \\n - Custom trimmed with border for framing; 1\" for x-small and small, 2\" for all larger sizes \\n - Every order is custom made just for you \\n - For more info [click here](https://help.society6.com/hc/en-us/articles/226825667-About-Our-Products)\\n\\n **PRO TIP**: Keep a collection of extra prints on hand to refresh your space for any season or occasion.', 'name': 'Aspensary forests Art Print', 'page_url': 'https://society6.com/product/aspensary-forests_print', 'checksum': 'e1cf04386577730dc98af5f64f45bcde', 'sizes': 'X-Small 10\" X 6\"| | |$18.99|Small 19\" X 10\"| | |$23.99|Medium 23\" X 12\"| | |$29.99|Large 28\" X 15\"| | |$35.99|X-Large 40\" X 20\"| | |$53.99', 'price': '$18.99', 'standard_tags': ['Painting', 'Cubism', 'Illustration', 'Fall', 'Aspen', 'Yellow', 'Colorado', 'Mountain', 'Autumn', 'Forest', 'Foliage', 'Golden', 'Leaf', 'Crystal', 'Blue', 'Winter', 'Background', 'Beautiful', 'Mill', 'Color', 'National'], 'artist': ''}>\n",
      "<Entity('scraped-image-data', 6316684413501440) {'sizes': 'X-Small 10\" X 6\"| | |$23.99|Small 19\" X 10\"| | |$28.99|Medium 23\" X 12\"| | |$36.99|Large 28\" X 15\"| | |$44.99|X-Large 40\" X 20\"| | |$64.99', 'artist': '', 'standard_tags': ['Illustration', 'Landscape', 'Painting', 'Sci-fi'], 'price': '$23.99', 'image_urls': ['https://ctl.s6img.com/society6/img/lMD7Nkln4ROKV_VvZFNEk8v2fuk/w_700/prints/~artwork/s6-0055/a/23203819_6642763/~~/1920-iron-wolf-prints.jpg?wait=0&attempt=0'], 'images': 'full/763ac1a7f08638b2a06a2e3d528bb68ec0d3829b.jpg', 'description': 'Set the tone of your room from the walls out—\"from the ground up\" is so dated. Mix and match your favorite art prints on a gallery wall showcasing everything that makes your style unique. Art prints available in five sizes, from x-small to x-large. *Exact sizing may vary slightly due to printing process, we advise waiting to buy frames until the prints arrive.\\n \\n - Natural white, matte, ultra smooth background \\n - 100% cotton, acid and lignin-free archival paper \\n - Custom trimmed with border for framing; 1\" for x-small and small, 2\" for all larger sizes \\n - Every order is custom made just for you \\n - For more info [click here](https://help.society6.com/hc/en-us/articles/226825667-About-Our-Products)\\n\\n **PRO TIP**: Keep a collection of extra prints on hand to refresh your space for any season or occasion.', 'name': '1920 - iron wolf Art Print', 'page_url': 'https://society6.com/product/1920-iron-wolf_print', 'checksum': '0aa8d5fca89fda1015bb08ea3ab7f29b'}>\n",
      "<Entity('scraped-image-data', 6331851050319872) {'page_url': 'https://society6.com/product/whale-diversity-0x326_print', 'checksum': '51b32f7b09f26182c358f4018bb46588', 'sizes': 'X-Small 10\" X 6\"| | |$24.99|Small 19\" X 10\"| | |$29.99|Medium 23\" X 13\"| | |$34.99|Large 28\" X 15\"| | |$44.99|X-Large 40\" X 20\"| | |$59.99', 'standard_tags': ['Painting', 'Watercolor', 'Ink', 'Other', 'Illustration', 'Black-&-white', 'Realism', 'Animals', 'Nature', 'Whales', 'Blue-whale', 'Humpback-whale', 'Whale-design', 'Whale-species', 'Fin-whale', 'Whale-painting', 'Cetacean', 'Whale', 'Animal', 'Whale-lover', 'Whale-lovers'], 'artist': '', 'price': '$24.99', 'image_urls': ['https://ctl.s6img.com/society6/img/B7gBl7FmaIrvu5h2MMVykQbeznM/w_700/prints/~artwork/s6-0079/a/31490187_8832860/~~/whale-diversity-0x326-prints.jpg?wait=0&attempt=0'], 'images': 'full/efd1c62c702a407ef46dfc290c3939fc639bbf43.jpg', 'description': 'Set the tone of your room from the walls out—\"from the ground up\" is so dated. Mix and match your favorite art prints on a gallery wall showcasing everything that makes your style unique. Art prints available in five sizes, from x-small to x-large. *Exact sizing may vary slightly due to printing process, we advise waiting to buy frames until the prints arrive.\\n \\n - Natural white, matte, ultra smooth background \\n - 100% cotton, acid and lignin-free archival paper \\n - Custom trimmed with border for framing; 1\" for x-small and small, 2\" for all larger sizes \\n - Every order is custom made just for you \\n - For more info [click here](https://help.society6.com/hc/en-us/articles/226825667-About-Our-Products)\\n\\n **PRO TIP**: Keep a collection of extra prints on hand to refresh your space for any season or occasion.', 'name': 'Whale diversity Art Print'}>\n",
      "<Entity('scraped-image-data', 6342216651898880) {'description': 'Set the tone of your room from the walls out—\"from the ground up\" is so dated. Mix and match your favorite art prints on a gallery wall showcasing everything that makes your style unique. Art prints available in five sizes, from x-small to x-large. *Exact sizing may vary slightly due to printing process, we advise waiting to buy frames until the prints arrive.\\n \\n - Natural white, matte, ultra smooth background \\n - 100% cotton, acid and lignin-free archival paper \\n - Custom trimmed with border for framing; 1\" for x-small and small, 2\" for all larger sizes \\n - Every order is custom made just for you \\n - For more info [click here](https://help.society6.com/hc/en-us/articles/226825667-About-Our-Products)\\n\\n **PRO TIP**: Keep a collection of extra prints on hand to refresh your space for any season or occasion.', 'name': \"It's Super Effective! Art Print\", 'page_url': 'https://society6.com/product/its-super-effective896642_print', 'checksum': '8917add509db06c561509a49246d9ae3', 'sizes': 'X-Small 10\" X 6\"| | |$18.99|Small 19\" X 10\"| | |$23.99|Medium 23\" X 12\"| | |$29.99|Large 28\" X 15\"| | |$35.99|X-Large 40\" X 20\"| | |$53.99', 'artist': '', 'price': '$18.99', 'standard_tags': ['Graphic-design', 'Digital', 'Typography', 'Video-game', 'Rpg', 'Role-playing-game', 'Turn-based-game', 'Geek', 'Nerd', 'Pop-culture'], 'image_urls': ['https://ctl.s6img.com/society6/img/6-QVAQG7IeNDFVM0QXaxNk9Iudc/w_700/prints/~artwork/s6-original-art-uploads/society6/uploads/misc/4e0c9113ca704bc39e7b8f50e0f1675c/~~/its-super-effective896642-prints.jpg?wait=0&attempt=0'], 'images': 'full/3b6dde2bb21b589d1bbcfaa62b44238c1f485005.jpg'}>\n"
     ]
    },
    {
     "name": "stdout",
     "output_type": "stream",
     "text": [
      "<Entity('scraped-image-data', 6382997802582016) {'images': 'full/61b0473d8a0612227f80934e92373d3924c06a56.jpg', 'description': 'Set the tone of your room from the walls out—\"from the ground up\" is so dated. Mix and match your favorite art prints on a gallery wall showcasing everything that makes your style unique. Art prints available in five sizes, from x-small to x-large. *Exact sizing may vary slightly due to printing process, we advise waiting to buy frames until the prints arrive.\\n \\n - Natural white, matte, ultra smooth background \\n - 100% cotton, acid and lignin-free archival paper \\n - Custom trimmed with border for framing; 1\" for x-small and small, 2\" for all larger sizes \\n - Every order is custom made just for you \\n - For more info [click here](https://help.society6.com/hc/en-us/articles/226825667-About-Our-Products)\\n\\n **PRO TIP**: Keep a collection of extra prints on hand to refresh your space for any season or occasion.', 'name': 'NYC Art Print', 'page_url': 'https://society6.com/product/nyc2250496_print', 'checksum': '7d1feaaaafb69658d8046ccae540366d', 'sizes': 'X-Small 10\" X 6\"| | |$19.99|Small 19\" X 10\"| | |$24.99|Medium 23\" X 13\"| | |$30.99|Large 28\" X 15\"| | |$37.99|X-Large 40\" X 20\"| | |$55.99', 'price': '$19.99', 'standard_tags': ['Photography', 'Black-and-white', 'Nyc', 'New-york-city', 'Manhattan', 'Bridge'], 'artist': '', 'image_urls': ['https://ctl.s6img.com/society6/img/_8WFJn8zlX406El4hWM5ekPeWms/w_700/prints/~artwork/s6-original-art-uploads/society6/uploads/misc/8238b0692f7b4aff98dad8ae36bf94e1/~~/nyc2250496-prints.jpg?wait=0&attempt=0']}>\n",
      "<Entity('scraped-image-data', 6388391073546240) {'sizes': 'X-Small 10\" X 6\"| | |$22.99|Small 19\" X 10\"| | |$27.99|Medium 23\" X 13\"| | |$34.99|Large 28\" X 15\"| | |$42.99|X-Large 40\" X 20\"| | |$62.99', 'standard_tags': ['Drawing', 'Vintage'], 'artist': '', 'price': '$22.99', 'image_urls': ['https://ctl.s6img.com/society6/img/ddfoJoquSd9TtvTZUXRM25rZoRw/w_700/prints/~artwork/s6-0088/a/34294913_7499646/~~/map-of-berkeley-1909-wyp-prints.jpg?wait=0&attempt=0'], 'images': 'full/a68a9cd6cc14587decbf349628e7d8e965a609b0.jpg', 'description': 'Set the tone of your room from the walls out—\"from the ground up\" is so dated. Mix and match your favorite art prints on a gallery wall showcasing everything that makes your style unique. Art prints available in five sizes, from x-small to x-large. *Exact sizing may vary slightly due to printing process, we advise waiting to buy frames until the prints arrive.\\n \\n - Natural white, matte, ultra smooth background \\n - 100% cotton, acid and lignin-free archival paper \\n - Custom trimmed with border for framing; 1\" for x-small and small, 2\" for all larger sizes \\n - Every order is custom made just for you \\n - For more info [click here](https://help.society6.com/hc/en-us/articles/226825667-About-Our-Products)\\n\\n **PRO TIP**: Keep a collection of extra prints on hand to refresh your space for any season or occasion.', 'name': 'Map Of Berkeley 1909 Art Print', 'page_url': 'https://society6.com/product/map-of-berkeley-1909-wyp_print', 'checksum': 'def5205eb99e023ab69dcf4612549389'}>\n",
      "<Entity('scraped-image-data', 6388704841039872) {'description': 'Set the tone of your room from the walls out—\"from the ground up\" is so dated. Mix and match your favorite art prints on a gallery wall showcasing everything that makes your style unique. Art prints available in five sizes, from x-small to x-large. *Exact sizing may vary slightly due to printing process, we advise waiting to buy frames until the prints arrive.\\n \\n - Natural white, matte, ultra smooth background \\n - 100% cotton, acid and lignin-free archival paper \\n - Custom trimmed with border for framing; 1\" for x-small and small, 2\" for all larger sizes \\n - Every order is custom made just for you \\n - For more info [click here](https://help.society6.com/hc/en-us/articles/226825667-About-Our-Products)\\n\\n **PRO TIP**: Keep a collection of extra prints on hand to refresh your space for any season or occasion.', 'name': 'Chapter One (Typewriter) Art Print', 'page_url': 'https://society6.com/product/chapter-one-typewriter_print', 'checksum': '906cb30bc43f302d2b040ef01b09200a', 'sizes': 'X-Small 10\" X 6\"| | |$19.99|Small 19\" X 10\"| | |$24.99|Medium 23\" X 12\"| | |$30.99|Large 28\" X 15\"| | |$37.99|X-Large 40\" X 20\"| | |$54.99', 'price': '$19.99', 'standard_tags': ['Graphic-design', 'Typography', 'Black-and-white', 'Chapter-one', 'New-beginnings', 'Fresh-start', 'Writer', 'Writing', 'Author', 'Reader', 'Reading', 'Reads', 'Loves-reading', 'Bookworm', 'Bibliophile', 'Gifts-for-writers', 'Gifts-for-authors', 'Gifts-for-editors', 'Gifts-for-publishers', 'Gifts-for-librarians', 'Gifts-for-students'], 'artist': '', 'image_urls': ['https://ctl.s6img.com/society6/img/P7lGKNlJbWGxf6khfTFQMMCIZ0Q/w_700/prints/~artwork/s6-original-art-uploads/society6/uploads/misc/dad2b78acd6b4e8bb3a658c0e0a20f00/~~/chapter-one-typewriter-prints.jpg?wait=0&attempt=0'], 'images': 'full/3544c7001503d72d042e59be4171575baa9c1055.jpg'}>\n",
      "<Entity('scraped-image-data', 6408703685165056) {'checksum': '3fe1c9207be28732344c15e313027445', 'sizes': 'X-Small 10\" X 6\"| | |$18.99|Small 19\" X 10\"| | |$23.99|Medium 23\" X 13\"| | |$29.99|Large 28\" X 15\"| | |$35.99|X-Large 40\" X 20\"| | |$53.99', 'standard_tags': ['Painting', 'Watercolor', 'Ink', 'Illustration', 'Bunny', 'Rabbit', 'Flowers', 'Animal', 'Floral', 'Crown'], 'artist': '', 'price': '$18.99', 'image_urls': ['https://ctl.s6img.com/society6/img/pT7PjIwSur5X70OPyXIAijP3nSc/w_700/prints/~artwork/s6-original-art-uploads/society6/uploads/misc/0527db03c1e048ffaa3100942fcf2351/~~/flower-bunnies311845-prints.jpg?wait=0&attempt=0'], 'images': 'full/c34ddb5b881875a4d91abc676274982215cb17e5.jpg', 'description': 'Set the tone of your room from the walls out—\"from the ground up\" is so dated. Mix and match your favorite art prints on a gallery wall showcasing everything that makes your style unique. Art prints available in five sizes, from x-small to x-large. *Exact sizing may vary slightly due to printing process, we advise waiting to buy frames until the prints arrive.\\n \\n - Natural white, matte, ultra smooth background \\n - 100% cotton, acid and lignin-free archival paper \\n - Custom trimmed with border for framing; 1\" for x-small and small, 2\" for all larger sizes \\n - Every order is custom made just for you \\n - For more info [click here](https://help.society6.com/hc/en-us/articles/226825667-About-Our-Products)\\n\\n **PRO TIP**: Keep a collection of extra prints on hand to refresh your space for any season or occasion.', 'name': 'Flower Bunnies Art Print', 'page_url': 'https://society6.com/product/flower-bunnies311845_print'}>\n",
      "<Entity('scraped-image-data', 6415260623831040) {'sizes': 'X-Small 10\" X 5\"| | |$20.99|Small 19\" X 9\"| | |$25.99|Medium 23\" X 12\"| | |$32.99|Large 28\" X 14\"| | |$39.99|X-Large 40\" X 20\"| | |$57.99', 'price': '$20.99', 'standard_tags': ['Graphic-design', 'Digital', 'Fathers-day', 'Cats', 'Love', 'Gift', 'Drawing', 'Catlovers', 'Mugs', 'Family', 'Illustration', 'Typography', 'Pets', 'Dad', 'Design', 'Ilustración', 'Día-del-padre'], 'artist': '', 'image_urls': ['https://ctl.s6img.com/society6/img/-wkykvmpVdb98FQ4AXRhg0KqJyQ/w_700/prints/~artwork/s6-original-art-uploads/society6/uploads/misc/b741193b5c9e4baf9bf65fb2b850141a/~~/fathers-day-love-prints.jpg?wait=0&attempt=0'], 'images': 'full/73f202e3c2b3cfbc0f3b606ae02ad75afc1bcfa6.jpg', 'description': 'Set the tone of your room from the walls out—\"from the ground up\" is so dated. Mix and match your favorite art prints on a gallery wall showcasing everything that makes your style unique. Art prints available in five sizes, from x-small to x-large. *Exact sizing may vary slightly due to printing process, we advise waiting to buy frames until the prints arrive.\\n \\n - Natural white, matte, ultra smooth background \\n - 100% cotton, acid and lignin-free archival paper \\n - Custom trimmed with border for framing; 1\" for x-small and small, 2\" for all larger sizes \\n - Every order is custom made just for you \\n - For more info [click here](https://help.society6.com/hc/en-us/articles/226825667-About-Our-Products)\\n\\n **PRO TIP**: Keep a collection of extra prints on hand to refresh your space for any season or occasion.', 'name': 'Fathers Day Girls Love Art Print', 'page_url': 'https://society6.com/product/fathers-day-love_print', 'checksum': 'af2625a7436e7f3e26a49c73f966c8e2'}>\n",
      "<Entity('scraped-image-data', 6429489716264960) {'sizes': 'X-Small 10\" X 6\"| | |$18.99|Small 19\" X 9\"| | |$23.99|Medium 23\" X 12\"| | |$29.99|Large 28\" X 15\"| | |$35.99|X-Large 40\" X 20\"| | |$52.99', 'artist': '', 'standard_tags': ['Painting', 'Watercolor', 'Race', 'Racing', 'Horse-racing', 'Horse', 'Horses', 'Horse-race', 'Horses-running', 'Secretariat'], 'price': '$18.99', 'image_urls': ['https://ctl.s6img.com/society6/img/6FcX6jbmodXmma93PFGDyzZV0L8/w_700/prints/~artwork/s6-original-art-uploads/society6/uploads/misc/f94d92a8a04543f487db9a0ce84eab32/~~/the-race-no-2-by-kathy-morton-stanion-prints.jpg?wait=0&attempt=0'], 'images': 'full/37a7c1849d38b53d47613ded7bc968c894e49e0f.jpg', 'description': 'Set the tone of your room from the walls out—\"from the ground up\" is so dated. Mix and match your favorite art prints on a gallery wall showcasing everything that makes your style unique. Art prints available in five sizes, from x-small to x-large. *Exact sizing may vary slightly due to printing process, we advise waiting to buy frames until the prints arrive.\\n \\n - Natural white, matte, ultra smooth background \\n - 100% cotton, acid and lignin-free archival paper \\n - Custom trimmed with border for framing; 1\" for x-small and small, 2\" for all larger sizes \\n - Every order is custom made just for you \\n - For more info [click here](https://help.society6.com/hc/en-us/articles/226825667-About-Our-Products)\\n\\n **PRO TIP**: Keep a collection of extra prints on hand to refresh your space for any season or occasion.', 'name': 'The Race No. 2 by Kathy Morton Stanion Art Print', 'page_url': 'https://society6.com/product/the-race-no-2-by-kathy-morton-stanion_print', 'checksum': 'f2e35ee3b4229c16cc062397ca9076fa'}>\n",
      "<Entity('scraped-image-data', 6438973675143168) {'sizes': 'X-Small 10\" X 6\"| | |$21.99|Small 19\" X 10\"| | |$26.99|Medium 23\" X 12\"| | |$33.99|Large 28\" X 15\"| | |$41.99|X-Large 40\" X 20\"| | |$59.99', 'standard_tags': ['Painting', 'Watercolor', 'Painting', 'Superstition', 'Evil-eye', 'Charms', 'Nazars', 'Culture', 'Totems', 'Fantasy', 'Symbols', 'Good-luck', 'Illustration', 'Native', 'Surrealism', 'Annie-st.-germain', 'Annie-st-germain'], 'artist': '', 'price': '$21.99', 'image_urls': ['https://ctl.s6img.com/society6/img/usBrjcWDIQTY18jFJB4IyggJAac/w_700/prints/~artwork/s6-original-art-uploads/society6/uploads/misc/93cd1ea52371422991d565bd6f887879/~~/evil-eyes-montage-prints.jpg?wait=0&attempt=0'], 'images': 'full/3b7f9e33669676eb644877fe46a5bd689d2c9972.jpg', 'description': 'Set the tone of your room from the walls out—\"from the ground up\" is so dated. Mix and match your favorite art prints on a gallery wall showcasing everything that makes your style unique. Art prints available in five sizes, from x-small to x-large. *Exact sizing may vary slightly due to printing process, we advise waiting to buy frames until the prints arrive.\\n \\n - Natural white, matte, ultra smooth background \\n - 100% cotton, acid and lignin-free archival paper \\n - Custom trimmed with border for framing; 1\" for x-small and small, 2\" for all larger sizes \\n - Every order is custom made just for you \\n - For more info [click here](https://help.society6.com/hc/en-us/articles/226825667-About-Our-Products)\\n\\n **PRO TIP**: Keep a collection of extra prints on hand to refresh your space for any season or occasion.', 'name': 'Evil Eyes Montage Art Print', 'page_url': 'https://society6.com/product/evil-eyes-montage_print', 'checksum': 'd1146112efebe5c920790e6f5745965b'}>\n",
      "<Entity('scraped-image-data', 6446473359130624) {'page_url': 'https://society6.com/product/keeping-up1755414_print', 'checksum': 'ee67538b01a969150da57059b909bb67', 'sizes': 'X-Small 10\" X 6\"| | |$18.99|Small 19\" X 10\"| | |$23.99|Medium 23\" X 12\"| | |$29.99|Large 28\" X 15\"| | |$36.99|X-Large 40\" X 20\"| | |$53.99', 'standard_tags': ['Graphic-design', 'Kardashians', 'Kuwtk', 'College', 'Girly', 'Fun', 'Artsy', 'Unique', 'Illustration', 'Glamour', 'Minimalism', 'Different', 'Dorm', 'Cartoon', 'Icon', 'Girl-power', 'Girl-gang', 'Lovely', 'Exciting', 'Selfie', 'Apartment'], 'price': '$18.99', 'artist': '', 'image_urls': ['https://ctl.s6img.com/society6/img/webUTKv4JWrxJKjZ8TTwj9EsEcg/w_700/prints/~artwork/s6-original-art-uploads/society6/uploads/misc/4941a1ae10fc4ea396ddcbf0dd6a3b7a/~~/keeping-up1755414-prints.jpg?wait=0&attempt=0'], 'images': 'full/53ac048f12cc06e2f265223c09671ec98b0e158b.jpg', 'description': 'Set the tone of your room from the walls out—\"from the ground up\" is so dated. Mix and match your favorite art prints on a gallery wall showcasing everything that makes your style unique. Art prints available in five sizes, from x-small to x-large. *Exact sizing may vary slightly due to printing process, we advise waiting to buy frames until the prints arrive.\\n \\n - Natural white, matte, ultra smooth background \\n - 100% cotton, acid and lignin-free archival paper \\n - Custom trimmed with border for framing; 1\" for x-small and small, 2\" for all larger sizes \\n - Every order is custom made just for you \\n - For more info [click here](https://help.society6.com/hc/en-us/articles/226825667-About-Our-Products)\\n\\n **PRO TIP**: Keep a collection of extra prints on hand to refresh your space for any season or occasion.', 'name': 'Keeping Up Art Print'}>\n",
      "<Entity('scraped-image-data', 6503288293818368) {'sizes': 'X-Small 10\" X 6\"| | |$18.99|Small 19\" X 10\"| | |$23.99|Medium 23\" X 13\"| | |$29.99|Large 28\" X 15\"| | |$35.99|X-Large 40\" X 20\"| | |$53.99', 'standard_tags': ['Drawing', 'Long-island', 'Long-island-ny', 'New-york', 'Map', 'Atlas', 'Cartograph', 'Cartography', 'Geography', 'Old', 'Vintage', 'Historical', 'History', 'Antique'], 'artist': '', 'price': '$18.99', 'image_urls': ['https://ctl.s6img.com/society6/img/6dnaTAgogyek1afiXIUiOj8QEoM/w_700/prints/~artwork/s6-original-art-uploads/society6/uploads/misc/4926f7fde6364cfeb847e38d0d284c76/~~/vintage-map-of-long-island-new-york-1842-bw-prints.jpg?wait=0&attempt=0'], 'images': 'full/04284fd52f6b53464418fbae2ac253d174e91831.jpg', 'description': 'Set the tone of your room from the walls out—\"from the ground up\" is so dated. Mix and match your favorite art prints on a gallery wall showcasing everything that makes your style unique. Art prints available in five sizes, from x-small to x-large. *Exact sizing may vary slightly due to printing process, we advise waiting to buy frames until the prints arrive.\\n \\n - Natural white, matte, ultra smooth background \\n - 100% cotton, acid and lignin-free archival paper \\n - Custom trimmed with border for framing; 1\" for x-small and small, 2\" for all larger sizes \\n - Every order is custom made just for you \\n - For more info [click here](https://help.society6.com/hc/en-us/articles/226825667-About-Our-Products)\\n\\n **PRO TIP**: Keep a collection of extra prints on hand to refresh your space for any season or occasion.', 'name': 'Vintage Map of Long Island New York (1842) BW Art Print', 'page_url': 'https://society6.com/product/vintage-map-of-long-island-new-york-1842-bw_print', 'checksum': '92f7c56c2428f623dd80ad25184fbcfd'}>\n",
      "<Entity('scraped-image-data', 6561017351897088) {'description': 'Set the tone of your room from the walls out—\"from the ground up\" is so dated. Mix and match your favorite art prints on a gallery wall showcasing everything that makes your style unique. Art prints available in five sizes, from x-small to x-large. *Exact sizing may vary slightly due to printing process, we advise waiting to buy frames until the prints arrive.\\n \\n - Natural white, matte, ultra smooth background \\n - 100% cotton, acid and lignin-free archival paper \\n - Custom trimmed with border for framing; 1\" for x-small and small, 2\" for all larger sizes \\n - Every order is custom made just for you \\n - For more info [click here](https://help.society6.com/hc/en-us/articles/226825667-About-Our-Products)\\n\\n **PRO TIP**: Keep a collection of extra prints on hand to refresh your space for any season or occasion.', 'name': 'Planetscape #2: Echo Base Art Print', 'page_url': 'https://society6.com/product/planetscape-2-echo-base_print', 'checksum': '75fcc445eb2d5a5e4498a79051968f4d', 'sizes': 'X-Small 10\" X 5\"| | |$24.99|Small 19\" X 9\"| | |$35.99|Medium 23\" X 12\"| | |$46.99|Large 28\" X 14\"| | |$58.99|X-Large 40\" X 20\"| | |$74.99', 'price': '$24.99', 'standard_tags': ['Movies-tv', 'Illustration', 'Landscape', 'Sci-fi'], 'artist': '', 'image_urls': ['https://ctl.s6img.com/society6/img/FFjNqXdQNiKkaDFzBrQFbo4Bd7I/w_700/prints/~artwork/s6-0027/a/13028457_13108652/~~/planetscape-2-echo-base-prints.jpg?wait=0&attempt=0'], 'images': 'full/bac4ce9be795b3a25883f6537a2cf302c9c4b997.jpg'}>\n",
      "<Entity('scraped-image-data', 6576383906021376) {'sizes': 'X-Small 10\" X 6\"| | |$18.99|Small 19\" X 10\"| | |$23.99|Medium 23\" X 12\"| | |$29.99|Large 28\" X 15\"| | |$35.99|X-Large 40\" X 20\"| | |$53.99', 'price': '$18.99', 'standard_tags': ['Drawing', 'Ink-pen', 'Digital', 'Nature', 'People', 'Floral', 'Ornate', 'Forest'], 'artist': '', 'image_urls': ['https://ctl.s6img.com/society6/img/yb6kiyYa-CJ-5v065DDwezc-9w8/w_700/prints/~artwork/s6-original-art-uploads/society6/uploads/misc/697e3831a6fa45edb9fd89bc39cc7f4c/~~/two-sisters1107888-prints.jpg?wait=0&attempt=0'], 'images': 'full/4b1d1680b3805c0d99d623cc1be7ec78d420414f.jpg', 'description': 'Set the tone of your room from the walls out—\"from the ground up\" is so dated. Mix and match your favorite art prints on a gallery wall showcasing everything that makes your style unique. Art prints available in five sizes, from x-small to x-large. *Exact sizing may vary slightly due to printing process, we advise waiting to buy frames until the prints arrive.\\n \\n - Natural white, matte, ultra smooth background \\n - 100% cotton, acid and lignin-free archival paper \\n - Custom trimmed with border for framing; 1\" for x-small and small, 2\" for all larger sizes \\n - Every order is custom made just for you \\n - For more info [click here](https://help.society6.com/hc/en-us/articles/226825667-About-Our-Products)\\n\\n **PRO TIP**: Keep a collection of extra prints on hand to refresh your space for any season or occasion.', 'name': 'Two Sisters Art Print', 'page_url': 'https://society6.com/product/two-sisters1107888_print', 'checksum': '01496adbc6ddd006863f07b012d99c94'}>\n",
      "<Entity('scraped-image-data', 6593837210271744) {'checksum': '227c1dad628745709a1b757e901cb847', 'sizes': 'X-Small 10\" X 5\"| | |$20.99|Small 19\" X 9\"| | |$25.99|Medium 23\" X 12\"| | |$32.99|Large 28\" X 14\"| | |$39.99|X-Large 40\" X 20\"| | |$57.99', 'price': '$20.99', 'artist': '', 'standard_tags': ['Painting', 'Acrylic', 'Ink', 'Abstract', 'Typography', 'Other', 'Nature', 'Collage', 'Birch', 'Tree', 'Orange', 'Blue', 'Heart', 'Quote', 'Fall', 'Floral', 'Digital', 'Pattern', 'Pop-art', 'Trees', 'Painting'], 'image_urls': ['https://ctl.s6img.com/society6/img/sthAsCwfrkQggFtnowZGAh35MiM/w_700/prints/~artwork/s6-0058/a/24485243_15771405/~~/birch-tree-stitch-prints.jpg?wait=0&attempt=0'], 'images': 'full/39df6abd7059b8a7258d946d9067233ee4fa0d55.jpg', 'description': 'Set the tone of your room from the walls out—\"from the ground up\" is so dated. Mix and match your favorite art prints on a gallery wall showcasing everything that makes your style unique. Art prints available in five sizes, from x-small to x-large. *Exact sizing may vary slightly due to printing process, we advise waiting to buy frames until the prints arrive.\\n \\n - Natural white, matte, ultra smooth background \\n - 100% cotton, acid and lignin-free archival paper \\n - Custom trimmed with border for framing; 1\" for x-small and small, 2\" for all larger sizes \\n - Every order is custom made just for you \\n - For more info [click here](https://help.society6.com/hc/en-us/articles/226825667-About-Our-Products)\\n\\n **PRO TIP**: Keep a collection of extra prints on hand to refresh your space for any season or occasion.', 'name': 'Birch Tree Stitch Art Print', 'page_url': 'https://society6.com/product/birch-tree-stitch_print'}>\n",
      "<Entity('scraped-image-data', 6596031334580224) {'checksum': '3e2fb57d52fb1a4acae13373dfb8694b', 'sizes': 'X-Small 10\" X 6\"| | |$42.99|Small 19\" X 9\"| | |$46.99|Medium 23\" X 12\"| | |$52.99|Large 28\" X 14\"| | |$58.99|X-Large 40\" X 20\"| | |$74.99', 'standard_tags': ['Drawing', 'Digital', 'Japan', 'Kids', 'Students', 'Children'], 'artist': '', 'price': '$42.99', 'image_urls': ['https://ctl.s6img.com/society6/img/MHJDRvPC0APnpyoZaOqkA4cdp3k/w_700/prints/~artwork/s6-original-art-uploads/society6/uploads/misc/9bee1e42f25d45dd9ce7f149e49b218c/~~/good-morning-21004646-prints.jpg?wait=0&attempt=0'], 'images': 'full/b924c72dcd59be104195b0ad82aada0672fb24f0.jpg', 'description': 'Set the tone of your room from the walls out—\"from the ground up\" is so dated. Mix and match your favorite art prints on a gallery wall showcasing everything that makes your style unique. Art prints available in five sizes, from x-small to x-large. *Exact sizing may vary slightly due to printing process, we advise waiting to buy frames until the prints arrive.\\n \\n - Natural white, matte, ultra smooth background \\n - 100% cotton, acid and lignin-free archival paper \\n - Custom trimmed with border for framing; 1\" for x-small and small, 2\" for all larger sizes \\n - Every order is custom made just for you \\n - For more info [click here](https://help.society6.com/hc/en-us/articles/226825667-About-Our-Products)\\n\\n **PRO TIP**: Keep a collection of extra prints on hand to refresh your space for any season or occasion.', 'name': 'Good Morning 2 Art Print', 'page_url': 'https://society6.com/product/good-morning-21004646_print'}>\n"
     ]
    },
    {
     "name": "stdout",
     "output_type": "stream",
     "text": [
      "<Entity('scraped-image-data', 6613123895132160) {'image_urls': ['https://ctl.s6img.com/society6/img/womb6FS6DpBy6F0IKysa-xYqWgw/w_700/prints/~artwork/s6-original-art-uploads/society6/uploads/misc/00dfcdb37e6b47df82a63467ce27e961/~~/nude-reading-by-samuel-jessurun-de-mesquita-prints.jpg?wait=0&attempt=0'], 'images': 'full/3e78606129a43513f8f91fa6f9a06fb7cfdf468d.jpg', 'description': 'Set the tone of your room from the walls out—\"from the ground up\" is so dated. Mix and match your favorite art prints on a gallery wall showcasing everything that makes your style unique. Art prints available in five sizes, from x-small to x-large. *Exact sizing may vary slightly due to printing process, we advise waiting to buy frames until the prints arrive.\\n \\n - Natural white, matte, ultra smooth background \\n - 100% cotton, acid and lignin-free archival paper \\n - Custom trimmed with border for framing; 1\" for x-small and small, 2\" for all larger sizes \\n - Every order is custom made just for you \\n - For more info [click here](https://help.society6.com/hc/en-us/articles/226825667-About-Our-Products)\\n\\n **PRO TIP**: Keep a collection of extra prints on hand to refresh your space for any season or occasion.', 'name': 'Nude Reading by Samuel Jessurun de Mesquita Art Print', 'page_url': 'https://society6.com/product/nude-reading-by-samuel-jessurun-de-mesquita_print', 'checksum': 'fc24f711a2a19bdb128306bca6fb4b6c', 'sizes': 'X-Small 10\" X 6\"| | |$22.99|Small 19\" X 10\"| | |$27.99|Medium 23\" X 13\"| | |$34.99|Large 28\" X 15\"| | |$42.99|X-Large 40\" X 20\"| | |$62.99', 'price': '$22.99', 'artist': '', 'standard_tags': ['Graphic-design', 'Woodcut', 'Nude', 'Bookworm', 'Reading', 'Books', 'Woman', 'Vintage', 'Dutch', 'Recline', 'Rest', 'Monochrome', 'Relief', 'Print', 'Decor', 'Blockprint', 'Art', 'Female', 'Book-lover', 'Gift', 'Library']}>\n",
      "<Entity('scraped-image-data', 6645476910694400) {'page_url': 'https://society6.com/product/flat-affect_print', 'checksum': 'cc41dc7855ab39aab976b72173c50510', 'sizes': 'X-Small 10\" X 5\"| | |$31.99|Small 19\" X 9\"| | |$41.99|Medium 23\" X 12\"| | |$52.99|Large 28\" X 14\"| | |$68.99|X-Large 40\" X 20\"| | |$89.99', 'standard_tags': ['Abstract', 'Illustration', 'People', 'Pop-surrealism'], 'price': '$31.99', 'artist': '', 'image_urls': ['https://ctl.s6img.com/society6/img/Gk5A2dnyEnH0c5NLfLx0rGLVgdc/w_700/prints/~artwork/s6-0025/a/10073602_7256665/~~/flat-affect-prints.jpg?wait=0&attempt=0'], 'images': 'full/3537b9f3ea853d0ec63512756001ecb322974f42.jpg', 'description': 'Set the tone of your room from the walls out—\"from the ground up\" is so dated. Mix and match your favorite art prints on a gallery wall showcasing everything that makes your style unique. Art prints available in five sizes, from x-small to x-large. *Exact sizing may vary slightly due to printing process, we advise waiting to buy frames until the prints arrive.\\n \\n - Natural white, matte, ultra smooth background \\n - 100% cotton, acid and lignin-free archival paper \\n - Custom trimmed with border for framing; 1\" for x-small and small, 2\" for all larger sizes \\n - Every order is custom made just for you \\n - For more info [click here](https://help.society6.com/hc/en-us/articles/226825667-About-Our-Products)\\n\\n **PRO TIP**: Keep a collection of extra prints on hand to refresh your space for any season or occasion.', 'name': 'Flat Affect Art Print'}>\n",
      "<Entity('scraped-image-data', 6700269050003456) {'sizes': 'X-Small 10\" X 6\"| | |$29.99|Small 19\" X 10\"| | |$48.99|Medium 23\" X 12\"| | |$64.99|Large 28\" X 15\"| | |$84.99|X-Large 40\" X 20\"| | |$139.99', 'standard_tags': ['Painting', 'Abstract', 'Animals', 'Nature', 'Puffer', 'Puff', 'Pufferfish', 'Puffer-fish', 'Cute', 'Fun', 'Happy', 'Colorful', 'Tropical', 'Beachy', 'Beach', 'Coasta', 'Kids', 'Children', 'Nursery', 'Nautical', 'Rainbow'], 'price': '$29.99', 'artist': '', 'image_urls': ['https://ctl.s6img.com/society6/img/5CNci8s4hw5E07Box_yRTqgaRSs/w_700/prints/~artwork/s6-0031/a/14829709_15814436/~~/puffer-fish-art-blow-puff-by-sharon-cummings-prints.jpg?wait=0&attempt=0'], 'images': 'full/fa110c87142ce9eea517b50487baf6dd34a64bf3.jpg', 'description': 'Set the tone of your room from the walls out—\"from the ground up\" is so dated. Mix and match your favorite art prints on a gallery wall showcasing everything that makes your style unique. Art prints available in five sizes, from x-small to x-large. *Exact sizing may vary slightly due to printing process, we advise waiting to buy frames until the prints arrive.\\n \\n - Natural white, matte, ultra smooth background \\n - 100% cotton, acid and lignin-free archival paper \\n - Custom trimmed with border for framing; 1\" for x-small and small, 2\" for all larger sizes \\n - Every order is custom made just for you \\n - For more info [click here](https://help.society6.com/hc/en-us/articles/226825667-About-Our-Products)\\n\\n **PRO TIP**: Keep a collection of extra prints on hand to refresh your space for any season or occasion.', 'name': 'Puffer Fish Art - Blow Puff - By Sharon Cummings Art Print', 'page_url': 'https://society6.com/product/puffer-fish-art-blow-puff-by-sharon-cummings_print', 'checksum': '3bf9c10016cfea2cf8ac42558d9fc64c'}>\n",
      "<Entity('scraped-image-data', 6714773154562048) {'sizes': 'X-Small 10\" X 6\"| | |$18.99|Small 19\" X 10\"| | |$23.99|Medium 23\" X 12\"| | |$29.99|Large 28\" X 15\"| | |$35.99|X-Large 40\" X 20\"| | |$53.99', 'standard_tags': ['Graphic-design', 'Digital', 'Typography', 'Black-and-white', 'Hillary-clinton', 'Clinton', 'Hillary', 'Quote'], 'artist': '', 'price': '$18.99', 'image_urls': ['https://ctl.s6img.com/society6/img/eImATlnYEYRWDnWvC0HEpXCbF00/w_700/prints/~artwork/s6-original-art-uploads/society6/uploads/misc/21e8c06b5ccb427c8a9c8023cd4fe2e4/~~/build-bridges-not-walls1286214-prints.jpg?wait=0&attempt=0'], 'images': 'full/eb279b121beebc8c8899e837f1d8288e1dfbd5ed.jpg', 'description': 'Set the tone of your room from the walls out—\"from the ground up\" is so dated. Mix and match your favorite art prints on a gallery wall showcasing everything that makes your style unique. Art prints available in five sizes, from x-small to x-large. *Exact sizing may vary slightly due to printing process, we advise waiting to buy frames until the prints arrive.\\n \\n - Natural white, matte, ultra smooth background \\n - 100% cotton, acid and lignin-free archival paper \\n - Custom trimmed with border for framing; 1\" for x-small and small, 2\" for all larger sizes \\n - Every order is custom made just for you \\n - For more info [click here](https://help.society6.com/hc/en-us/articles/226825667-About-Our-Products)\\n\\n **PRO TIP**: Keep a collection of extra prints on hand to refresh your space for any season or occasion.', 'name': 'Build Bridges Not Walls Art Print', 'page_url': 'https://society6.com/product/build-bridges-not-walls1286214_print', 'checksum': 'ff35de1c2c77a3d27f7f4ffc855d5335'}>\n",
      "<Entity('scraped-image-data', 6754446908325888) {'page_url': 'https://society6.com/product/fox826253_print', 'checksum': 'f16ba2428df066f56661409e33495878', 'sizes': 'X-Small 10\" X 6\"| | |$22.99|Small 19\" X 9\"| | |$26.99|Medium 23\" X 12\"| | |$34.99|Large 28\" X 15\"| | |$40.99|X-Large 40\" X 20\"| | |$56.99', 'artist': '', 'standard_tags': ['Painting', 'Digital', 'Acrylic', 'Illustration', 'Painting', 'Drawing', 'Design', 'Red', 'Orange', 'Stretching', 'Animal', 'Animals', 'Wolf', 'Dogs', 'Wolves', 'Zoo', 'Child', 'Foxes', 'Workout', 'Retro', 'Farm'], 'price': '$22.99', 'image_urls': ['https://ctl.s6img.com/society6/img/a3Wn3SZqTjLnvcSlVUT0vNjT030/w_700/prints/~artwork/s6-original-art-uploads/society6/uploads/misc/725f940e6f334c0d987ec02083cf3cd8/~~/fox826253-prints.jpg?wait=0&attempt=0'], 'images': 'full/2f7f65c5776fb5c6ecf56e9532874a51f14308bf.jpg', 'description': 'Set the tone of your room from the walls out—\"from the ground up\" is so dated. Mix and match your favorite art prints on a gallery wall showcasing everything that makes your style unique. Art prints available in five sizes, from x-small to x-large. *Exact sizing may vary slightly due to printing process, we advise waiting to buy frames until the prints arrive.\\n \\n - Natural white, matte, ultra smooth background \\n - 100% cotton, acid and lignin-free archival paper \\n - Custom trimmed with border for framing; 1\" for x-small and small, 2\" for all larger sizes \\n - Every order is custom made just for you \\n - For more info [click here](https://help.society6.com/hc/en-us/articles/226825667-About-Our-Products)\\n\\n **PRO TIP**: Keep a collection of extra prints on hand to refresh your space for any season or occasion.', 'name': 'Fox 2 Art Print'}>\n"
     ]
    }
   ],
   "source": [
    "# get sizes for all the art that we've seen in s6... so this way we can size specific items\n",
    "data = entities['reader_data']\n",
    "\n",
    "sizes = set()\n",
    "\n",
    "for aid, entity in data.items():\n",
    "\n",
    "    for size in entity['sizes'].split('| | |'):\n",
    "        no_price = size.split('|')[-1]\n",
    "\n",
    "        if '$' in no_price:\n",
    "            continue\n",
    "        sizes.add(no_price)\n",
    "        if no_price == 'X-Large 40\" X 20\"':\n",
    "            print(entity)"
   ]
  },
  {
   "cell_type": "code",
   "execution_count": 13,
   "metadata": {},
   "outputs": [
    {
     "data": {
      "text/plain": [
       "{'',\n",
       " 'Large 10\" X 28\"',\n",
       " 'Large 11\" X 28\"',\n",
       " 'Large 12\" X 28\"',\n",
       " 'Large 13\" X 28\"',\n",
       " 'Large 14\" X 28\"',\n",
       " 'Large 15\" X 28\"',\n",
       " 'Large 16\" X 28\"',\n",
       " 'Large 17\" X 28\"',\n",
       " 'Large 18\" X 28\"',\n",
       " 'Large 19\" X 28\"',\n",
       " 'Large 20\" X 28\"',\n",
       " 'Large 21\" X 28\"',\n",
       " 'Large 22\" X 22\"',\n",
       " 'Large 22\" X 23\"',\n",
       " 'Large 22\" X 24\"',\n",
       " 'Large 22\" X 25\"',\n",
       " 'Large 22\" X 26\"',\n",
       " 'Large 22\" X 27\"',\n",
       " 'Large 22\" X 28\"',\n",
       " 'Large 23\" X 22\"',\n",
       " 'Large 24\" X 22\"',\n",
       " 'Large 25\" X 22\"',\n",
       " 'Large 26\" X 22\"',\n",
       " 'Large 27\" X 22\"',\n",
       " 'Large 28\" X 10\"',\n",
       " 'Large 28\" X 11\"',\n",
       " 'Large 28\" X 12\"',\n",
       " 'Large 28\" X 13\"',\n",
       " 'Large 28\" X 14\"',\n",
       " 'Large 28\" X 15\"',\n",
       " 'Large 28\" X 16\"',\n",
       " 'Large 28\" X 17\"',\n",
       " 'Large 28\" X 18\"',\n",
       " 'Large 28\" X 19\"',\n",
       " 'Large 28\" X 20\"',\n",
       " 'Large 28\" X 21\"',\n",
       " 'Large 28\" X 22\"',\n",
       " 'Large 28\" X 7\"',\n",
       " 'Large 28\" X 8\"',\n",
       " 'Large 28\" X 9\"',\n",
       " 'Large 7\" X 28\"',\n",
       " 'Large 8\" X 28\"',\n",
       " 'Large 9\" X 28\"',\n",
       " 'Medium 10\" X 23\"',\n",
       " 'Medium 11\" X 23\"',\n",
       " 'Medium 12\" X 23\"',\n",
       " 'Medium 13\" X 23\"',\n",
       " 'Medium 14\" X 23\"',\n",
       " 'Medium 15\" X 23\"',\n",
       " 'Medium 16\" X 23\"',\n",
       " 'Medium 17\" X 17\"',\n",
       " 'Medium 17\" X 18\"',\n",
       " 'Medium 17\" X 19\"',\n",
       " 'Medium 17\" X 20\"',\n",
       " 'Medium 17\" X 21\"',\n",
       " 'Medium 17\" X 22\"',\n",
       " 'Medium 17\" X 23\"',\n",
       " 'Medium 18\" X 17\"',\n",
       " 'Medium 19\" X 17\"',\n",
       " 'Medium 20\" X 17\"',\n",
       " 'Medium 21\" X 17\"',\n",
       " 'Medium 22\" X 17\"',\n",
       " 'Medium 23\" X 10\"',\n",
       " 'Medium 23\" X 11\"',\n",
       " 'Medium 23\" X 12\"',\n",
       " 'Medium 23\" X 13\"',\n",
       " 'Medium 23\" X 14\"',\n",
       " 'Medium 23\" X 15\"',\n",
       " 'Medium 23\" X 16\"',\n",
       " 'Medium 23\" X 17\"',\n",
       " 'Medium 23\" X 7\"',\n",
       " 'Medium 23\" X 8\"',\n",
       " 'Medium 23\" X 9\"',\n",
       " 'Medium 7\" X 23\"',\n",
       " 'Medium 8\" X 23\"',\n",
       " 'Medium 9\" X 23\"',\n",
       " 'Small 10\" X 19\"',\n",
       " 'Small 11\" X 19\"',\n",
       " 'Small 12\" X 19\"',\n",
       " 'Small 13\" X 13\"',\n",
       " 'Small 13\" X 14\"',\n",
       " 'Small 13\" X 15\"',\n",
       " 'Small 13\" X 16\"',\n",
       " 'Small 13\" X 17\"',\n",
       " 'Small 13\" X 18\"',\n",
       " 'Small 13\" X 19\"',\n",
       " 'Small 14\" X 13\"',\n",
       " 'Small 15\" X 13\"',\n",
       " 'Small 16\" X 13\"',\n",
       " 'Small 17\" X 13\"',\n",
       " 'Small 18\" X 13\"',\n",
       " 'Small 19\" X 10\"',\n",
       " 'Small 19\" X 11\"',\n",
       " 'Small 19\" X 12\"',\n",
       " 'Small 19\" X 13\"',\n",
       " 'Small 19\" X 4\"',\n",
       " 'Small 19\" X 5\"',\n",
       " 'Small 19\" X 6\"',\n",
       " 'Small 19\" X 7\"',\n",
       " 'Small 19\" X 8\"',\n",
       " 'Small 19\" X 9\"',\n",
       " 'Small 4\" X 19\"',\n",
       " 'Small 5\" X 19\"',\n",
       " 'Small 6\" X 19\"',\n",
       " 'Small 7\" X 19\"',\n",
       " 'Small 8\" X 19\"',\n",
       " 'Small 9\" X 19\"',\n",
       " 'X-Large 10\" X 40\"',\n",
       " 'X-Large 11\" X 40\"',\n",
       " 'X-Large 12\" X 40\"',\n",
       " 'X-Large 13\" X 40\"',\n",
       " 'X-Large 14\" X 40\"',\n",
       " 'X-Large 15\" X 40\"',\n",
       " 'X-Large 16\" X 40\"',\n",
       " 'X-Large 17\" X 40\"',\n",
       " 'X-Large 18\" X 40\"',\n",
       " 'X-Large 19\" X 40\"',\n",
       " 'X-Large 20\" X 40\"',\n",
       " 'X-Large 21\" X 40\"',\n",
       " 'X-Large 22\" X 40\"',\n",
       " 'X-Large 23\" X 40\"',\n",
       " 'X-Large 24\" X 40\"',\n",
       " 'X-Large 25\" X 40\"',\n",
       " 'X-Large 26\" X 40\"',\n",
       " 'X-Large 27\" X 40\"',\n",
       " 'X-Large 28\" X 28\"',\n",
       " 'X-Large 28\" X 29\"',\n",
       " 'X-Large 28\" X 30\"',\n",
       " 'X-Large 28\" X 31\"',\n",
       " 'X-Large 28\" X 32\"',\n",
       " 'X-Large 28\" X 33\"',\n",
       " 'X-Large 28\" X 34\"',\n",
       " 'X-Large 28\" X 35\"',\n",
       " 'X-Large 28\" X 36\"',\n",
       " 'X-Large 28\" X 37\"',\n",
       " 'X-Large 28\" X 38\"',\n",
       " 'X-Large 28\" X 39\"',\n",
       " 'X-Large 28\" X 40\"',\n",
       " 'X-Large 29\" X 28\"',\n",
       " 'X-Large 30\" X 28\"',\n",
       " 'X-Large 31\" X 28\"',\n",
       " 'X-Large 32\" X 28\"',\n",
       " 'X-Large 33\" X 28\"',\n",
       " 'X-Large 34\" X 28\"',\n",
       " 'X-Large 35\" X 28\"',\n",
       " 'X-Large 36\" X 28\"',\n",
       " 'X-Large 37\" X 28\"',\n",
       " 'X-Large 38\" X 28\"',\n",
       " 'X-Large 39\" X 28\"',\n",
       " 'X-Large 40\" X 10\"',\n",
       " 'X-Large 40\" X 11\"',\n",
       " 'X-Large 40\" X 12\"',\n",
       " 'X-Large 40\" X 13\"',\n",
       " 'X-Large 40\" X 14\"',\n",
       " 'X-Large 40\" X 15\"',\n",
       " 'X-Large 40\" X 16\"',\n",
       " 'X-Large 40\" X 17\"',\n",
       " 'X-Large 40\" X 18\"',\n",
       " 'X-Large 40\" X 19\"',\n",
       " 'X-Large 40\" X 20\"',\n",
       " 'X-Large 40\" X 21\"',\n",
       " 'X-Large 40\" X 22\"',\n",
       " 'X-Large 40\" X 23\"',\n",
       " 'X-Large 40\" X 24\"',\n",
       " 'X-Large 40\" X 25\"',\n",
       " 'X-Large 40\" X 26\"',\n",
       " 'X-Large 40\" X 27\"',\n",
       " 'X-Large 40\" X 28\"',\n",
       " 'X-Large 40\" X 9\"',\n",
       " 'X-Large 9\" X 40\"',\n",
       " 'X-Small 10\" X 3\"',\n",
       " 'X-Small 10\" X 4\"',\n",
       " 'X-Small 10\" X 5\"',\n",
       " 'X-Small 10\" X 6\"',\n",
       " 'X-Small 10\" X 7\"',\n",
       " 'X-Small 10\" X 8\"',\n",
       " 'X-Small 3\" X 10\"',\n",
       " 'X-Small 4\" X 10\"',\n",
       " 'X-Small 5\" X 10\"',\n",
       " 'X-Small 6\" X 10\"',\n",
       " 'X-Small 7\" X 10\"',\n",
       " 'X-Small 8\" X 10\"',\n",
       " 'X-Small 8\" X 8\"',\n",
       " 'X-Small 8\" X 9\"',\n",
       " 'X-Small 9\" X 8\"'}"
      ]
     },
     "execution_count": 13,
     "metadata": {},
     "output_type": "execute_result"
    }
   ],
   "source": [
    "sizes"
   ]
  },
  {
   "cell_type": "code",
   "execution_count": 2,
   "metadata": {},
   "outputs": [],
   "source": [
    "import random\n",
    "import pickle"
   ]
  },
  {
   "cell_type": "code",
   "execution_count": 25,
   "metadata": {},
   "outputs": [
    {
     "ename": "TypeError",
     "evalue": "an integer is required (got type dict)",
     "output_type": "error",
     "traceback": [
      "\u001b[0;31m---------------------------------------------------------------------------\u001b[0m",
      "\u001b[0;31mTypeError\u001b[0m                                 Traceback (most recent call last)",
      "\u001b[0;32m<ipython-input-25-ee808898118c>\u001b[0m in \u001b[0;36m<module>\u001b[0;34m\u001b[0m\n\u001b[1;32m      1\u001b[0m \u001b[0;32mwith\u001b[0m \u001b[0mopen\u001b[0m\u001b[0;34m(\u001b[0m\u001b[0;34m'tag_data.pkl'\u001b[0m\u001b[0;34m,\u001b[0m \u001b[0;34m'wb'\u001b[0m\u001b[0;34m)\u001b[0m \u001b[0;32mas\u001b[0m \u001b[0mf\u001b[0m\u001b[0;34m:\u001b[0m\u001b[0;34m\u001b[0m\u001b[0;34m\u001b[0m\u001b[0m\n\u001b[0;32m----> 2\u001b[0;31m     \u001b[0mpickle\u001b[0m\u001b[0;34m.\u001b[0m\u001b[0mdumps\u001b[0m\u001b[0;34m(\u001b[0m\u001b[0mf\u001b[0m\u001b[0;34m,\u001b[0m \u001b[0mdata\u001b[0m\u001b[0;34m)\u001b[0m\u001b[0;34m\u001b[0m\u001b[0;34m\u001b[0m\u001b[0m\n\u001b[0m",
      "\u001b[0;31mTypeError\u001b[0m: an integer is required (got type dict)"
     ]
    }
   ],
   "source": [
    "with open('tag_data.pkl', 'wb') as f:\n",
    "    pickle.dumps(f, data)"
   ]
  },
  {
   "cell_type": "code",
   "execution_count": 3,
   "metadata": {},
   "outputs": [],
   "source": [
    "with open('tag_data.pkl', 'rb') as f:\n",
    "    data = pickle.load(f)"
   ]
  },
  {
   "cell_type": "code",
   "execution_count": 6,
   "metadata": {},
   "outputs": [],
   "source": [
    "# do tfidf across all tag scores... then write with tf-idf along with ID-references for each tag (don't index)\n",
    "# data = entities['reader_data']\n",
    "aids = []\n",
    "tags = []\n",
    "for aid, entity in data.items():\n",
    "#     for st in entity['standard_tags']:\n",
    "#         if st in tags:\n",
    "#             tags[st] += 1\n",
    "#         else:\n",
    "#             tags[st] = 0\n",
    "            \n",
    "    tags.append(' '.join(entity['standard_tags']))\n",
    "    aids.append(aid)\n",
    "    \n",
    "tag_data = pd.DataFrame({'aids': aids, 'tags': tags})\n",
    "tag_data['tags'] = tag_data['tags'].map(lambda x: x.lower())"
   ]
  },
  {
   "cell_type": "code",
   "execution_count": 7,
   "metadata": {},
   "outputs": [
    {
     "data": {
      "text/plain": [
       "105000"
      ]
     },
     "execution_count": 7,
     "metadata": {},
     "output_type": "execute_result"
    }
   ],
   "source": [
    "len(tag_data)"
   ]
  },
  {
   "cell_type": "code",
   "execution_count": 8,
   "metadata": {},
   "outputs": [
    {
     "data": {
      "text/plain": [
       "0         painting crow raven black-bird forest woods na...\n",
       "1                      collage olivia newton-john evolution\n",
       "2         graphic-design nanatsu-no-taizai nanatsu melio...\n",
       "3         graphic-design skeleton mountain forest trees ...\n",
       "4         painting digital acrylic oil cowboy wild-west ...\n",
       "                                ...                        \n",
       "104995    painting watercolor digital pattern illustrati...\n",
       "104996    graphic-design watercolor pattern watercolor s...\n",
       "104997    graphic-design floral mid-century-modern minim...\n",
       "104998    graphic-design pattern tiger cute simple baby ...\n",
       "104999                    movies-tv typography vector humor\n",
       "Name: tags, Length: 105000, dtype: object"
      ]
     },
     "execution_count": 8,
     "metadata": {},
     "output_type": "execute_result"
    }
   ],
   "source": [
    "tag_data['tags']"
   ]
  },
  {
   "cell_type": "code",
   "execution_count": 10,
   "metadata": {},
   "outputs": [],
   "source": [
    "tagl = []\n",
    "counts = []\n",
    "for t,c in tags.items(): \n",
    "    tagl.append(t)\n",
    "    counts.append(c)\n",
    "    \n",
    "tcount = pd.DataFrame({'tags': tagl, 'counts': counts})"
   ]
  },
  {
   "cell_type": "code",
   "execution_count": 16,
   "metadata": {},
   "outputs": [],
   "source": [
    "tcount = tcount.sort_values('counts', ascending=False)"
   ]
  },
  {
   "cell_type": "code",
   "execution_count": 22,
   "metadata": {},
   "outputs": [],
   "source": [
    "tcount.iloc[:16000].to_csv('tag_counts.csv', index=False)"
   ]
  },
  {
   "cell_type": "code",
   "execution_count": null,
   "metadata": {},
   "outputs": [],
   "source": []
  },
  {
   "cell_type": "code",
   "execution_count": 11,
   "metadata": {},
   "outputs": [],
   "source": [
    "tcount.to_csv('tag_counts')"
   ]
  },
  {
   "cell_type": "code",
   "execution_count": null,
   "metadata": {},
   "outputs": [],
   "source": [
    "pd.DataFrame({'tag': [])"
   ]
  },
  {
   "cell_type": "code",
   "execution_count": 13,
   "metadata": {},
   "outputs": [],
   "source": [
    "ranked_results = sorted(tags, key=lambda x: -tags[x])"
   ]
  },
  {
   "cell_type": "code",
   "execution_count": 16,
   "metadata": {},
   "outputs": [],
   "source": [
    "import json\n",
    "with open('tag_suggestions.json', 'w') as f:\n",
    "    f.write(json.dumps(ranked_results[:1000]))"
   ]
  },
  {
   "cell_type": "code",
   "execution_count": 94,
   "metadata": {},
   "outputs": [
    {
     "data": {
      "text/plain": [
       "'graphic-design digital typography africa african africans south-africa black continent nigeria congo somalia mali tanzania ivory-coast chad togo liberia angola sierra-leone madagascar'"
      ]
     },
     "execution_count": 94,
     "metadata": {},
     "output_type": "execute_result"
    }
   ],
   "source": [
    "tag_data[tag_data['tags'].map(lambda x: '-africa' in x)].tags.values[0]"
   ]
  },
  {
   "cell_type": "code",
   "execution_count": 72,
   "metadata": {},
   "outputs": [],
   "source": [
    "tag_data['tags'] = tag_data['tags'].map(lambda x: x.replace('\\n', '').replace('\\r', '').replace('----', '-').replace('---', '-').replace('--', '-'))\n",
    "\n"
   ]
  },
  {
   "cell_type": "code",
   "execution_count": 11,
   "metadata": {},
   "outputs": [],
   "source": [
    "vectorizer = TfidfVectorizer(token_pattern=\"(?u)\\\\b[\\\\w-]+\\\\b\", max_features=1000)\n",
    "X = vectorizer.fit_transform(tag_data['tags'])"
   ]
  },
  {
   "cell_type": "code",
   "execution_count": 32,
   "metadata": {},
   "outputs": [],
   "source": [
    "from sklearn.decomposition import PCA\n",
    "pca = PCA(n_components=100)\n",
    "feature_fullX = pca.fit_transform(fullX)"
   ]
  },
  {
   "cell_type": "code",
   "execution_count": 23,
   "metadata": {},
   "outputs": [],
   "source": [
    "fullX = X.toarray()"
   ]
  },
  {
   "cell_type": "code",
   "execution_count": 35,
   "metadata": {},
   "outputs": [],
   "source": [
    "tag_data['embedding'] = tag_data.index.map(lambda i: feature_fullX[i])"
   ]
  },
  {
   "cell_type": "code",
   "execution_count": 38,
   "metadata": {},
   "outputs": [],
   "source": [
    "aids = tag_data['aids'].values\n",
    "embeds = tag_data['embedding'].values"
   ]
  },
  {
   "cell_type": "code",
   "execution_count": 40,
   "metadata": {},
   "outputs": [],
   "source": [
    "with open('ordered_aids.npy', 'wb') as f:\n",
    "    np.save(f, aids)"
   ]
  },
  {
   "cell_type": "code",
   "execution_count": 41,
   "metadata": {},
   "outputs": [],
   "source": [
    "with open('tag_embeddings.npy', 'wb') as f:\n",
    "    np.save(f, embeds)"
   ]
  },
  {
   "cell_type": "code",
   "execution_count": 98,
   "metadata": {},
   "outputs": [],
   "source": [
    "counts = (X>0).sum(axis=0)"
   ]
  },
  {
   "cell_type": "code",
   "execution_count": 99,
   "metadata": {},
   "outputs": [],
   "source": [
    "sums = X.sum(axis=0)"
   ]
  },
  {
   "cell_type": "code",
   "execution_count": 100,
   "metadata": {},
   "outputs": [],
   "source": [
    "# get average scores and number of items with the tag\n",
    "feature_names = vectorizer.get_feature_names()"
   ]
  },
  {
   "cell_type": "code",
   "execution_count": 101,
   "metadata": {},
   "outputs": [],
   "source": [
    "tags_values = {}\n",
    "for s,c,n in zip((sums/counts).T, counts.T, feature_names):\n",
    "    tags_values[n] = {'score': float(s[0]), 'count': int(c[0])} "
   ]
  },
  {
   "cell_type": "code",
   "execution_count": 102,
   "metadata": {},
   "outputs": [],
   "source": [
    "tag_df = pd.DataFrame().from_dict(tags_values, orient='index')"
   ]
  },
  {
   "cell_type": "code",
   "execution_count": 115,
   "metadata": {},
   "outputs": [],
   "source": [
    "from sklearn import preprocessing\n",
    "tag_df['scaled_score'] = preprocessing.StandardScaler().fit_transform(tag_df['score'].values.reshape(-1, 1))\n",
    "tag_df['scaled_count'] = preprocessing.StandardScaler().fit_transform(np.log(tag_df['count']).values.reshape(-1, 1))"
   ]
  },
  {
   "cell_type": "code",
   "execution_count": 130,
   "metadata": {},
   "outputs": [],
   "source": [
    "tag_df['weighted_score'] = tag_df['scaled_score'] + tag_df['scaled_count'] - (tag_df['count']<500)*5"
   ]
  },
  {
   "cell_type": "code",
   "execution_count": 131,
   "metadata": {},
   "outputs": [
    {
     "data": {
      "text/html": [
       "<div>\n",
       "<style scoped>\n",
       "    .dataframe tbody tr th:only-of-type {\n",
       "        vertical-align: middle;\n",
       "    }\n",
       "\n",
       "    .dataframe tbody tr th {\n",
       "        vertical-align: top;\n",
       "    }\n",
       "\n",
       "    .dataframe thead th {\n",
       "        text-align: right;\n",
       "    }\n",
       "</style>\n",
       "<table border=\"1\" class=\"dataframe\">\n",
       "  <thead>\n",
       "    <tr style=\"text-align: right;\">\n",
       "      <th></th>\n",
       "      <th>score</th>\n",
       "      <th>count</th>\n",
       "      <th>scaled_score</th>\n",
       "      <th>scaled_count</th>\n",
       "      <th>weighted_score</th>\n",
       "    </tr>\n",
       "  </thead>\n",
       "  <tbody>\n",
       "    <tr>\n",
       "      <th>movies-tv</th>\n",
       "      <td>0.530465</td>\n",
       "      <td>1492</td>\n",
       "      <td>2.116284</td>\n",
       "      <td>5.984994</td>\n",
       "      <td>8.101278</td>\n",
       "    </tr>\n",
       "    <tr>\n",
       "      <th>people</th>\n",
       "      <td>0.381834</td>\n",
       "      <td>2804</td>\n",
       "      <td>0.412476</td>\n",
       "      <td>6.551202</td>\n",
       "      <td>6.963678</td>\n",
       "    </tr>\n",
       "    <tr>\n",
       "      <th>black-white</th>\n",
       "      <td>0.378960</td>\n",
       "      <td>2350</td>\n",
       "      <td>0.379521</td>\n",
       "      <td>6.392690</td>\n",
       "      <td>6.772210</td>\n",
       "    </tr>\n",
       "    <tr>\n",
       "      <th>mixed-media</th>\n",
       "      <td>0.385580</td>\n",
       "      <td>1840</td>\n",
       "      <td>0.455407</td>\n",
       "      <td>6.173136</td>\n",
       "      <td>6.628543</td>\n",
       "    </tr>\n",
       "    <tr>\n",
       "      <th>childrens</th>\n",
       "      <td>0.392433</td>\n",
       "      <td>1512</td>\n",
       "      <td>0.533967</td>\n",
       "      <td>5.996944</td>\n",
       "      <td>6.530910</td>\n",
       "    </tr>\n",
       "    <tr>\n",
       "      <th>illustration</th>\n",
       "      <td>0.169336</td>\n",
       "      <td>22894</td>\n",
       "      <td>-2.023476</td>\n",
       "      <td>8.435629</td>\n",
       "      <td>6.412154</td>\n",
       "    </tr>\n",
       "    <tr>\n",
       "      <th>painting</th>\n",
       "      <td>0.138124</td>\n",
       "      <td>30047</td>\n",
       "      <td>-2.381275</td>\n",
       "      <td>8.679627</td>\n",
       "      <td>6.298352</td>\n",
       "    </tr>\n",
       "    <tr>\n",
       "      <th>digital</th>\n",
       "      <td>0.103666</td>\n",
       "      <td>45098</td>\n",
       "      <td>-2.776274</td>\n",
       "      <td>9.044047</td>\n",
       "      <td>6.267773</td>\n",
       "    </tr>\n",
       "    <tr>\n",
       "      <th>animals</th>\n",
       "      <td>0.257337</td>\n",
       "      <td>6012</td>\n",
       "      <td>-1.014686</td>\n",
       "      <td>7.235674</td>\n",
       "      <td>6.220987</td>\n",
       "    </tr>\n",
       "    <tr>\n",
       "      <th>graphic-design</th>\n",
       "      <td>0.100786</td>\n",
       "      <td>40379</td>\n",
       "      <td>-2.809287</td>\n",
       "      <td>8.944857</td>\n",
       "      <td>6.135570</td>\n",
       "    </tr>\n",
       "    <tr>\n",
       "      <th>nature</th>\n",
       "      <td>0.160821</td>\n",
       "      <td>17037</td>\n",
       "      <td>-2.121086</td>\n",
       "      <td>8.170453</td>\n",
       "      <td>6.049367</td>\n",
       "    </tr>\n",
       "    <tr>\n",
       "      <th>abstract</th>\n",
       "      <td>0.158731</td>\n",
       "      <td>17418</td>\n",
       "      <td>-2.145049</td>\n",
       "      <td>8.190301</td>\n",
       "      <td>6.045252</td>\n",
       "    </tr>\n",
       "    <tr>\n",
       "      <th>collage</th>\n",
       "      <td>0.265907</td>\n",
       "      <td>4311</td>\n",
       "      <td>-0.916444</td>\n",
       "      <td>6.937203</td>\n",
       "      <td>6.020759</td>\n",
       "    </tr>\n",
       "    <tr>\n",
       "      <th>pattern</th>\n",
       "      <td>0.133357</td>\n",
       "      <td>23115</td>\n",
       "      <td>-2.435913</td>\n",
       "      <td>8.444251</td>\n",
       "      <td>6.008338</td>\n",
       "    </tr>\n",
       "    <tr>\n",
       "      <th>vector</th>\n",
       "      <td>0.262836</td>\n",
       "      <td>4407</td>\n",
       "      <td>-0.951646</td>\n",
       "      <td>6.956968</td>\n",
       "      <td>6.005322</td>\n",
       "    </tr>\n",
       "    <tr>\n",
       "      <th>drawing</th>\n",
       "      <td>0.138536</td>\n",
       "      <td>21113</td>\n",
       "      <td>-2.376552</td>\n",
       "      <td>8.362951</td>\n",
       "      <td>5.986399</td>\n",
       "    </tr>\n",
       "    <tr>\n",
       "      <th>photography</th>\n",
       "      <td>0.169860</td>\n",
       "      <td>13274</td>\n",
       "      <td>-2.017466</td>\n",
       "      <td>7.946475</td>\n",
       "      <td>5.929009</td>\n",
       "    </tr>\n",
       "    <tr>\n",
       "      <th>landscape</th>\n",
       "      <td>0.217130</td>\n",
       "      <td>6946</td>\n",
       "      <td>-1.475596</td>\n",
       "      <td>7.365269</td>\n",
       "      <td>5.889672</td>\n",
       "    </tr>\n",
       "    <tr>\n",
       "      <th>humor</th>\n",
       "      <td>0.250385</td>\n",
       "      <td>4449</td>\n",
       "      <td>-1.094379</td>\n",
       "      <td>6.965480</td>\n",
       "      <td>5.871102</td>\n",
       "    </tr>\n",
       "    <tr>\n",
       "      <th>pop-art</th>\n",
       "      <td>0.185623</td>\n",
       "      <td>10111</td>\n",
       "      <td>-1.836768</td>\n",
       "      <td>7.702212</td>\n",
       "      <td>5.865444</td>\n",
       "    </tr>\n",
       "  </tbody>\n",
       "</table>\n",
       "</div>"
      ],
      "text/plain": [
       "                   score  count  scaled_score  scaled_count  weighted_score\n",
       "movies-tv       0.530465   1492      2.116284      5.984994        8.101278\n",
       "people          0.381834   2804      0.412476      6.551202        6.963678\n",
       "black-white     0.378960   2350      0.379521      6.392690        6.772210\n",
       "mixed-media     0.385580   1840      0.455407      6.173136        6.628543\n",
       "childrens       0.392433   1512      0.533967      5.996944        6.530910\n",
       "illustration    0.169336  22894     -2.023476      8.435629        6.412154\n",
       "painting        0.138124  30047     -2.381275      8.679627        6.298352\n",
       "digital         0.103666  45098     -2.776274      9.044047        6.267773\n",
       "animals         0.257337   6012     -1.014686      7.235674        6.220987\n",
       "graphic-design  0.100786  40379     -2.809287      8.944857        6.135570\n",
       "nature          0.160821  17037     -2.121086      8.170453        6.049367\n",
       "abstract        0.158731  17418     -2.145049      8.190301        6.045252\n",
       "collage         0.265907   4311     -0.916444      6.937203        6.020759\n",
       "pattern         0.133357  23115     -2.435913      8.444251        6.008338\n",
       "vector          0.262836   4407     -0.951646      6.956968        6.005322\n",
       "drawing         0.138536  21113     -2.376552      8.362951        5.986399\n",
       "photography     0.169860  13274     -2.017466      7.946475        5.929009\n",
       "landscape       0.217130   6946     -1.475596      7.365269        5.889672\n",
       "humor           0.250385   4449     -1.094379      6.965480        5.871102\n",
       "pop-art         0.185623  10111     -1.836768      7.702212        5.865444"
      ]
     },
     "execution_count": 131,
     "metadata": {},
     "output_type": "execute_result"
    }
   ],
   "source": [
    "tag_df[tag_df['count']>1000].sort_values('weighted_score', ascending=False).iloc[:20]"
   ]
  },
  {
   "cell_type": "code",
   "execution_count": 132,
   "metadata": {},
   "outputs": [],
   "source": [
    "tag_dict = tag_df[['weighted_score', 'score', 'count']].sort_values('weighted_score', ascending=False).to_dict(orient='index')"
   ]
  },
  {
   "cell_type": "code",
   "execution_count": 2,
   "metadata": {},
   "outputs": [
    {
     "name": "stderr",
     "output_type": "stream",
     "text": [
      "/Users/mike/Projects/envs/.env_deco_primrose/lib/python3.7/site-packages/google/auth/_default.py:69: UserWarning: Your application has authenticated using end user credentials from Google Cloud SDK. We recommend that most server applications use service accounts instead. If your application continues to use end user credentials from Cloud SDK, you might receive a \"quota exceeded\" or \"API not enabled\" error. For more information about service accounts, see https://cloud.google.com/docs/authentication/\n",
      "  warnings.warn(_CLOUD_SDK_CREDENTIALS_WARNING)\n"
     ]
    }
   ],
   "source": [
    "from utilities.datastore_helpers import DataStoreInterface\n",
    "\n",
    "dsi = DataStoreInterface(project='artsnob-1')"
   ]
  },
  {
   "cell_type": "code",
   "execution_count": 137,
   "metadata": {},
   "outputs": [],
   "source": [
    "ids = []\n",
    "data = []\n",
    "\n",
    "for t, keys in tag_dict.items():\n",
    "    data.append(keys)\n",
    "    ids.append(t)"
   ]
  },
  {
   "cell_type": "code",
   "execution_count": 141,
   "metadata": {},
   "outputs": [],
   "source": [
    "dsi.update(data_list=data, ids=ids, kind='11122020-tag-scores')"
   ]
  },
  {
   "cell_type": "code",
   "execution_count": 11,
   "metadata": {},
   "outputs": [],
   "source": [
    "\"\"\"Read in csv of tags made by chloe\"\"\"\n",
    "tcs = pd.read_csv('./tag counts for deco art - Vibes.csv')"
   ]
  },
  {
   "cell_type": "code",
   "execution_count": 12,
   "metadata": {},
   "outputs": [],
   "source": [
    "tcs.Tags = tcs.Tags.map(lambda x: [i.strip(' ') for i in x.split(',')])"
   ]
  },
  {
   "cell_type": "code",
   "execution_count": 16,
   "metadata": {},
   "outputs": [],
   "source": [
    "data = []\n",
    "for idx, d in tcs.to_dict(orient='index').items():\n",
    "    data.append(d)"
   ]
  },
  {
   "cell_type": "code",
   "execution_count": 17,
   "metadata": {},
   "outputs": [
    {
     "data": {
      "text/plain": [
       "[{'Vibes': 'Beachy Bohemian ',\n",
       "  'Tagline': 'Hear the surf',\n",
       "  'Tags': ['Ocean', 'Summer', 'Beach', 'Boho', 'Texture', 'Bohemian']},\n",
       " {'Vibes': 'Minimalist',\n",
       "  'Tagline': 'Cool, calm, collected',\n",
       "  'Tags': ['Minimalism',\n",
       "   'Simple',\n",
       "   'Monochrome',\n",
       "   'Geometry',\n",
       "   'Mid-century',\n",
       "   'Abstract']},\n",
       " {'Vibes': 'Victorian Chic',\n",
       "  'Tagline': 'Uptown drama',\n",
       "  'Tags': ['Vintage', 'Portrait', 'Victorian']},\n",
       " {'Vibes': 'Cozy Cottage',\n",
       "  'Tagline': 'Down a country lane',\n",
       "  'Tags': ['Landscape', 'Flowers', 'Sunset']},\n",
       " {'Vibes': 'Downtown Pop', 'Tagline': 'Kaboom!', 'Tags': ['Pop-art']},\n",
       " {'Vibes': 'Witchy Coven',\n",
       "  'Tagline': 'On a rising moon',\n",
       "  'Tags': ['Ink-pen',\n",
       "   'Tarot',\n",
       "   'Star',\n",
       "   'Magic',\n",
       "   'Fantasy',\n",
       "   'Clouds',\n",
       "   'Galaxy']},\n",
       " {'Vibes': 'On Safari',\n",
       "  'Tagline': 'In the jungle',\n",
       "  'Tags': ['Plants', 'Botanical', 'Animal', 'Jungle', 'Wildlife', 'Flora']},\n",
       " {'Vibes': 'Movie madness',\n",
       "  'Tagline': 'For the culture vultures',\n",
       "  'Tags': ['Comics', 'gaming', 'movies-tv']},\n",
       " {'Vibes': 'Street art',\n",
       "  'Tagline': 'Urban rebellion',\n",
       "  'Tags': ['street', 'street-art']}]"
      ]
     },
     "execution_count": 17,
     "metadata": {},
     "output_type": "execute_result"
    }
   ],
   "source": [
    "dsi.update(data_list=data, kind='11122020-tag-scores')"
   ]
  }
 ],
 "metadata": {
  "kernelspec": {
   "display_name": "deco_primrose",
   "language": "python",
   "name": "deco_primrose"
  },
  "language_info": {
   "codemirror_mode": {
    "name": "ipython",
    "version": 3
   },
   "file_extension": ".py",
   "mimetype": "text/x-python",
   "name": "python",
   "nbconvert_exporter": "python",
   "pygments_lexer": "ipython3",
   "version": "3.7.7"
  }
 },
 "nbformat": 4,
 "nbformat_minor": 4
}
