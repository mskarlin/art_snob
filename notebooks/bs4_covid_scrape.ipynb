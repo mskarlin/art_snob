{
 "cells": [
  {
   "cell_type": "code",
   "execution_count": 1,
   "metadata": {},
   "outputs": [],
   "source": [
    "import requests\n",
    "from bs4 import BeautifulSoup"
   ]
  },
  {
   "cell_type": "code",
   "execution_count": 39,
   "metadata": {},
   "outputs": [],
   "source": [
    "r = requests.get('https://nycvaccinelist.com/?includeDose=unspecified')"
   ]
  },
  {
   "cell_type": "code",
   "execution_count": 40,
   "metadata": {},
   "outputs": [],
   "source": [
    "soup = BeautifulSoup(r.text, 'html.parser')"
   ]
  },
  {
   "cell_type": "code",
   "execution_count": 41,
   "metadata": {},
   "outputs": [],
   "source": [
    "locations = soup.find_all(class_=\"leading-6 mt-6\")"
   ]
  },
  {
   "cell_type": "code",
   "execution_count": 52,
   "metadata": {},
   "outputs": [],
   "source": [
    "location_text = [l.get_text() for l in locations]\n",
    "no_vf = [l for l in location_text if 'See NYC Vaccine' not in l]\n",
    "no_second_dose = [l for l in no_vf if 'Second Dose' not in l]\n",
    "not_no_openings = [l for l in no_second_dose if 'No openings' not in l]\n",
    "zip_filter = [l for l in not_no_openings if ('zip codes' in l and '10023' in l) or 'zip codes' not in l]\n",
    "strip_updated = [l[:l.find('Updated ')]+l[l.find('Updated ')+30:] for l in zip_filter]\n",
    "not_age_65_up = [l for l in strip_updated if 'Age 65+ only' not in l]\n"
   ]
  },
  {
   "cell_type": "code",
   "execution_count": 53,
   "metadata": {},
   "outputs": [
    {
     "data": {
      "text/plain": [
       "['Capsule Pharmacy at Teachers Preparatory High School - First Dose (Brooklyn)226 Bristol Street Brooklyn, NY 11212Sign up: Only for Brooklyn residents. See scheduling page for details. 5 available appointments on Wed Feb 24Wed, Feb 24: 5 available ',\n",
       " 'HSS at Martin Van Buren High School - First Dose (Queens)230-17 Hillside Avenue Queens, NY 11427Sign up: For those who live or work in NYC 1 available appointment on Wed Feb 24Wed, Feb 24: 1 available ',\n",
       " 'A. Philip Randolph Campus High School - First Dose (Manhattan)443 West 135th Street Manhattan, NY 10031Sign up: For those who live or work in NYC 1 available appointment on Thu Feb 25Thu, Feb 25: 1 available ',\n",
       " 'Bronx High School of Science - First Dose (Bronx)75 West 205th Street Bronx, NY 10468Sign up: For those who live or work in NYC 5 available appointments on Thu Feb 25 and Fri Feb 26Thu, Feb 25: 1 available Fri, Feb 26: 4 available ',\n",
       " 'Morris Academy for Collaborative Studies - First Dose (Bronx)1110 Boston Road Bronx, NY 10456Sign up: For those who live or work in NYC 1 available appointment on Fri Feb 26Fri, Feb 26: 1 available ',\n",
       " 'Science Skill Center High School - First Dose (Brooklyn)49 Flatbush Avenue Extension Brooklyn, NY 11201Sign ups: For those who live or work in NYC 1 available appointment on Fri Feb 26Fri, Feb 26: 1 available ',\n",
       " 'Empire Outlets - First Dose (Staten Island)55 Richmond Terrace Staten Island, NY 10301Sign up: For those who live or work in NYC 1 available appointment on Thu Mar 04Thu, Mar 04: 1 available ']"
      ]
     },
     "execution_count": 53,
     "metadata": {},
     "output_type": "execute_result"
    }
   ],
   "source": [
    "not_age_65_up"
   ]
  },
  {
   "cell_type": "code",
   "execution_count": 36,
   "metadata": {},
   "outputs": [
    {
     "data": {
      "text/plain": [
       "11"
      ]
     },
     "execution_count": 36,
     "metadata": {},
     "output_type": "execute_result"
    }
   ],
   "source": [
    "len(strip_updated)"
   ]
  },
  {
   "cell_type": "code",
   "execution_count": 37,
   "metadata": {},
   "outputs": [
    {
     "data": {
      "text/plain": [
       "11"
      ]
     },
     "execution_count": 37,
     "metadata": {},
     "output_type": "execute_result"
    }
   ],
   "source": [
    "len(not_age_65_up)"
   ]
  },
  {
   "cell_type": "code",
   "execution_count": null,
   "metadata": {},
   "outputs": [],
   "source": []
  },
  {
   "cell_type": "code",
   "execution_count": 28,
   "metadata": {},
   "outputs": [],
   "source": [
    "import hashlib\n",
    "def hash_item(s):\n",
    "    return int(hashlib.sha256(s.encode('utf-8')).hexdigest(), 16) % 10**8"
   ]
  },
  {
   "cell_type": "code",
   "execution_count": 32,
   "metadata": {},
   "outputs": [
    {
     "data": {
      "text/plain": [
       "22687833"
      ]
     },
     "execution_count": 32,
     "metadata": {},
     "output_type": "execute_result"
    }
   ],
   "source": [
    "hash_item(not_age_65_up[3])"
   ]
  },
  {
   "cell_type": "code",
   "execution_count": null,
   "metadata": {},
   "outputs": [],
   "source": [
    "r = requests.get('https://nycvaccinelist.com/area/Manhattan?includeDose=unspecified')"
   ]
  }
 ],
 "metadata": {
  "kernelspec": {
   "display_name": "Python 3",
   "language": "python",
   "name": "python3"
  },
  "language_info": {
   "codemirror_mode": {
    "name": "ipython",
    "version": 3
   },
   "file_extension": ".py",
   "mimetype": "text/x-python",
   "name": "python",
   "nbconvert_exporter": "python",
   "pygments_lexer": "ipython3",
   "version": "3.7.7"
  }
 },
 "nbformat": 4,
 "nbformat_minor": 4
}
