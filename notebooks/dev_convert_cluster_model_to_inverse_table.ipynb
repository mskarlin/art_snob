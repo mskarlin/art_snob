{
 "cells": [
  {
   "cell_type": "code",
   "execution_count": 1,
   "metadata": {},
   "outputs": [],
   "source": [
    "import hashlib\n",
    "import numpy as np\n",
    "import pandas as pd\n",
    "import copy\n",
    "import random\n",
    "import pickle\n",
    "\n",
    "class DistanceClusterModel():\n",
    "    \n",
    "    def __init__(self, cluster_centers=None, key_map=None, nn_tree=None, distance_mat=None):\n",
    "        self.cluster_centers = copy.deepcopy(cluster_centers)\n",
    "        self.key_map = copy.deepcopy(key_map)\n",
    "        self.nn_tree = copy.deepcopy(nn_tree)\n",
    "        self.distance_mat = copy.deepcopy(distance_mat)\n",
    "        \n",
    "    def save(self, name='12012020-distance-cluster-model.pkl'):\n",
    "        save_dict = {'cluster_centers': self.cluster_centers, 'key_map': self.key_map,\n",
    "                    'nn_tree': self.nn_tree, 'distance_mat': self.distance_mat}\n",
    "        \n",
    "        with open(name, 'wb') as f:\n",
    "            pickle.dump(save_dict, f)\n",
    "        \n",
    "    def load(self, name):\n",
    "        with open(name, 'rb') as f:\n",
    "            save_dict = pickle.load(f)\n",
    "        \n",
    "        self.cluster_centers = save_dict['cluster_centers']\n",
    "        self.key_map = save_dict['key_map']\n",
    "        self.nn_tree = save_dict['nn_tree']\n",
    "        self.distance_mat = save_dict['distance_mat']"
   ]
  },
  {
   "cell_type": "code",
   "execution_count": 2,
   "metadata": {},
   "outputs": [],
   "source": [
    "\"\"\"read dcm into memory to re-write\"\"\"\n",
    "dcm = DistanceClusterModel()\n",
    "dcm.load('12012020-distance-cluster-model.pkl')"
   ]
  },
  {
   "cell_type": "code",
   "execution_count": 46,
   "metadata": {},
   "outputs": [],
   "source": [
    "\"\"\"Examine a cluster center, to see if it's the same as what's already been written\"\"\"\n",
    "# cluster_num = 1\n",
    "def all_cluster_ordered_keys(cluster_num):\n",
    "    dist, n_idx = dcm.nn_tree.query([dcm.cluster_centers[cluster_num]], k=len(dcm.key_map))\n",
    "    return [int(k) for k in dcm.key_map[n_idx][0]]\n",
    "# \"\"\"NOTE IT IS NOT, SO WE NEED TO WRITE NEW DATA, AND PULL EXISTING DATA TO MAKE SURE WE'RE MATCHING\"\"\""
   ]
  },
  {
   "cell_type": "code",
   "execution_count": 6,
   "metadata": {},
   "outputs": [],
   "source": [
    "import sys\n",
    "import os\n",
    "sys.path.insert(0,f'{os.getcwd()}/../art_snob_primrose/')\n",
    "from src.datastore_reader import DataStoreReader"
   ]
  },
  {
   "cell_type": "code",
   "execution_count": 7,
   "metadata": {},
   "outputs": [
    {
     "name": "stderr",
     "output_type": "stream",
     "text": [
      "/Users/mike/Projects/envs/.env_deco_primrose/lib/python3.7/site-packages/google/auth/_default.py:69: UserWarning: Your application has authenticated using end user credentials from Google Cloud SDK. We recommend that most server applications use service accounts instead. If your application continues to use end user credentials from Cloud SDK, you might receive a \"quota exceeded\" or \"API not enabled\" error. For more information about service accounts, see https://cloud.google.com/docs/authentication/\n",
      "  warnings.warn(_CLOUD_SDK_CREDENTIALS_WARNING)\n",
      "2021-01-27 16:28:32,936 INFO datastore_reader.py execute: Starting datastore read from kind: 11292020-inverse-cluster-index\n",
      "2021-01-27 16:28:34,326 INFO datastore_reader.py execute: Read down 100 records from kind: 11292020-inverse-cluster-index\n"
     ]
    }
   ],
   "source": [
    "# get all the features from datastore\n",
    "project='artsnob-1'\n",
    "kind='11292020-inverse-cluster-index'\n",
    "\n",
    "dsr = DataStoreReader()\n",
    "entities = dsr.execute(project, kind, max_records=None)"
   ]
  },
  {
   "cell_type": "code",
   "execution_count": 25,
   "metadata": {},
   "outputs": [],
   "source": [
    "\"\"\"get art cluster definitions to add to backend\"\"\"\n",
    "art_cluster_def = pd.read_csv('art_cluster_descriptions.csv').to_dict()['Description']"
   ]
  },
  {
   "cell_type": "code",
   "execution_count": 47,
   "metadata": {},
   "outputs": [],
   "source": [
    "\"\"\"Now we loop across each cluster and make a new entry for the DB\"\"\"\n",
    "updated_sorted_clusters = []\n",
    "updated_sorted_cluster_keys = [i for i in range(1,101)]\n",
    "\n",
    "for cluster_key in updated_sorted_cluster_keys:\n",
    "    all_ordered_keys = all_cluster_ordered_keys(cluster_key-1)\n",
    "    cluster_unordered_keys = set(entities['reader_data'][cluster_key]['idx'])\n",
    "    cluster_centroid = entities['reader_data'][cluster_key]['centroid']\n",
    "    cluster_ordered_keys = [k for k in all_ordered_keys if k in cluster_unordered_keys]\n",
    "    if set(cluster_ordered_keys) != set(cluster_unordered_keys):\n",
    "        print(f'Mismatch with cluster {cluster_key}')\n",
    "        break\n",
    "    updated_sorted_clusters.append({'centroid': cluster_centroid, \n",
    "                                    'idx': cluster_ordered_keys, \n",
    "                                    'description': art_cluster_def[cluster_key-1]})"
   ]
  },
  {
   "cell_type": "code",
   "execution_count": 55,
   "metadata": {},
   "outputs": [
    {
     "name": "stderr",
     "output_type": "stream",
     "text": [
      "/Users/mike/Projects/envs/.env_deco_primrose/lib/python3.7/site-packages/google/auth/_default.py:69: UserWarning: Your application has authenticated using end user credentials from Google Cloud SDK. We recommend that most server applications use service accounts instead. If your application continues to use end user credentials from Cloud SDK, you might receive a \"quota exceeded\" or \"API not enabled\" error. For more information about service accounts, see https://cloud.google.com/docs/authentication/\n",
      "  warnings.warn(_CLOUD_SDK_CREDENTIALS_WARNING)\n"
     ]
    }
   ],
   "source": [
    "\"\"\"Now upload new inverse index to ds\"\"\"\n",
    "# write inverse cluster index to the db\n",
    "from utilities.datastore_helpers import DataStoreInterface\n",
    "dsi = DataStoreInterface(project='artsnob-1')\n",
    "dsi.update(data_list=updated_sorted_clusters, ids=updated_sorted_cluster_keys, kind='01272021-inverse-cluster-index')"
   ]
  }
 ],
 "metadata": {
  "kernelspec": {
   "display_name": "deco_primrose",
   "language": "python",
   "name": "deco_primrose"
  },
  "language_info": {
   "codemirror_mode": {
    "name": "ipython",
    "version": 3
   },
   "file_extension": ".py",
   "mimetype": "text/x-python",
   "name": "python",
   "nbconvert_exporter": "python",
   "pygments_lexer": "ipython3",
   "version": "3.7.7"
  }
 },
 "nbformat": 4,
 "nbformat_minor": 4
}
